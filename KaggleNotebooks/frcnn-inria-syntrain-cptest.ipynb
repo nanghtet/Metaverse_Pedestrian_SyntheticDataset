{
 "cells": [
  {
   "cell_type": "code",
   "execution_count": 1,
   "id": "344a94ac",
   "metadata": {
    "execution": {
     "iopub.execute_input": "2024-06-19T16:10:38.941999Z",
     "iopub.status.busy": "2024-06-19T16:10:38.941129Z",
     "iopub.status.idle": "2024-06-19T16:10:39.654250Z",
     "shell.execute_reply": "2024-06-19T16:10:39.653508Z"
    },
    "papermill": {
     "duration": 0.722036,
     "end_time": "2024-06-19T16:10:39.656482",
     "exception": false,
     "start_time": "2024-06-19T16:10:38.934446",
     "status": "completed"
    },
    "tags": []
   },
   "outputs": [],
   "source": [
    "# This Python 3 environment comes with many helpful analytics libraries installed\n",
    "# It is defined by the kaggle/python Docker image: https://github.com/kaggle/docker-python\n",
    "# For example, here's several helpful packages to load\n",
    "\n",
    "import numpy as np # linear algebra\n",
    "import pandas as pd # data processing, CSV file I/O (e.g. pd.read_csv)\n",
    "\n",
    "# Input data files are available in the read-only \"../input/\" directory\n",
    "# For example, running this (by clicking run or pressing Shift+Enter) will list all files under the input directory\n",
    "\n",
    "import os\n",
    "# for dirname, _, filenames in os.walk('/kaggle/input'):\n",
    "#     for filename in filenames:\n",
    "#         print(os.path.join(dirname, filename))\n",
    "\n",
    "# You can write up to 20GB to the current directory (/kaggle/working/) that gets preserved as output when you create a version using \"Save & Run All\" \n",
    "# You can also write temporary files to /kaggle/temp/, but they won't be saved outside of the current session"
   ]
  },
  {
   "cell_type": "code",
   "execution_count": 2,
   "id": "7eff909b",
   "metadata": {
    "execution": {
     "iopub.execute_input": "2024-06-19T16:10:39.667495Z",
     "iopub.status.busy": "2024-06-19T16:10:39.667101Z",
     "iopub.status.idle": "2024-06-19T16:12:20.636023Z",
     "shell.execute_reply": "2024-06-19T16:12:20.634560Z"
    },
    "papermill": {
     "duration": 100.977029,
     "end_time": "2024-06-19T16:12:20.638622",
     "exception": false,
     "start_time": "2024-06-19T16:10:39.661593",
     "status": "completed"
    },
    "tags": []
   },
   "outputs": [
    {
     "name": "stdout",
     "output_type": "stream",
     "text": [
      "Cloning into 'vision'...\r\n",
      "remote: Enumerating objects: 531477, done.\u001b[K\r\n",
      "remote: Counting objects: 100% (45087/45087), done.\u001b[K\r\n",
      "remote: Compressing objects: 100% (2109/2109), done.\u001b[K\r\n",
      "remote: Total 531477 (delta 43041), reused 44882 (delta 42905), pack-reused 486390\u001b[K\r\n",
      "Receiving objects: 100% (531477/531477), 1022.60 MiB | 28.58 MiB/s, done.\r\n",
      "Resolving deltas: 100% (496276/496276), done.\r\n",
      "fatal: not a git repository (or any parent up to mount point /kaggle)\r\n",
      "Stopping at filesystem boundary (GIT_DISCOVERY_ACROSS_FILESYSTEM not set).\r\n"
     ]
    }
   ],
   "source": [
    "# Download TorchVision repo to use some files from\n",
    "# references/detection\n",
    "!pip install pycocotools --quiet\n",
    "!git clone https://github.com/pytorch/vision.git\n",
    "!git checkout v0.3.0\n",
    "\n",
    "!cp vision/references/detection/utils.py ./\n",
    "!cp vision/references/detection/transforms.py ./\n",
    "!cp vision/references/detection/coco_eval.py ./\n",
    "!cp vision/references/detection/engine.py ./\n",
    "!cp vision/references/detection/coco_utils.py ./"
   ]
  },
  {
   "cell_type": "code",
   "execution_count": 3,
   "id": "6452eda8",
   "metadata": {
    "execution": {
     "iopub.execute_input": "2024-06-19T16:12:20.677502Z",
     "iopub.status.busy": "2024-06-19T16:12:20.677120Z",
     "iopub.status.idle": "2024-06-19T16:12:27.141236Z",
     "shell.execute_reply": "2024-06-19T16:12:27.140379Z"
    },
    "papermill": {
     "duration": 6.486391,
     "end_time": "2024-06-19T16:12:27.143513",
     "exception": false,
     "start_time": "2024-06-19T16:12:20.657122",
     "status": "completed"
    },
    "tags": []
   },
   "outputs": [],
   "source": [
    "# Basic python and ML Libraries\n",
    "import os\n",
    "import random\n",
    "import numpy as np\n",
    "import pandas as pd\n",
    "# for ignoring warnings\n",
    "import warnings\n",
    "warnings.filterwarnings('ignore')\n",
    "\n",
    "# We will be reading images using OpenCV\n",
    "import cv2\n",
    "\n",
    "# xml library for parsing xml files\n",
    "from xml.etree import ElementTree as et\n",
    "\n",
    "# matplotlib for visualization\n",
    "import matplotlib.pyplot as plt\n",
    "import matplotlib.patches as patches\n",
    "\n",
    "# torchvision libraries\n",
    "import torch\n",
    "from torch.utils.data import ConcatDataset\n",
    "\n",
    "from torch.utils.data import Subset\n",
    "import torchvision\n",
    "from torchvision import transforms as torchtrans  \n",
    "from torchvision.models.detection.faster_rcnn import FastRCNNPredictor\n",
    "\n",
    "# these are the helper libraries imported.\n",
    "from engine import train_one_epoch, evaluate\n",
    "import utils\n",
    "import transforms as T\n",
    "\n",
    "# for image augmentations\n",
    "import albumentations as A\n",
    "from albumentations.pytorch.transforms import ToTensorV2"
   ]
  },
  {
   "cell_type": "code",
   "execution_count": 4,
   "id": "0866352a",
   "metadata": {
    "execution": {
     "iopub.execute_input": "2024-06-19T16:12:27.183366Z",
     "iopub.status.busy": "2024-06-19T16:12:27.182600Z",
     "iopub.status.idle": "2024-06-19T16:12:31.225707Z",
     "shell.execute_reply": "2024-06-19T16:12:31.224493Z"
    },
    "papermill": {
     "duration": 4.06588,
     "end_time": "2024-06-19T16:12:31.228042",
     "exception": false,
     "start_time": "2024-06-19T16:12:27.162162",
     "status": "completed"
    },
    "tags": []
   },
   "outputs": [],
   "source": [
    "mkdir -p /kaggle/working/train-inriaperson && cp -r /kaggle/input/inriaperson/Train/Annotations/* /kaggle/working/train-inriaperson"
   ]
  },
  {
   "cell_type": "code",
   "execution_count": 5,
   "id": "65a996c0",
   "metadata": {
    "execution": {
     "iopub.execute_input": "2024-06-19T16:12:31.266459Z",
     "iopub.status.busy": "2024-06-19T16:12:31.266066Z",
     "iopub.status.idle": "2024-06-19T16:12:40.200896Z",
     "shell.execute_reply": "2024-06-19T16:12:40.199794Z"
    },
    "papermill": {
     "duration": 8.956546,
     "end_time": "2024-06-19T16:12:40.203182",
     "exception": false,
     "start_time": "2024-06-19T16:12:31.246636",
     "status": "completed"
    },
    "tags": []
   },
   "outputs": [],
   "source": [
    "cp -r /kaggle/input/inriaperson/Train/JPEGImages/* /kaggle/working/train-inriaperson"
   ]
  },
  {
   "cell_type": "code",
   "execution_count": 6,
   "id": "96edac10",
   "metadata": {
    "execution": {
     "iopub.execute_input": "2024-06-19T16:12:40.241395Z",
     "iopub.status.busy": "2024-06-19T16:12:40.241029Z",
     "iopub.status.idle": "2024-06-19T16:12:40.245616Z",
     "shell.execute_reply": "2024-06-19T16:12:40.244833Z"
    },
    "papermill": {
     "duration": 0.025845,
     "end_time": "2024-06-19T16:12:40.247448",
     "exception": false,
     "start_time": "2024-06-19T16:12:40.221603",
     "status": "completed"
    },
    "tags": []
   },
   "outputs": [],
   "source": [
    "# defining the files directory and testing directory\n",
    "train_dir = '/kaggle/working/train-inriaperson'\n",
    "test_dir = '/kaggle/input/citypersons-testselection/NewTest'"
   ]
  },
  {
   "cell_type": "code",
   "execution_count": 7,
   "id": "36e070ad",
   "metadata": {
    "execution": {
     "iopub.execute_input": "2024-06-19T16:12:40.284827Z",
     "iopub.status.busy": "2024-06-19T16:12:40.284553Z",
     "iopub.status.idle": "2024-06-19T16:12:40.288524Z",
     "shell.execute_reply": "2024-06-19T16:12:40.287676Z"
    },
    "papermill": {
     "duration": 0.024974,
     "end_time": "2024-06-19T16:12:40.290551",
     "exception": false,
     "start_time": "2024-06-19T16:12:40.265577",
     "status": "completed"
    },
    "tags": []
   },
   "outputs": [],
   "source": [
    "add_train_dir = '/kaggle/input/pedestriansyntheticdataset/train/train'"
   ]
  },
  {
   "cell_type": "code",
   "execution_count": 8,
   "id": "a06ba23e",
   "metadata": {
    "execution": {
     "iopub.execute_input": "2024-06-19T16:12:40.328378Z",
     "iopub.status.busy": "2024-06-19T16:12:40.328107Z",
     "iopub.status.idle": "2024-06-19T16:12:40.347057Z",
     "shell.execute_reply": "2024-06-19T16:12:40.346255Z"
    },
    "papermill": {
     "duration": 0.040314,
     "end_time": "2024-06-19T16:12:40.348888",
     "exception": false,
     "start_time": "2024-06-19T16:12:40.308574",
     "status": "completed"
    },
    "tags": []
   },
   "outputs": [],
   "source": [
    "class ImagesDataset(torch.utils.data.Dataset):\n",
    "\n",
    "    def __init__(self, files_dir, width, height, transforms=None):\n",
    "        self.transforms = transforms\n",
    "        self.files_dir = files_dir\n",
    "        self.height = height\n",
    "        self.width = width\n",
    "            \n",
    "        self.imgs = [image for image in sorted(os.listdir(files_dir)) if image.endswith(('.png', '.jpg'))]\n",
    "        \n",
    "        \n",
    "        # classes: 0 index is reserved for background\n",
    "        self.classes = ['background','pedestrian']\n",
    "\n",
    "    def __getitem__(self, idx):\n",
    "\n",
    "        img_name = self.imgs[idx]\n",
    "        image_path = os.path.join(self.files_dir, img_name)\n",
    "\n",
    "        # reading the images and converting them to correct size and color    \n",
    "        img = cv2.imread(image_path)\n",
    "        img_rgb = cv2.cvtColor(img, cv2.COLOR_BGR2RGB).astype(np.float32)\n",
    "        img_res = cv2.resize(img_rgb, (self.width, self.height), cv2.INTER_AREA)\n",
    "        # diving by 255\n",
    "        img_res /= 255.0\n",
    "        \n",
    "        # annotation file\n",
    "        annot_filename = img_name[:-4] + '.xml'\n",
    "        annot_file_path = os.path.join(self.files_dir, annot_filename)\n",
    "        \n",
    "        boxes = []\n",
    "        labels = []\n",
    "        tree = et.parse(annot_file_path)\n",
    "        root = tree.getroot()\n",
    "        \n",
    "        # cv2 image gives size as height x width\n",
    "        wt = img.shape[1]\n",
    "        ht = img.shape[0]\n",
    "        \n",
    "        # box coordinates for xml files are extracted and corrected for image size given\n",
    "        for member in root.findall('object'):\n",
    "            label_text = member.find('name').text.lower()\n",
    "            if label_text in ['ped', 'pedestrian','person']:\n",
    "                labels.append(self.classes.index('pedestrian')) \n",
    "            \n",
    "            # bounding box\n",
    "            xmin = int(member.find('bndbox').find('xmin').text)\n",
    "            xmax = int(member.find('bndbox').find('xmax').text)\n",
    "            \n",
    "            ymin = int(member.find('bndbox').find('ymin').text)\n",
    "            ymax = int(member.find('bndbox').find('ymax').text)\n",
    "            \n",
    "            \n",
    "            xmin_corr = (xmin/wt)*self.width\n",
    "            xmax_corr = (xmax/wt)*self.width\n",
    "            ymin_corr = (ymin/ht)*self.height\n",
    "            ymax_corr = (ymax/ht)*self.height\n",
    "            \n",
    "            boxes.append([xmin_corr, ymin_corr, xmax_corr, ymax_corr])\n",
    "        \n",
    "        # convert boxes into a torch.Tensor\n",
    "        boxes = torch.as_tensor(boxes, dtype=torch.float32)\n",
    "        \n",
    "        # getting the areas of the boxes\n",
    "        area = (boxes[:, 3] - boxes[:, 1]) * (boxes[:, 2] - boxes[:, 0])\n",
    "\n",
    "        # suppose all instances are not crowd\n",
    "        iscrowd = torch.zeros((boxes.shape[0],), dtype=torch.int64)\n",
    "        \n",
    "        labels = torch.as_tensor(labels, dtype=torch.int64)\n",
    "\n",
    "\n",
    "        target = {}\n",
    "        target[\"boxes\"] = boxes\n",
    "        target[\"labels\"] = labels\n",
    "        target[\"area\"] = area\n",
    "        target[\"iscrowd\"] = iscrowd\n",
    "        # image_id\n",
    "        image_id = idx\n",
    "        target[\"image_id\"] = image_id\n",
    "        \n",
    "  \n",
    "\n",
    "\n",
    "        if self.transforms:\n",
    "            \n",
    "            sample = self.transforms(image = img_res,\n",
    "                                     bboxes = target['boxes'],\n",
    "                                     labels = labels)\n",
    "            \n",
    "            img_res = sample['image']\n",
    "            target['boxes'] = torch.Tensor(sample['bboxes'])\n",
    "            \n",
    "            \n",
    "            \n",
    "        return img_res, target\n",
    "\n",
    "    def __len__(self):\n",
    "        return len(self.imgs)"
   ]
  },
  {
   "cell_type": "code",
   "execution_count": 9,
   "id": "207d72b6",
   "metadata": {
    "execution": {
     "iopub.execute_input": "2024-06-19T16:12:40.385681Z",
     "iopub.status.busy": "2024-06-19T16:12:40.385406Z",
     "iopub.status.idle": "2024-06-19T16:12:40.390050Z",
     "shell.execute_reply": "2024-06-19T16:12:40.389329Z"
    },
    "papermill": {
     "duration": 0.025176,
     "end_time": "2024-06-19T16:12:40.391937",
     "exception": false,
     "start_time": "2024-06-19T16:12:40.366761",
     "status": "completed"
    },
    "tags": []
   },
   "outputs": [],
   "source": [
    "\n",
    "def get_object_detection_model(num_classes):\n",
    "\n",
    "    # load a model pre-trained pre-trained on COCO\n",
    "    model = torchvision.models.detection.fasterrcnn_resnet50_fpn(pretrained=True)\n",
    "    \n",
    "    # get number of input features for the classifier\n",
    "    in_features = model.roi_heads.box_predictor.cls_score.in_features\n",
    "    # replace the pre-trained head with a new one\n",
    "    model.roi_heads.box_predictor = FastRCNNPredictor(in_features, num_classes) \n",
    "\n",
    "    return model"
   ]
  },
  {
   "cell_type": "code",
   "execution_count": 10,
   "id": "2ad8b313",
   "metadata": {
    "execution": {
     "iopub.execute_input": "2024-06-19T16:12:40.428962Z",
     "iopub.status.busy": "2024-06-19T16:12:40.428689Z",
     "iopub.status.idle": "2024-06-19T16:12:40.434841Z",
     "shell.execute_reply": "2024-06-19T16:12:40.434098Z"
    },
    "papermill": {
     "duration": 0.026801,
     "end_time": "2024-06-19T16:12:40.436720",
     "exception": false,
     "start_time": "2024-06-19T16:12:40.409919",
     "status": "completed"
    },
    "tags": []
   },
   "outputs": [],
   "source": [
    "# Send train=True fro training transforms and False for val/test transforms\n",
    "def get_transform(train):\n",
    "    \n",
    "    if train:\n",
    "        return A.Compose([\n",
    "            A.HorizontalFlip(0.5),\n",
    "            A.ColorJitter(brightness=0.2, contrast=0.2, saturation=0.2, hue=0.2, p=0.5),\n",
    "            A.Rotate(limit=15, p=0.5),\n",
    "            ToTensorV2(p=1.0)\n",
    "        ], bbox_params=A.BboxParams(format='pascal_voc', label_fields=['labels']))\n",
    "    else:\n",
    "        return A.Compose([\n",
    "                            ToTensorV2(p=1.0)\n",
    "                        ], bbox_params={'format': 'pascal_voc', 'label_fields': ['labels']})"
   ]
  },
  {
   "cell_type": "code",
   "execution_count": 11,
   "id": "07c35bc3",
   "metadata": {
    "execution": {
     "iopub.execute_input": "2024-06-19T16:12:40.474415Z",
     "iopub.status.busy": "2024-06-19T16:12:40.474125Z",
     "iopub.status.idle": "2024-06-19T16:12:40.776855Z",
     "shell.execute_reply": "2024-06-19T16:12:40.776001Z"
    },
    "papermill": {
     "duration": 0.323596,
     "end_time": "2024-06-19T16:12:40.779005",
     "exception": false,
     "start_time": "2024-06-19T16:12:40.455409",
     "status": "completed"
    },
    "tags": []
   },
   "outputs": [],
   "source": [
    "# use our dataset and defined transformations\n",
    "train_dataset = ImagesDataset(train_dir, 1920, 1080, transforms= get_transform(train=True))\n",
    "add_train_dataset = ImagesDataset(add_train_dir, 1920, 1080, transforms= get_transform(train=True))\n",
    "combined_dataset = ConcatDataset([train_dataset, add_train_dataset])\n",
    "\n",
    "test_dataset = ImagesDataset(test_dir, 1920, 1080, transforms= get_transform(train=False))\n",
    "\n",
    "# define training and validation data loaders\n",
    "combined_data_loader_train = torch.utils.data.DataLoader(\n",
    "    combined_dataset, batch_size=4, shuffle=True, num_workers=4,\n",
    "    collate_fn=utils.collate_fn)\n",
    "\n",
    "data_loader_test = torch.utils.data.DataLoader(\n",
    "    test_dataset, batch_size=4, shuffle=False, num_workers=4,\n",
    "    collate_fn=utils.collate_fn)"
   ]
  },
  {
   "cell_type": "code",
   "execution_count": 12,
   "id": "53c4db62",
   "metadata": {
    "execution": {
     "iopub.execute_input": "2024-06-19T16:12:40.816093Z",
     "iopub.status.busy": "2024-06-19T16:12:40.815818Z",
     "iopub.status.idle": "2024-06-19T16:12:43.221111Z",
     "shell.execute_reply": "2024-06-19T16:12:43.220314Z"
    },
    "papermill": {
     "duration": 2.426393,
     "end_time": "2024-06-19T16:12:43.223466",
     "exception": false,
     "start_time": "2024-06-19T16:12:40.797073",
     "status": "completed"
    },
    "tags": []
   },
   "outputs": [
    {
     "name": "stderr",
     "output_type": "stream",
     "text": [
      "Downloading: \"https://download.pytorch.org/models/fasterrcnn_resnet50_fpn_coco-258fb6c6.pth\" to /root/.cache/torch/hub/checkpoints/fasterrcnn_resnet50_fpn_coco-258fb6c6.pth\n",
      "100%|██████████| 160M/160M [00:01<00:00, 142MB/s]\n"
     ]
    }
   ],
   "source": [
    "# to train on gpu if selected.\n",
    "device = torch.device('cuda') if torch.cuda.is_available() else torch.device('cpu')\n",
    "\n",
    "\n",
    "num_classes = 2\n",
    "\n",
    "# get the model using our helper function\n",
    "model = get_object_detection_model(num_classes)\n",
    "\n",
    "# move model to the right device\n",
    "model.to(device)\n",
    "\n",
    "# construct an optimizer\n",
    "params = [p for p in model.parameters() if p.requires_grad]\n",
    "optimizer = torch.optim.SGD(params, lr=0.005,\n",
    "                            momentum=0.9, weight_decay=0.0005)\n",
    "\n",
    "# and a learning rate scheduler which decreases the learning rate by\n",
    "# 10x every 3 epochs\n",
    "lr_scheduler = torch.optim.lr_scheduler.StepLR(optimizer,\n",
    "                                               step_size=3,\n",
    "                                               gamma=0.1)"
   ]
  },
  {
   "cell_type": "code",
   "execution_count": 13,
   "id": "5f860350",
   "metadata": {
    "execution": {
     "iopub.execute_input": "2024-06-19T16:12:43.263766Z",
     "iopub.status.busy": "2024-06-19T16:12:43.263483Z",
     "iopub.status.idle": "2024-06-19T16:38:52.624972Z",
     "shell.execute_reply": "2024-06-19T16:38:52.623385Z"
    },
    "papermill": {
     "duration": 1569.384173,
     "end_time": "2024-06-19T16:38:52.627198",
     "exception": false,
     "start_time": "2024-06-19T16:12:43.243025",
     "status": "completed"
    },
    "tags": []
   },
   "outputs": [
    {
     "name": "stdout",
     "output_type": "stream",
     "text": [
      "Epoch: [0]  [  0/227]  eta: 0:17:19  lr: 0.000027  loss: 1.0473 (1.0473)  loss_classifier: 0.7954 (0.7954)  loss_box_reg: 0.2224 (0.2224)  loss_objectness: 0.0120 (0.0120)  loss_rpn_box_reg: 0.0175 (0.0175)  time: 4.5776  data: 1.5016  max mem: 4799\n"
     ]
    },
    {
     "name": "stderr",
     "output_type": "stream",
     "text": [
      "libpng warning: iCCP: known incorrect sRGB profile\n",
      "libpng warning: iCCP: known incorrect sRGB profile\n",
      "libpng warning: iCCP: known incorrect sRGB profile\n",
      "libpng warning: iCCP: known incorrect sRGB profile\n",
      "libpng warning: iCCP: known incorrect sRGB profile\n"
     ]
    },
    {
     "name": "stdout",
     "output_type": "stream",
     "text": [
      "Epoch: [0]  [ 10/227]  eta: 0:03:39  lr: 0.000248  loss: 0.9360 (0.8761)  loss_classifier: 0.6801 (0.6305)  loss_box_reg: 0.2224 (0.2221)  loss_objectness: 0.0172 (0.0167)  loss_rpn_box_reg: 0.0063 (0.0068)  time: 1.0107  data: 0.1652  max mem: 4957\n"
     ]
    },
    {
     "name": "stderr",
     "output_type": "stream",
     "text": [
      "libpng warning: iCCP: known incorrect sRGB profile\n",
      "libpng warning: iCCP: known incorrect sRGB profile\n"
     ]
    },
    {
     "name": "stdout",
     "output_type": "stream",
     "text": [
      "Epoch: [0]  [ 20/227]  eta: 0:02:53  lr: 0.000469  loss: 0.6992 (0.7063)  loss_classifier: 0.2987 (0.4338)  loss_box_reg: 0.2259 (0.2471)  loss_objectness: 0.0176 (0.0189)  loss_rpn_box_reg: 0.0063 (0.0066)  time: 0.6508  data: 0.0309  max mem: 4958\n"
     ]
    },
    {
     "name": "stderr",
     "output_type": "stream",
     "text": [
      "libpng warning: iCCP: known incorrect sRGB profile\n",
      "libpng warning: iCCP: known incorrect sRGB profile\n"
     ]
    },
    {
     "name": "stdout",
     "output_type": "stream",
     "text": [
      "Epoch: [0]  [ 30/227]  eta: 0:02:32  lr: 0.000690  loss: 0.4019 (0.6214)  loss_classifier: 0.1818 (0.3564)  loss_box_reg: 0.2131 (0.2417)  loss_objectness: 0.0131 (0.0167)  loss_rpn_box_reg: 0.0067 (0.0067)  time: 0.6473  data: 0.0309  max mem: 4958\n"
     ]
    },
    {
     "name": "stderr",
     "output_type": "stream",
     "text": [
      "libpng warning: iCCP: known incorrect sRGB profile\n"
     ]
    },
    {
     "name": "stdout",
     "output_type": "stream",
     "text": [
      "Epoch: [0]  [ 40/227]  eta: 0:02:19  lr: 0.000911  loss: 0.3794 (0.5569)  loss_classifier: 0.1431 (0.3016)  loss_box_reg: 0.2029 (0.2328)  loss_objectness: 0.0087 (0.0157)  loss_rpn_box_reg: 0.0061 (0.0067)  time: 0.6493  data: 0.0321  max mem: 4958\n"
     ]
    },
    {
     "name": "stderr",
     "output_type": "stream",
     "text": [
      "libpng warning: iCCP: known incorrect sRGB profile\n",
      "libpng warning: iCCP: known incorrect sRGB profile\n",
      "libpng warning: iCCP: known incorrect sRGB profile\n"
     ]
    },
    {
     "name": "stdout",
     "output_type": "stream",
     "text": [
      "Epoch: [0]  [ 50/227]  eta: 0:02:08  lr: 0.001132  loss: 0.3491 (0.5185)  loss_classifier: 0.1168 (0.2626)  loss_box_reg: 0.2118 (0.2346)  loss_objectness: 0.0091 (0.0149)  loss_rpn_box_reg: 0.0044 (0.0063)  time: 0.6516  data: 0.0337  max mem: 4958\n"
     ]
    },
    {
     "name": "stderr",
     "output_type": "stream",
     "text": [
      "libpng warning: iCCP: known incorrect sRGB profile\n"
     ]
    },
    {
     "name": "stdout",
     "output_type": "stream",
     "text": [
      "Epoch: [0]  [ 60/227]  eta: 0:01:59  lr: 0.001353  loss: 0.3418 (0.4869)  loss_classifier: 0.0956 (0.2359)  loss_box_reg: 0.2216 (0.2308)  loss_objectness: 0.0111 (0.0142)  loss_rpn_box_reg: 0.0040 (0.0060)  time: 0.6532  data: 0.0348  max mem: 4958\n"
     ]
    },
    {
     "name": "stderr",
     "output_type": "stream",
     "text": [
      "libpng warning: iCCP: known incorrect sRGB profile\n"
     ]
    },
    {
     "name": "stdout",
     "output_type": "stream",
     "text": [
      "Epoch: [0]  [ 70/227]  eta: 0:01:51  lr: 0.001574  loss: 0.3134 (0.4646)  loss_classifier: 0.0932 (0.2151)  loss_box_reg: 0.2216 (0.2303)  loss_objectness: 0.0061 (0.0132)  loss_rpn_box_reg: 0.0048 (0.0061)  time: 0.6558  data: 0.0359  max mem: 4958\n"
     ]
    },
    {
     "name": "stderr",
     "output_type": "stream",
     "text": [
      "libpng warning: iCCP: known incorrect sRGB profile\n",
      "libpng warning: iCCP: known incorrect sRGB profile\n",
      "libpng warning: iCCP: known incorrect sRGB profile\n",
      "libpng warning: iCCP: known incorrect sRGB profile\n"
     ]
    },
    {
     "name": "stdout",
     "output_type": "stream",
     "text": [
      "Epoch: [0]  [ 80/227]  eta: 0:01:43  lr: 0.001795  loss: 0.2502 (0.4356)  loss_classifier: 0.0768 (0.1971)  loss_box_reg: 0.1712 (0.2201)  loss_objectness: 0.0056 (0.0124)  loss_rpn_box_reg: 0.0046 (0.0059)  time: 0.6565  data: 0.0373  max mem: 4958\n"
     ]
    },
    {
     "name": "stderr",
     "output_type": "stream",
     "text": [
      "libpng warning: iCCP: known incorrect sRGB profile\n",
      "libpng warning: iCCP: known incorrect sRGB profile\n"
     ]
    },
    {
     "name": "stdout",
     "output_type": "stream",
     "text": [
      "Epoch: [0]  [ 90/227]  eta: 0:01:35  lr: 0.002016  loss: 0.1976 (0.4111)  loss_classifier: 0.0628 (0.1829)  loss_box_reg: 0.1303 (0.2104)  loss_objectness: 0.0041 (0.0122)  loss_rpn_box_reg: 0.0036 (0.0057)  time: 0.6538  data: 0.0354  max mem: 4958\n"
     ]
    },
    {
     "name": "stderr",
     "output_type": "stream",
     "text": [
      "libpng warning: iCCP: known incorrect sRGB profile\n",
      "libpng warning: iCCP: known incorrect sRGB profile\n",
      "libpng warning: iCCP: known incorrect sRGB profile\n",
      "libpng warning: iCCP: known incorrect sRGB profile\n"
     ]
    },
    {
     "name": "stdout",
     "output_type": "stream",
     "text": [
      "Epoch: [0]  [100/227]  eta: 0:01:27  lr: 0.002237  loss: 0.2242 (0.3945)  loss_classifier: 0.0685 (0.1726)  loss_box_reg: 0.1413 (0.2044)  loss_objectness: 0.0050 (0.0118)  loss_rpn_box_reg: 0.0037 (0.0057)  time: 0.6524  data: 0.0335  max mem: 4958\n"
     ]
    },
    {
     "name": "stderr",
     "output_type": "stream",
     "text": [
      "libpng warning: iCCP: known incorrect sRGB profile\n",
      "libpng warning: iCCP: known incorrect sRGB profile\n",
      "libpng warning: iCCP: known incorrect sRGB profile\n",
      "libpng warning: iCCP: known incorrect sRGB profile\n"
     ]
    },
    {
     "name": "stdout",
     "output_type": "stream",
     "text": [
      "Epoch: [0]  [110/227]  eta: 0:01:20  lr: 0.002458  loss: 0.2242 (0.3786)  loss_classifier: 0.0733 (0.1638)  loss_box_reg: 0.1413 (0.1982)  loss_objectness: 0.0047 (0.0111)  loss_rpn_box_reg: 0.0040 (0.0055)  time: 0.6582  data: 0.0349  max mem: 4958\n"
     ]
    },
    {
     "name": "stderr",
     "output_type": "stream",
     "text": [
      "libpng warning: iCCP: known incorrect sRGB profile\n",
      "libpng warning: iCCP: known incorrect sRGB profile\n"
     ]
    },
    {
     "name": "stdout",
     "output_type": "stream",
     "text": [
      "Epoch: [0]  [120/227]  eta: 0:01:13  lr: 0.002679  loss: 0.2076 (0.3711)  loss_classifier: 0.0773 (0.1588)  loss_box_reg: 0.1286 (0.1956)  loss_objectness: 0.0040 (0.0113)  loss_rpn_box_reg: 0.0040 (0.0055)  time: 0.6585  data: 0.0357  max mem: 4959\n"
     ]
    },
    {
     "name": "stderr",
     "output_type": "stream",
     "text": [
      "libpng warning: iCCP: known incorrect sRGB profile\n",
      "libpng warning: iCCP: known incorrect sRGB profile\n",
      "libpng warning: iCCP: known incorrect sRGB profile\n"
     ]
    },
    {
     "name": "stdout",
     "output_type": "stream",
     "text": [
      "Epoch: [0]  [130/227]  eta: 0:01:06  lr: 0.002900  loss: 0.2058 (0.3591)  loss_classifier: 0.0775 (0.1523)  loss_box_reg: 0.1138 (0.1905)  loss_objectness: 0.0058 (0.0110)  loss_rpn_box_reg: 0.0034 (0.0053)  time: 0.6565  data: 0.0348  max mem: 4959\n"
     ]
    },
    {
     "name": "stderr",
     "output_type": "stream",
     "text": [
      "libpng warning: iCCP: known incorrect sRGB profile\n",
      "libpng warning: iCCP: known incorrect sRGB profile\n",
      "libpng warning: iCCP: known incorrect sRGB profile\n"
     ]
    },
    {
     "name": "stdout",
     "output_type": "stream",
     "text": [
      "Epoch: [0]  [140/227]  eta: 0:00:59  lr: 0.003121  loss: 0.1921 (0.3471)  loss_classifier: 0.0656 (0.1461)  loss_box_reg: 0.1132 (0.1854)  loss_objectness: 0.0044 (0.0105)  loss_rpn_box_reg: 0.0031 (0.0052)  time: 0.6560  data: 0.0337  max mem: 4959\n"
     ]
    },
    {
     "name": "stderr",
     "output_type": "stream",
     "text": [
      "libpng warning: iCCP: known incorrect sRGB profile\n"
     ]
    },
    {
     "name": "stdout",
     "output_type": "stream",
     "text": [
      "Epoch: [0]  [150/227]  eta: 0:00:52  lr: 0.003342  loss: 0.1888 (0.3383)  loss_classifier: 0.0635 (0.1407)  loss_box_reg: 0.1117 (0.1811)  loss_objectness: 0.0032 (0.0110)  loss_rpn_box_reg: 0.0031 (0.0054)  time: 0.6533  data: 0.0333  max mem: 4959\n"
     ]
    },
    {
     "name": "stderr",
     "output_type": "stream",
     "text": [
      "libpng warning: iCCP: known incorrect sRGB profile\n",
      "libpng warning: iCCP: known incorrect sRGB profile\n",
      "libpng warning: iCCP: known incorrect sRGB profile\n"
     ]
    },
    {
     "name": "stdout",
     "output_type": "stream",
     "text": [
      "Epoch: [0]  [160/227]  eta: 0:00:45  lr: 0.003563  loss: 0.2060 (0.3315)  loss_classifier: 0.0643 (0.1368)  loss_box_reg: 0.1211 (0.1786)  loss_objectness: 0.0041 (0.0107)  loss_rpn_box_reg: 0.0043 (0.0054)  time: 0.6544  data: 0.0338  max mem: 4959\n"
     ]
    },
    {
     "name": "stderr",
     "output_type": "stream",
     "text": [
      "libpng warning: iCCP: known incorrect sRGB profile\n",
      "libpng warning: iCCP: known incorrect sRGB profile\n",
      "libpng warning: iCCP: known incorrect sRGB profile\n"
     ]
    },
    {
     "name": "stdout",
     "output_type": "stream",
     "text": [
      "Epoch: [0]  [170/227]  eta: 0:00:38  lr: 0.003784  loss: 0.2060 (0.3237)  loss_classifier: 0.0655 (0.1328)  loss_box_reg: 0.1336 (0.1753)  loss_objectness: 0.0036 (0.0103)  loss_rpn_box_reg: 0.0045 (0.0054)  time: 0.6523  data: 0.0346  max mem: 4959\n"
     ]
    },
    {
     "name": "stderr",
     "output_type": "stream",
     "text": [
      "libpng warning: iCCP: known incorrect sRGB profile\n",
      "libpng warning: iCCP: known incorrect sRGB profile\n"
     ]
    },
    {
     "name": "stdout",
     "output_type": "stream",
     "text": [
      "Epoch: [0]  [180/227]  eta: 0:00:31  lr: 0.004005  loss: 0.1761 (0.3160)  loss_classifier: 0.0655 (0.1290)  loss_box_reg: 0.1118 (0.1717)  loss_objectness: 0.0020 (0.0099)  loss_rpn_box_reg: 0.0045 (0.0054)  time: 0.6514  data: 0.0340  max mem: 4959\n"
     ]
    },
    {
     "name": "stderr",
     "output_type": "stream",
     "text": [
      "libpng warning: iCCP: known incorrect sRGB profile\n",
      "libpng warning: iCCP: known incorrect sRGB profile\n",
      "libpng warning: iCCP: known incorrect sRGB profile\n",
      "libpng warning: iCCP: known incorrect sRGB profile\n"
     ]
    },
    {
     "name": "stdout",
     "output_type": "stream",
     "text": [
      "Epoch: [0]  [190/227]  eta: 0:00:24  lr: 0.004226  loss: 0.1933 (0.3101)  loss_classifier: 0.0692 (0.1260)  loss_box_reg: 0.1118 (0.1692)  loss_objectness: 0.0037 (0.0097)  loss_rpn_box_reg: 0.0036 (0.0053)  time: 0.6521  data: 0.0331  max mem: 4959\n"
     ]
    },
    {
     "name": "stderr",
     "output_type": "stream",
     "text": [
      "libpng warning: iCCP: known incorrect sRGB profile\n",
      "libpng warning: iCCP: known incorrect sRGB profile\n",
      "libpng warning: iCCP: known incorrect sRGB profile\n",
      "libpng warning: iCCP: known incorrect sRGB profile\n",
      "libpng warning: iCCP: known incorrect sRGB profile\n"
     ]
    },
    {
     "name": "stdout",
     "output_type": "stream",
     "text": [
      "Epoch: [0]  [200/227]  eta: 0:00:18  lr: 0.004447  loss: 0.1903 (0.3045)  loss_classifier: 0.0723 (0.1232)  loss_box_reg: 0.1141 (0.1666)  loss_objectness: 0.0035 (0.0094)  loss_rpn_box_reg: 0.0039 (0.0053)  time: 0.6510  data: 0.0327  max mem: 4959\n"
     ]
    },
    {
     "name": "stderr",
     "output_type": "stream",
     "text": [
      "libpng warning: iCCP: known incorrect sRGB profile\n",
      "libpng warning: iCCP: known incorrect sRGB profile\n",
      "libpng warning: iCCP: known incorrect sRGB profile\n"
     ]
    },
    {
     "name": "stdout",
     "output_type": "stream",
     "text": [
      "Epoch: [0]  [210/227]  eta: 0:00:11  lr: 0.004668  loss: 0.2041 (0.3003)  loss_classifier: 0.0611 (0.1206)  loss_box_reg: 0.1186 (0.1647)  loss_objectness: 0.0025 (0.0096)  loss_rpn_box_reg: 0.0039 (0.0053)  time: 0.6500  data: 0.0325  max mem: 4959\n"
     ]
    },
    {
     "name": "stderr",
     "output_type": "stream",
     "text": [
      "libpng warning: iCCP: known incorrect sRGB profile\n",
      "libpng warning: iCCP: known incorrect sRGB profile\n",
      "libpng warning: iCCP: known incorrect sRGB profile\n"
     ]
    },
    {
     "name": "stdout",
     "output_type": "stream",
     "text": [
      "Epoch: [0]  [220/227]  eta: 0:00:04  lr: 0.004889  loss: 0.2082 (0.2959)  loss_classifier: 0.0611 (0.1181)  loss_box_reg: 0.1233 (0.1630)  loss_objectness: 0.0032 (0.0095)  loss_rpn_box_reg: 0.0038 (0.0053)  time: 0.6486  data: 0.0326  max mem: 4959\n",
      "Epoch: [0]  [226/227]  eta: 0:00:00  lr: 0.005000  loss: 0.2081 (0.2939)  loss_classifier: 0.0622 (0.1171)  loss_box_reg: 0.1178 (0.1621)  loss_objectness: 0.0032 (0.0094)  loss_rpn_box_reg: 0.0038 (0.0053)  time: 0.6347  data: 0.0298  max mem: 4959\n",
      "Epoch: [0] Total time: 0:02:31 (0.6693 s / it)\n",
      "creating index...\n",
      "index created!\n",
      "Test:  [ 0/19]  eta: 0:00:16  model_time: 0.2988 (0.2988)  evaluator_time: 0.0090 (0.0090)  time: 0.8721  data: 0.5011  max mem: 4959\n",
      "Test:  [18/19]  eta: 0:00:00  model_time: 0.2537 (0.2534)  evaluator_time: 0.0065 (0.0118)  time: 0.3468  data: 0.0526  max mem: 4959\n",
      "Test: Total time: 0:00:06 (0.3493 s / it)\n",
      "Averaged stats: model_time: 0.2537 (0.2534)  evaluator_time: 0.0065 (0.0118)\n",
      "Accumulating evaluation results...\n",
      "DONE (t=0.02s).\n",
      "IoU metric: bbox\n",
      " Average Precision  (AP) @[ IoU=0.50:0.95 | area=   all | maxDets=100 ] = 0.121\n",
      " Average Precision  (AP) @[ IoU=0.50      | area=   all | maxDets=100 ] = 0.270\n",
      " Average Precision  (AP) @[ IoU=0.75      | area=   all | maxDets=100 ] = 0.085\n",
      " Average Precision  (AP) @[ IoU=0.50:0.95 | area= small | maxDets=100 ] = 0.000\n",
      " Average Precision  (AP) @[ IoU=0.50:0.95 | area=medium | maxDets=100 ] = 0.121\n",
      " Average Precision  (AP) @[ IoU=0.50:0.95 | area= large | maxDets=100 ] = 0.329\n",
      " Average Recall     (AR) @[ IoU=0.50:0.95 | area=   all | maxDets=  1 ] = 0.039\n",
      " Average Recall     (AR) @[ IoU=0.50:0.95 | area=   all | maxDets= 10 ] = 0.154\n",
      " Average Recall     (AR) @[ IoU=0.50:0.95 | area=   all | maxDets=100 ] = 0.162\n",
      " Average Recall     (AR) @[ IoU=0.50:0.95 | area= small | maxDets=100 ] = 0.000\n",
      " Average Recall     (AR) @[ IoU=0.50:0.95 | area=medium | maxDets=100 ] = 0.160\n",
      " Average Recall     (AR) @[ IoU=0.50:0.95 | area= large | maxDets=100 ] = 0.423\n"
     ]
    },
    {
     "name": "stderr",
     "output_type": "stream",
     "text": [
      "libpng warning: iCCP: known incorrect sRGB profile\n",
      "libpng warning: iCCP: known incorrect sRGB profile\n",
      "libpng warning: iCCP: known incorrect sRGB profile\n",
      "libpng warning: iCCP: known incorrect sRGB profile\n"
     ]
    },
    {
     "name": "stdout",
     "output_type": "stream",
     "text": [
      "Epoch: [1]  [  0/227]  eta: 0:06:52  lr: 0.005000  loss: 0.1019 (0.1019)  loss_classifier: 0.0319 (0.0319)  loss_box_reg: 0.0632 (0.0632)  loss_objectness: 0.0035 (0.0035)  loss_rpn_box_reg: 0.0033 (0.0033)  time: 1.8156  data: 1.0717  max mem: 4959\n"
     ]
    },
    {
     "name": "stderr",
     "output_type": "stream",
     "text": [
      "libpng warning: iCCP: known incorrect sRGB profile\n",
      "libpng warning: iCCP: known incorrect sRGB profile\n",
      "libpng warning: iCCP: known incorrect sRGB profile\n",
      "libpng warning: iCCP: known incorrect sRGB profile\n",
      "libpng warning: iCCP: known incorrect sRGB profile\n"
     ]
    },
    {
     "name": "stdout",
     "output_type": "stream",
     "text": [
      "Epoch: [1]  [ 10/227]  eta: 0:02:45  lr: 0.005000  loss: 0.1398 (0.1589)  loss_classifier: 0.0493 (0.0518)  loss_box_reg: 0.0920 (0.1011)  loss_objectness: 0.0011 (0.0024)  loss_rpn_box_reg: 0.0029 (0.0036)  time: 0.7620  data: 0.1292  max mem: 4959\n"
     ]
    },
    {
     "name": "stderr",
     "output_type": "stream",
     "text": [
      "libpng warning: iCCP: known incorrect sRGB profile\n",
      "libpng warning: iCCP: known incorrect sRGB profile\n",
      "libpng warning: iCCP: known incorrect sRGB profile\n"
     ]
    },
    {
     "name": "stdout",
     "output_type": "stream",
     "text": [
      "Epoch: [1]  [ 20/227]  eta: 0:02:26  lr: 0.005000  loss: 0.1400 (0.1571)  loss_classifier: 0.0493 (0.0528)  loss_box_reg: 0.0917 (0.0988)  loss_objectness: 0.0009 (0.0018)  loss_rpn_box_reg: 0.0027 (0.0037)  time: 0.6516  data: 0.0342  max mem: 4959\n"
     ]
    },
    {
     "name": "stderr",
     "output_type": "stream",
     "text": [
      "libpng warning: iCCP: known incorrect sRGB profile\n"
     ]
    },
    {
     "name": "stdout",
     "output_type": "stream",
     "text": [
      "Epoch: [1]  [ 30/227]  eta: 0:02:15  lr: 0.005000  loss: 0.1518 (0.1653)  loss_classifier: 0.0556 (0.0562)  loss_box_reg: 0.0961 (0.1027)  loss_objectness: 0.0009 (0.0027)  loss_rpn_box_reg: 0.0034 (0.0037)  time: 0.6464  data: 0.0333  max mem: 4959\n"
     ]
    },
    {
     "name": "stderr",
     "output_type": "stream",
     "text": [
      "libpng warning: iCCP: known incorrect sRGB profile\n",
      "libpng warning: iCCP: known incorrect sRGB profile\n"
     ]
    },
    {
     "name": "stdout",
     "output_type": "stream",
     "text": [
      "Epoch: [1]  [ 40/227]  eta: 0:02:06  lr: 0.005000  loss: 0.1759 (0.1649)  loss_classifier: 0.0585 (0.0559)  loss_box_reg: 0.0998 (0.1024)  loss_objectness: 0.0015 (0.0028)  loss_rpn_box_reg: 0.0032 (0.0038)  time: 0.6444  data: 0.0320  max mem: 4959\n"
     ]
    },
    {
     "name": "stderr",
     "output_type": "stream",
     "text": [
      "libpng warning: iCCP: known incorrect sRGB profile\n",
      "libpng warning: iCCP: known incorrect sRGB profile\n",
      "libpng warning: iCCP: known incorrect sRGB profile\n",
      "libpng warning: iCCP: known incorrect sRGB profile\n",
      "libpng warning: iCCP: known incorrect sRGB profile\n"
     ]
    },
    {
     "name": "stdout",
     "output_type": "stream",
     "text": [
      "Epoch: [1]  [ 50/227]  eta: 0:01:58  lr: 0.005000  loss: 0.1564 (0.1662)  loss_classifier: 0.0483 (0.0570)  loss_box_reg: 0.0972 (0.1027)  loss_objectness: 0.0018 (0.0029)  loss_rpn_box_reg: 0.0029 (0.0036)  time: 0.6481  data: 0.0328  max mem: 4959\n"
     ]
    },
    {
     "name": "stderr",
     "output_type": "stream",
     "text": [
      "libpng warning: iCCP: known incorrect sRGB profile\n"
     ]
    },
    {
     "name": "stdout",
     "output_type": "stream",
     "text": [
      "Epoch: [1]  [ 60/227]  eta: 0:01:51  lr: 0.005000  loss: 0.1564 (0.1701)  loss_classifier: 0.0545 (0.0581)  loss_box_reg: 0.0972 (0.1051)  loss_objectness: 0.0026 (0.0030)  loss_rpn_box_reg: 0.0035 (0.0040)  time: 0.6535  data: 0.0343  max mem: 4959\n"
     ]
    },
    {
     "name": "stderr",
     "output_type": "stream",
     "text": [
      "libpng warning: iCCP: known incorrect sRGB profile\n"
     ]
    },
    {
     "name": "stdout",
     "output_type": "stream",
     "text": [
      "Epoch: [1]  [ 70/227]  eta: 0:01:44  lr: 0.005000  loss: 0.1824 (0.1766)  loss_classifier: 0.0597 (0.0598)  loss_box_reg: 0.1172 (0.1094)  loss_objectness: 0.0022 (0.0032)  loss_rpn_box_reg: 0.0041 (0.0042)  time: 0.6514  data: 0.0331  max mem: 4959\n"
     ]
    },
    {
     "name": "stderr",
     "output_type": "stream",
     "text": [
      "libpng warning: iCCP: known incorrect sRGB profile\n",
      "libpng warning: iCCP: known incorrect sRGB profile\n",
      "libpng warning: iCCP: known incorrect sRGB profile\n"
     ]
    },
    {
     "name": "stdout",
     "output_type": "stream",
     "text": [
      "Epoch: [1]  [ 80/227]  eta: 0:01:37  lr: 0.005000  loss: 0.1824 (0.1770)  loss_classifier: 0.0585 (0.0604)  loss_box_reg: 0.1143 (0.1094)  loss_objectness: 0.0011 (0.0030)  loss_rpn_box_reg: 0.0040 (0.0041)  time: 0.6460  data: 0.0320  max mem: 4959\n"
     ]
    },
    {
     "name": "stderr",
     "output_type": "stream",
     "text": [
      "libpng warning: iCCP: known incorrect sRGB profile\n",
      "libpng warning: iCCP: known incorrect sRGB profile\n",
      "libpng warning: iCCP: known incorrect sRGB profile\n",
      "libpng warning: iCCP: known incorrect sRGB profile\n"
     ]
    },
    {
     "name": "stdout",
     "output_type": "stream",
     "text": [
      "Epoch: [1]  [ 90/227]  eta: 0:01:30  lr: 0.005000  loss: 0.1847 (0.1819)  loss_classifier: 0.0628 (0.0627)  loss_box_reg: 0.1154 (0.1115)  loss_objectness: 0.0024 (0.0035)  loss_rpn_box_reg: 0.0035 (0.0042)  time: 0.6446  data: 0.0317  max mem: 4959\n"
     ]
    },
    {
     "name": "stderr",
     "output_type": "stream",
     "text": [
      "libpng warning: iCCP: known incorrect sRGB profile\n",
      "libpng warning: iCCP: known incorrect sRGB profile\n"
     ]
    },
    {
     "name": "stdout",
     "output_type": "stream",
     "text": [
      "Epoch: [1]  [100/227]  eta: 0:01:23  lr: 0.005000  loss: 0.1837 (0.1824)  loss_classifier: 0.0579 (0.0622)  loss_box_reg: 0.1114 (0.1126)  loss_objectness: 0.0031 (0.0034)  loss_rpn_box_reg: 0.0031 (0.0042)  time: 0.6468  data: 0.0325  max mem: 4959\n"
     ]
    },
    {
     "name": "stderr",
     "output_type": "stream",
     "text": [
      "libpng warning: iCCP: known incorrect sRGB profile\n",
      "libpng warning: iCCP: known incorrect sRGB profile\n"
     ]
    },
    {
     "name": "stdout",
     "output_type": "stream",
     "text": [
      "Epoch: [1]  [110/227]  eta: 0:01:17  lr: 0.005000  loss: 0.1614 (0.1829)  loss_classifier: 0.0540 (0.0623)  loss_box_reg: 0.1098 (0.1129)  loss_objectness: 0.0023 (0.0034)  loss_rpn_box_reg: 0.0027 (0.0042)  time: 0.6506  data: 0.0347  max mem: 4959\n"
     ]
    },
    {
     "name": "stderr",
     "output_type": "stream",
     "text": [
      "libpng warning: iCCP: known incorrect sRGB profile\n",
      "libpng warning: iCCP: known incorrect sRGB profile\n",
      "libpng warning: iCCP: known incorrect sRGB profile\n"
     ]
    },
    {
     "name": "stdout",
     "output_type": "stream",
     "text": [
      "Epoch: [1]  [120/227]  eta: 0:01:10  lr: 0.005000  loss: 0.1492 (0.1805)  loss_classifier: 0.0569 (0.0621)  loss_box_reg: 0.0975 (0.1109)  loss_objectness: 0.0024 (0.0034)  loss_rpn_box_reg: 0.0027 (0.0042)  time: 0.6495  data: 0.0345  max mem: 4959\n"
     ]
    },
    {
     "name": "stderr",
     "output_type": "stream",
     "text": [
      "libpng warning: iCCP: known incorrect sRGB profile\n"
     ]
    },
    {
     "name": "stdout",
     "output_type": "stream",
     "text": [
      "Epoch: [1]  [130/227]  eta: 0:01:03  lr: 0.005000  loss: 0.1633 (0.1806)  loss_classifier: 0.0558 (0.0616)  loss_box_reg: 0.1038 (0.1114)  loss_objectness: 0.0022 (0.0034)  loss_rpn_box_reg: 0.0032 (0.0042)  time: 0.6440  data: 0.0322  max mem: 4959\n"
     ]
    },
    {
     "name": "stderr",
     "output_type": "stream",
     "text": [
      "libpng warning: iCCP: known incorrect sRGB profile\n"
     ]
    },
    {
     "name": "stdout",
     "output_type": "stream",
     "text": [
      "Epoch: [1]  [140/227]  eta: 0:00:57  lr: 0.005000  loss: 0.1729 (0.1800)  loss_classifier: 0.0524 (0.0612)  loss_box_reg: 0.1102 (0.1112)  loss_objectness: 0.0017 (0.0034)  loss_rpn_box_reg: 0.0039 (0.0042)  time: 0.6464  data: 0.0325  max mem: 4959\n",
      "Epoch: [1]  [150/227]  eta: 0:00:50  lr: 0.005000  loss: 0.1819 (0.1813)  loss_classifier: 0.0538 (0.0616)  loss_box_reg: 0.1168 (0.1121)  loss_objectness: 0.0014 (0.0034)  loss_rpn_box_reg: 0.0033 (0.0042)  time: 0.6462  data: 0.0321  max mem: 4959\n"
     ]
    },
    {
     "name": "stderr",
     "output_type": "stream",
     "text": [
      "libpng warning: iCCP: known incorrect sRGB profile\n",
      "libpng warning: iCCP: known incorrect sRGB profile\n"
     ]
    },
    {
     "name": "stdout",
     "output_type": "stream",
     "text": [
      "Epoch: [1]  [160/227]  eta: 0:00:43  lr: 0.005000  loss: 0.1945 (0.1819)  loss_classifier: 0.0595 (0.0622)  loss_box_reg: 0.1100 (0.1121)  loss_objectness: 0.0017 (0.0034)  loss_rpn_box_reg: 0.0030 (0.0041)  time: 0.6457  data: 0.0312  max mem: 4959\n"
     ]
    },
    {
     "name": "stderr",
     "output_type": "stream",
     "text": [
      "libpng warning: iCCP: known incorrect sRGB profile\n",
      "libpng warning: iCCP: known incorrect sRGB profile\n",
      "libpng warning: iCCP: known incorrect sRGB profile\n"
     ]
    },
    {
     "name": "stdout",
     "output_type": "stream",
     "text": [
      "Epoch: [1]  [170/227]  eta: 0:00:37  lr: 0.005000  loss: 0.1723 (0.1810)  loss_classifier: 0.0595 (0.0619)  loss_box_reg: 0.1014 (0.1117)  loss_objectness: 0.0018 (0.0034)  loss_rpn_box_reg: 0.0033 (0.0041)  time: 0.6462  data: 0.0309  max mem: 4959\n"
     ]
    },
    {
     "name": "stderr",
     "output_type": "stream",
     "text": [
      "libpng warning: iCCP: known incorrect sRGB profile\n",
      "libpng warning: iCCP: known incorrect sRGB profile\n",
      "libpng warning: iCCP: known incorrect sRGB profile\n",
      "libpng warning: iCCP: known incorrect sRGB profile\n"
     ]
    },
    {
     "name": "stdout",
     "output_type": "stream",
     "text": [
      "Epoch: [1]  [180/227]  eta: 0:00:30  lr: 0.005000  loss: 0.1463 (0.1793)  loss_classifier: 0.0540 (0.0612)  loss_box_reg: 0.0874 (0.1108)  loss_objectness: 0.0020 (0.0033)  loss_rpn_box_reg: 0.0034 (0.0041)  time: 0.6432  data: 0.0309  max mem: 4959\n"
     ]
    },
    {
     "name": "stderr",
     "output_type": "stream",
     "text": [
      "libpng warning: iCCP: known incorrect sRGB profile\n",
      "libpng warning: iCCP: known incorrect sRGB profile\n",
      "libpng warning: iCCP: known incorrect sRGB profile\n"
     ]
    },
    {
     "name": "stdout",
     "output_type": "stream",
     "text": [
      "Epoch: [1]  [190/227]  eta: 0:00:24  lr: 0.005000  loss: 0.1558 (0.1790)  loss_classifier: 0.0468 (0.0609)  loss_box_reg: 0.1012 (0.1109)  loss_objectness: 0.0016 (0.0032)  loss_rpn_box_reg: 0.0030 (0.0040)  time: 0.6450  data: 0.0325  max mem: 4959\n"
     ]
    },
    {
     "name": "stderr",
     "output_type": "stream",
     "text": [
      "libpng warning: iCCP: known incorrect sRGB profile\n",
      "libpng warning: iCCP: known incorrect sRGB profile\n",
      "libpng warning: iCCP: known incorrect sRGB profile\n"
     ]
    },
    {
     "name": "stdout",
     "output_type": "stream",
     "text": [
      "Epoch: [1]  [200/227]  eta: 0:00:17  lr: 0.005000  loss: 0.1634 (0.1790)  loss_classifier: 0.0562 (0.0609)  loss_box_reg: 0.1048 (0.1110)  loss_objectness: 0.0014 (0.0031)  loss_rpn_box_reg: 0.0029 (0.0040)  time: 0.6481  data: 0.0327  max mem: 4959\n"
     ]
    },
    {
     "name": "stderr",
     "output_type": "stream",
     "text": [
      "libpng warning: iCCP: known incorrect sRGB profile\n",
      "libpng warning: iCCP: known incorrect sRGB profile\n",
      "libpng warning: iCCP: known incorrect sRGB profile\n",
      "libpng warning: iCCP: known incorrect sRGB profile\n"
     ]
    },
    {
     "name": "stdout",
     "output_type": "stream",
     "text": [
      "Epoch: [1]  [210/227]  eta: 0:00:11  lr: 0.005000  loss: 0.1810 (0.1798)  loss_classifier: 0.0586 (0.0615)  loss_box_reg: 0.1033 (0.1112)  loss_objectness: 0.0015 (0.0031)  loss_rpn_box_reg: 0.0039 (0.0040)  time: 0.6481  data: 0.0323  max mem: 4959\n"
     ]
    },
    {
     "name": "stderr",
     "output_type": "stream",
     "text": [
      "libpng warning: iCCP: known incorrect sRGB profile\n",
      "libpng warning: iCCP: known incorrect sRGB profile\n",
      "libpng warning: iCCP: known incorrect sRGB profile\n",
      "libpng warning: iCCP: known incorrect sRGB profile\n"
     ]
    },
    {
     "name": "stdout",
     "output_type": "stream",
     "text": [
      "Epoch: [1]  [220/227]  eta: 0:00:04  lr: 0.005000  loss: 0.1712 (0.1789)  loss_classifier: 0.0591 (0.0615)  loss_box_reg: 0.0953 (0.1104)  loss_objectness: 0.0015 (0.0031)  loss_rpn_box_reg: 0.0029 (0.0039)  time: 0.6473  data: 0.0329  max mem: 4959\n",
      "Epoch: [1]  [226/227]  eta: 0:00:00  lr: 0.005000  loss: 0.1691 (0.1789)  loss_classifier: 0.0586 (0.0616)  loss_box_reg: 0.0903 (0.1102)  loss_objectness: 0.0016 (0.0032)  loss_rpn_box_reg: 0.0028 (0.0039)  time: 0.6329  data: 0.0302  max mem: 4959\n",
      "Epoch: [1] Total time: 0:02:27 (0.6519 s / it)\n",
      "creating index...\n",
      "index created!\n",
      "Test:  [ 0/19]  eta: 0:00:19  model_time: 0.2668 (0.2668)  evaluator_time: 0.0079 (0.0079)  time: 1.0061  data: 0.6481  max mem: 4959\n",
      "Test:  [18/19]  eta: 0:00:00  model_time: 0.2526 (0.2506)  evaluator_time: 0.0066 (0.0105)  time: 0.3524  data: 0.0607  max mem: 4959\n",
      "Test: Total time: 0:00:06 (0.3541 s / it)\n",
      "Averaged stats: model_time: 0.2526 (0.2506)  evaluator_time: 0.0066 (0.0105)\n",
      "Accumulating evaluation results...\n",
      "DONE (t=0.02s).\n",
      "IoU metric: bbox\n",
      " Average Precision  (AP) @[ IoU=0.50:0.95 | area=   all | maxDets=100 ] = 0.093\n",
      " Average Precision  (AP) @[ IoU=0.50      | area=   all | maxDets=100 ] = 0.219\n",
      " Average Precision  (AP) @[ IoU=0.75      | area=   all | maxDets=100 ] = 0.068\n",
      " Average Precision  (AP) @[ IoU=0.50:0.95 | area= small | maxDets=100 ] = 0.000\n",
      " Average Precision  (AP) @[ IoU=0.50:0.95 | area=medium | maxDets=100 ] = 0.080\n",
      " Average Precision  (AP) @[ IoU=0.50:0.95 | area= large | maxDets=100 ] = 0.292\n",
      " Average Recall     (AR) @[ IoU=0.50:0.95 | area=   all | maxDets=  1 ] = 0.030\n",
      " Average Recall     (AR) @[ IoU=0.50:0.95 | area=   all | maxDets= 10 ] = 0.125\n",
      " Average Recall     (AR) @[ IoU=0.50:0.95 | area=   all | maxDets=100 ] = 0.126\n",
      " Average Recall     (AR) @[ IoU=0.50:0.95 | area= small | maxDets=100 ] = 0.000\n",
      " Average Recall     (AR) @[ IoU=0.50:0.95 | area=medium | maxDets=100 ] = 0.102\n",
      " Average Recall     (AR) @[ IoU=0.50:0.95 | area= large | maxDets=100 ] = 0.393\n"
     ]
    },
    {
     "name": "stderr",
     "output_type": "stream",
     "text": [
      "libpng warning: iCCP: known incorrect sRGB profile\n",
      "libpng warning: iCCP: known incorrect sRGB profile\n",
      "libpng warning: iCCP: known incorrect sRGB profile\n"
     ]
    },
    {
     "name": "stdout",
     "output_type": "stream",
     "text": [
      "Epoch: [2]  [  0/227]  eta: 0:08:09  lr: 0.005000  loss: 0.1415 (0.1415)  loss_classifier: 0.0595 (0.0595)  loss_box_reg: 0.0751 (0.0751)  loss_objectness: 0.0051 (0.0051)  loss_rpn_box_reg: 0.0018 (0.0018)  time: 2.1557  data: 1.4826  max mem: 4959\n"
     ]
    },
    {
     "name": "stderr",
     "output_type": "stream",
     "text": [
      "libpng warning: iCCP: known incorrect sRGB profile\n",
      "libpng warning: iCCP: known incorrect sRGB profile\n"
     ]
    },
    {
     "name": "stdout",
     "output_type": "stream",
     "text": [
      "Epoch: [2]  [ 10/227]  eta: 0:02:51  lr: 0.005000  loss: 0.1613 (0.1569)  loss_classifier: 0.0561 (0.0518)  loss_box_reg: 0.0964 (0.0981)  loss_objectness: 0.0023 (0.0032)  loss_rpn_box_reg: 0.0028 (0.0038)  time: 0.7917  data: 0.1671  max mem: 4959\n"
     ]
    },
    {
     "name": "stderr",
     "output_type": "stream",
     "text": [
      "libpng warning: iCCP: known incorrect sRGB profile\n",
      "libpng warning: iCCP: known incorrect sRGB profile\n",
      "libpng warning: iCCP: known incorrect sRGB profile\n",
      "libpng warning: iCCP: known incorrect sRGB profile\n",
      "libpng warning: iCCP: known incorrect sRGB profile\n"
     ]
    },
    {
     "name": "stdout",
     "output_type": "stream",
     "text": [
      "Epoch: [2]  [ 20/227]  eta: 0:02:30  lr: 0.005000  loss: 0.1613 (0.1565)  loss_classifier: 0.0491 (0.0512)  loss_box_reg: 0.0964 (0.0993)  loss_objectness: 0.0013 (0.0026)  loss_rpn_box_reg: 0.0028 (0.0035)  time: 0.6556  data: 0.0349  max mem: 4959\n"
     ]
    },
    {
     "name": "stderr",
     "output_type": "stream",
     "text": [
      "libpng warning: iCCP: known incorrect sRGB profile\n",
      "libpng warning: iCCP: known incorrect sRGB profile\n",
      "libpng warning: iCCP: known incorrect sRGB profile\n",
      "libpng warning: iCCP: known incorrect sRGB profile\n",
      "libpng warning: iCCP: known incorrect sRGB profile\n"
     ]
    },
    {
     "name": "stdout",
     "output_type": "stream",
     "text": [
      "Epoch: [2]  [ 30/227]  eta: 0:02:18  lr: 0.005000  loss: 0.1223 (0.1535)  loss_classifier: 0.0469 (0.0504)  loss_box_reg: 0.0785 (0.0968)  loss_objectness: 0.0009 (0.0024)  loss_rpn_box_reg: 0.0031 (0.0038)  time: 0.6512  data: 0.0335  max mem: 4959\n"
     ]
    },
    {
     "name": "stderr",
     "output_type": "stream",
     "text": [
      "libpng warning: iCCP: known incorrect sRGB profile\n",
      "libpng warning: iCCP: known incorrect sRGB profile\n",
      "libpng warning: iCCP: known incorrect sRGB profile\n",
      "libpng warning: iCCP: known incorrect sRGB profile\n"
     ]
    },
    {
     "name": "stdout",
     "output_type": "stream",
     "text": [
      "Epoch: [2]  [ 40/227]  eta: 0:02:08  lr: 0.005000  loss: 0.1444 (0.1597)  loss_classifier: 0.0469 (0.0528)  loss_box_reg: 0.0941 (0.0998)  loss_objectness: 0.0011 (0.0029)  loss_rpn_box_reg: 0.0036 (0.0042)  time: 0.6459  data: 0.0324  max mem: 4959\n"
     ]
    },
    {
     "name": "stderr",
     "output_type": "stream",
     "text": [
      "libpng warning: iCCP: known incorrect sRGB profile\n",
      "libpng warning: iCCP: known incorrect sRGB profile\n",
      "libpng warning: iCCP: known incorrect sRGB profile\n",
      "libpng warning: iCCP: known incorrect sRGB profile\n",
      "libpng warning: iCCP: known incorrect sRGB profile\n",
      "libpng warning: iCCP: known incorrect sRGB profile\n"
     ]
    },
    {
     "name": "stdout",
     "output_type": "stream",
     "text": [
      "Epoch: [2]  [ 50/227]  eta: 0:02:00  lr: 0.005000  loss: 0.1566 (0.1588)  loss_classifier: 0.0528 (0.0540)  loss_box_reg: 0.0984 (0.0981)  loss_objectness: 0.0019 (0.0027)  loss_rpn_box_reg: 0.0036 (0.0040)  time: 0.6458  data: 0.0319  max mem: 4959\n"
     ]
    },
    {
     "name": "stderr",
     "output_type": "stream",
     "text": [
      "libpng warning: iCCP: known incorrect sRGB profile\n",
      "libpng warning: iCCP: known incorrect sRGB profile\n"
     ]
    },
    {
     "name": "stdout",
     "output_type": "stream",
     "text": [
      "Epoch: [2]  [ 60/227]  eta: 0:01:52  lr: 0.005000  loss: 0.1415 (0.1530)  loss_classifier: 0.0433 (0.0519)  loss_box_reg: 0.0870 (0.0948)  loss_objectness: 0.0009 (0.0025)  loss_rpn_box_reg: 0.0032 (0.0038)  time: 0.6440  data: 0.0317  max mem: 4959\n"
     ]
    },
    {
     "name": "stderr",
     "output_type": "stream",
     "text": [
      "libpng warning: iCCP: known incorrect sRGB profile\n",
      "libpng warning: iCCP: known incorrect sRGB profile\n"
     ]
    },
    {
     "name": "stdout",
     "output_type": "stream",
     "text": [
      "Epoch: [2]  [ 70/227]  eta: 0:01:45  lr: 0.005000  loss: 0.1287 (0.1534)  loss_classifier: 0.0433 (0.0520)  loss_box_reg: 0.0923 (0.0953)  loss_objectness: 0.0005 (0.0023)  loss_rpn_box_reg: 0.0031 (0.0038)  time: 0.6467  data: 0.0334  max mem: 4959\n"
     ]
    },
    {
     "name": "stderr",
     "output_type": "stream",
     "text": [
      "libpng warning: iCCP: known incorrect sRGB profile\n"
     ]
    },
    {
     "name": "stdout",
     "output_type": "stream",
     "text": [
      "Epoch: [2]  [ 80/227]  eta: 0:01:38  lr: 0.005000  loss: 0.1345 (0.1575)  loss_classifier: 0.0511 (0.0538)  loss_box_reg: 0.0937 (0.0976)  loss_objectness: 0.0007 (0.0023)  loss_rpn_box_reg: 0.0029 (0.0038)  time: 0.6478  data: 0.0342  max mem: 4959\n"
     ]
    },
    {
     "name": "stderr",
     "output_type": "stream",
     "text": [
      "libpng warning: iCCP: known incorrect sRGB profile\n"
     ]
    },
    {
     "name": "stdout",
     "output_type": "stream",
     "text": [
      "Epoch: [2]  [ 90/227]  eta: 0:01:31  lr: 0.005000  loss: 0.1295 (0.1554)  loss_classifier: 0.0517 (0.0529)  loss_box_reg: 0.0851 (0.0959)  loss_objectness: 0.0007 (0.0029)  loss_rpn_box_reg: 0.0023 (0.0037)  time: 0.6437  data: 0.0324  max mem: 4959\n"
     ]
    },
    {
     "name": "stderr",
     "output_type": "stream",
     "text": [
      "libpng warning: iCCP: known incorrect sRGB profile\n"
     ]
    },
    {
     "name": "stdout",
     "output_type": "stream",
     "text": [
      "Epoch: [2]  [100/227]  eta: 0:01:24  lr: 0.005000  loss: 0.1531 (0.1575)  loss_classifier: 0.0524 (0.0535)  loss_box_reg: 0.0861 (0.0974)  loss_objectness: 0.0010 (0.0028)  loss_rpn_box_reg: 0.0025 (0.0037)  time: 0.6424  data: 0.0315  max mem: 4959\n"
     ]
    },
    {
     "name": "stderr",
     "output_type": "stream",
     "text": [
      "libpng warning: iCCP: known incorrect sRGB profile\n"
     ]
    },
    {
     "name": "stdout",
     "output_type": "stream",
     "text": [
      "Epoch: [2]  [110/227]  eta: 0:01:17  lr: 0.005000  loss: 0.1489 (0.1566)  loss_classifier: 0.0557 (0.0536)  loss_box_reg: 0.0892 (0.0966)  loss_objectness: 0.0010 (0.0028)  loss_rpn_box_reg: 0.0029 (0.0036)  time: 0.6439  data: 0.0323  max mem: 4959\n"
     ]
    },
    {
     "name": "stderr",
     "output_type": "stream",
     "text": [
      "libpng warning: iCCP: known incorrect sRGB profile\n",
      "libpng warning: iCCP: known incorrect sRGB profile\n",
      "libpng warning: iCCP: known incorrect sRGB profile\n",
      "libpng warning: iCCP: known incorrect sRGB profile\n"
     ]
    },
    {
     "name": "stdout",
     "output_type": "stream",
     "text": [
      "Epoch: [2]  [120/227]  eta: 0:01:10  lr: 0.005000  loss: 0.1493 (0.1567)  loss_classifier: 0.0472 (0.0533)  loss_box_reg: 0.0937 (0.0971)  loss_objectness: 0.0007 (0.0027)  loss_rpn_box_reg: 0.0025 (0.0035)  time: 0.6454  data: 0.0322  max mem: 4959\n"
     ]
    },
    {
     "name": "stderr",
     "output_type": "stream",
     "text": [
      "libpng warning: iCCP: known incorrect sRGB profile\n",
      "libpng warning: iCCP: known incorrect sRGB profile\n"
     ]
    },
    {
     "name": "stdout",
     "output_type": "stream",
     "text": [
      "Epoch: [2]  [130/227]  eta: 0:01:03  lr: 0.005000  loss: 0.1592 (0.1574)  loss_classifier: 0.0521 (0.0533)  loss_box_reg: 0.1030 (0.0979)  loss_objectness: 0.0012 (0.0027)  loss_rpn_box_reg: 0.0026 (0.0035)  time: 0.6456  data: 0.0327  max mem: 4959\n"
     ]
    },
    {
     "name": "stderr",
     "output_type": "stream",
     "text": [
      "libpng warning: iCCP: known incorrect sRGB profile\n",
      "libpng warning: iCCP: known incorrect sRGB profile\n",
      "libpng warning: iCCP: known incorrect sRGB profile\n",
      "libpng warning: iCCP: known incorrect sRGB profile\n",
      "libpng warning: iCCP: known incorrect sRGB profile\n"
     ]
    },
    {
     "name": "stdout",
     "output_type": "stream",
     "text": [
      "Epoch: [2]  [140/227]  eta: 0:00:57  lr: 0.005000  loss: 0.1534 (0.1572)  loss_classifier: 0.0515 (0.0532)  loss_box_reg: 0.1015 (0.0979)  loss_objectness: 0.0018 (0.0027)  loss_rpn_box_reg: 0.0028 (0.0035)  time: 0.6496  data: 0.0340  max mem: 4959\n"
     ]
    },
    {
     "name": "stderr",
     "output_type": "stream",
     "text": [
      "libpng warning: iCCP: known incorrect sRGB profile\n",
      "libpng warning: iCCP: known incorrect sRGB profile\n"
     ]
    },
    {
     "name": "stdout",
     "output_type": "stream",
     "text": [
      "Epoch: [2]  [150/227]  eta: 0:00:50  lr: 0.005000  loss: 0.1522 (0.1573)  loss_classifier: 0.0462 (0.0532)  loss_box_reg: 0.0948 (0.0980)  loss_objectness: 0.0011 (0.0026)  loss_rpn_box_reg: 0.0028 (0.0035)  time: 0.6493  data: 0.0330  max mem: 4959\n"
     ]
    },
    {
     "name": "stderr",
     "output_type": "stream",
     "text": [
      "libpng warning: iCCP: known incorrect sRGB profile\n",
      "libpng warning: iCCP: known incorrect sRGB profile\n",
      "libpng warning: iCCP: known incorrect sRGB profile\n"
     ]
    },
    {
     "name": "stdout",
     "output_type": "stream",
     "text": [
      "Epoch: [2]  [160/227]  eta: 0:00:44  lr: 0.005000  loss: 0.1493 (0.1587)  loss_classifier: 0.0460 (0.0535)  loss_box_reg: 0.0894 (0.0990)  loss_objectness: 0.0012 (0.0027)  loss_rpn_box_reg: 0.0030 (0.0035)  time: 0.6487  data: 0.0345  max mem: 4959\n"
     ]
    },
    {
     "name": "stderr",
     "output_type": "stream",
     "text": [
      "libpng warning: iCCP: known incorrect sRGB profile\n",
      "libpng warning: iCCP: known incorrect sRGB profile\n",
      "libpng warning: iCCP: known incorrect sRGB profile\n"
     ]
    },
    {
     "name": "stdout",
     "output_type": "stream",
     "text": [
      "Epoch: [2]  [170/227]  eta: 0:00:37  lr: 0.005000  loss: 0.1493 (0.1585)  loss_classifier: 0.0461 (0.0535)  loss_box_reg: 0.0886 (0.0989)  loss_objectness: 0.0014 (0.0026)  loss_rpn_box_reg: 0.0029 (0.0034)  time: 0.6508  data: 0.0350  max mem: 4959\n"
     ]
    },
    {
     "name": "stderr",
     "output_type": "stream",
     "text": [
      "libpng warning: iCCP: known incorrect sRGB profile\n"
     ]
    },
    {
     "name": "stdout",
     "output_type": "stream",
     "text": [
      "Epoch: [2]  [180/227]  eta: 0:00:30  lr: 0.005000  loss: 0.1359 (0.1578)  loss_classifier: 0.0492 (0.0534)  loss_box_reg: 0.0801 (0.0983)  loss_objectness: 0.0013 (0.0026)  loss_rpn_box_reg: 0.0022 (0.0034)  time: 0.6457  data: 0.0315  max mem: 4959\n"
     ]
    },
    {
     "name": "stderr",
     "output_type": "stream",
     "text": [
      "libpng warning: iCCP: known incorrect sRGB profile\n",
      "libpng warning: iCCP: known incorrect sRGB profile\n",
      "libpng warning: iCCP: known incorrect sRGB profile\n",
      "libpng warning: iCCP: known incorrect sRGB profile\n",
      "libpng warning: iCCP: known incorrect sRGB profile\n"
     ]
    },
    {
     "name": "stdout",
     "output_type": "stream",
     "text": [
      "Epoch: [2]  [190/227]  eta: 0:00:24  lr: 0.005000  loss: 0.1359 (0.1574)  loss_classifier: 0.0512 (0.0531)  loss_box_reg: 0.0786 (0.0984)  loss_objectness: 0.0007 (0.0025)  loss_rpn_box_reg: 0.0022 (0.0034)  time: 0.6454  data: 0.0321  max mem: 4959\n"
     ]
    },
    {
     "name": "stderr",
     "output_type": "stream",
     "text": [
      "libpng warning: iCCP: known incorrect sRGB profile\n"
     ]
    },
    {
     "name": "stdout",
     "output_type": "stream",
     "text": [
      "Epoch: [2]  [200/227]  eta: 0:00:17  lr: 0.005000  loss: 0.1577 (0.1582)  loss_classifier: 0.0542 (0.0533)  loss_box_reg: 0.0930 (0.0989)  loss_objectness: 0.0006 (0.0025)  loss_rpn_box_reg: 0.0028 (0.0034)  time: 0.6502  data: 0.0331  max mem: 4959\n"
     ]
    },
    {
     "name": "stderr",
     "output_type": "stream",
     "text": [
      "libpng warning: iCCP: known incorrect sRGB profile\n"
     ]
    },
    {
     "name": "stdout",
     "output_type": "stream",
     "text": [
      "Epoch: [2]  [210/227]  eta: 0:00:11  lr: 0.005000  loss: 0.1394 (0.1578)  loss_classifier: 0.0519 (0.0531)  loss_box_reg: 0.0887 (0.0989)  loss_objectness: 0.0006 (0.0025)  loss_rpn_box_reg: 0.0027 (0.0034)  time: 0.6512  data: 0.0351  max mem: 4959\n"
     ]
    },
    {
     "name": "stderr",
     "output_type": "stream",
     "text": [
      "libpng warning: iCCP: known incorrect sRGB profile\n"
     ]
    },
    {
     "name": "stdout",
     "output_type": "stream",
     "text": [
      "Epoch: [2]  [220/227]  eta: 0:00:04  lr: 0.005000  loss: 0.1217 (0.1571)  loss_classifier: 0.0393 (0.0529)  loss_box_reg: 0.0798 (0.0982)  loss_objectness: 0.0011 (0.0025)  loss_rpn_box_reg: 0.0023 (0.0035)  time: 0.6463  data: 0.0340  max mem: 4959\n",
      "Epoch: [2]  [226/227]  eta: 0:00:00  lr: 0.005000  loss: 0.1414 (0.1575)  loss_classifier: 0.0475 (0.0531)  loss_box_reg: 0.0814 (0.0984)  loss_objectness: 0.0023 (0.0025)  loss_rpn_box_reg: 0.0027 (0.0034)  time: 0.6348  data: 0.0316  max mem: 4959\n",
      "Epoch: [2] Total time: 0:02:28 (0.6533 s / it)\n",
      "creating index...\n",
      "index created!\n",
      "Test:  [ 0/19]  eta: 0:00:17  model_time: 0.2604 (0.2604)  evaluator_time: 0.0044 (0.0044)  time: 0.9092  data: 0.5658  max mem: 4959\n",
      "Test:  [18/19]  eta: 0:00:00  model_time: 0.2530 (0.2504)  evaluator_time: 0.0044 (0.0070)  time: 0.3484  data: 0.0586  max mem: 4959\n",
      "Test: Total time: 0:00:06 (0.3502 s / it)\n",
      "Averaged stats: model_time: 0.2530 (0.2504)  evaluator_time: 0.0044 (0.0070)\n",
      "Accumulating evaluation results...\n",
      "DONE (t=0.02s).\n",
      "IoU metric: bbox\n",
      " Average Precision  (AP) @[ IoU=0.50:0.95 | area=   all | maxDets=100 ] = 0.097\n",
      " Average Precision  (AP) @[ IoU=0.50      | area=   all | maxDets=100 ] = 0.201\n",
      " Average Precision  (AP) @[ IoU=0.75      | area=   all | maxDets=100 ] = 0.095\n",
      " Average Precision  (AP) @[ IoU=0.50:0.95 | area= small | maxDets=100 ] = 0.000\n",
      " Average Precision  (AP) @[ IoU=0.50:0.95 | area=medium | maxDets=100 ] = 0.064\n",
      " Average Precision  (AP) @[ IoU=0.50:0.95 | area= large | maxDets=100 ] = 0.340\n",
      " Average Recall     (AR) @[ IoU=0.50:0.95 | area=   all | maxDets=  1 ] = 0.037\n",
      " Average Recall     (AR) @[ IoU=0.50:0.95 | area=   all | maxDets= 10 ] = 0.115\n",
      " Average Recall     (AR) @[ IoU=0.50:0.95 | area=   all | maxDets=100 ] = 0.116\n",
      " Average Recall     (AR) @[ IoU=0.50:0.95 | area= small | maxDets=100 ] = 0.000\n",
      " Average Recall     (AR) @[ IoU=0.50:0.95 | area=medium | maxDets=100 ] = 0.078\n",
      " Average Recall     (AR) @[ IoU=0.50:0.95 | area= large | maxDets=100 ] = 0.409\n"
     ]
    },
    {
     "name": "stderr",
     "output_type": "stream",
     "text": [
      "libpng warning: iCCP: known incorrect sRGB profile\n",
      "libpng warning: iCCP: known incorrect sRGB profile\n"
     ]
    },
    {
     "name": "stdout",
     "output_type": "stream",
     "text": [
      "Epoch: [3]  [  0/227]  eta: 0:08:02  lr: 0.000500  loss: 0.1369 (0.1369)  loss_classifier: 0.0421 (0.0421)  loss_box_reg: 0.0913 (0.0913)  loss_objectness: 0.0002 (0.0002)  loss_rpn_box_reg: 0.0033 (0.0033)  time: 2.1250  data: 1.3850  max mem: 4959\n"
     ]
    },
    {
     "name": "stderr",
     "output_type": "stream",
     "text": [
      "libpng warning: iCCP: known incorrect sRGB profile\n",
      "libpng warning: iCCP: known incorrect sRGB profile\n"
     ]
    },
    {
     "name": "stdout",
     "output_type": "stream",
     "text": [
      "Epoch: [3]  [ 10/227]  eta: 0:02:51  lr: 0.000500  loss: 0.1323 (0.1392)  loss_classifier: 0.0421 (0.0455)  loss_box_reg: 0.0880 (0.0886)  loss_objectness: 0.0018 (0.0021)  loss_rpn_box_reg: 0.0022 (0.0030)  time: 0.7895  data: 0.1571  max mem: 4959\n"
     ]
    },
    {
     "name": "stderr",
     "output_type": "stream",
     "text": [
      "libpng warning: iCCP: known incorrect sRGB profile\n",
      "libpng warning: iCCP: known incorrect sRGB profile\n",
      "libpng warning: iCCP: known incorrect sRGB profile\n",
      "libpng warning: iCCP: known incorrect sRGB profile\n",
      "libpng warning: iCCP: known incorrect sRGB profile\n"
     ]
    },
    {
     "name": "stdout",
     "output_type": "stream",
     "text": [
      "Epoch: [3]  [ 20/227]  eta: 0:02:30  lr: 0.000500  loss: 0.1192 (0.1379)  loss_classifier: 0.0393 (0.0446)  loss_box_reg: 0.0756 (0.0885)  loss_objectness: 0.0014 (0.0018)  loss_rpn_box_reg: 0.0022 (0.0030)  time: 0.6553  data: 0.0342  max mem: 4959\n"
     ]
    },
    {
     "name": "stderr",
     "output_type": "stream",
     "text": [
      "libpng warning: iCCP: known incorrect sRGB profile\n",
      "libpng warning: iCCP: known incorrect sRGB profile\n"
     ]
    },
    {
     "name": "stdout",
     "output_type": "stream",
     "text": [
      "Epoch: [3]  [ 30/227]  eta: 0:02:17  lr: 0.000500  loss: 0.1192 (0.1349)  loss_classifier: 0.0410 (0.0442)  loss_box_reg: 0.0775 (0.0862)  loss_objectness: 0.0012 (0.0017)  loss_rpn_box_reg: 0.0022 (0.0027)  time: 0.6511  data: 0.0336  max mem: 4959\n",
      "Epoch: [3]  [ 40/227]  eta: 0:02:08  lr: 0.000500  loss: 0.1158 (0.1290)  loss_classifier: 0.0420 (0.0435)  loss_box_reg: 0.0695 (0.0814)  loss_objectness: 0.0008 (0.0016)  loss_rpn_box_reg: 0.0018 (0.0025)  time: 0.6482  data: 0.0336  max mem: 4959\n"
     ]
    },
    {
     "name": "stderr",
     "output_type": "stream",
     "text": [
      "libpng warning: iCCP: known incorrect sRGB profile\n"
     ]
    },
    {
     "name": "stdout",
     "output_type": "stream",
     "text": [
      "Epoch: [3]  [ 50/227]  eta: 0:02:00  lr: 0.000500  loss: 0.1071 (0.1312)  loss_classifier: 0.0433 (0.0445)  loss_box_reg: 0.0607 (0.0826)  loss_objectness: 0.0008 (0.0015)  loss_rpn_box_reg: 0.0023 (0.0026)  time: 0.6506  data: 0.0342  max mem: 4959\n"
     ]
    },
    {
     "name": "stderr",
     "output_type": "stream",
     "text": [
      "libpng warning: iCCP: known incorrect sRGB profile\n",
      "libpng warning: iCCP: known incorrect sRGB profile\n",
      "libpng warning: iCCP: known incorrect sRGB profile\n"
     ]
    },
    {
     "name": "stdout",
     "output_type": "stream",
     "text": [
      "Epoch: [3]  [ 60/227]  eta: 0:01:52  lr: 0.000500  loss: 0.1368 (0.1329)  loss_classifier: 0.0453 (0.0446)  loss_box_reg: 0.0886 (0.0841)  loss_objectness: 0.0008 (0.0015)  loss_rpn_box_reg: 0.0032 (0.0028)  time: 0.6514  data: 0.0339  max mem: 4959\n"
     ]
    },
    {
     "name": "stderr",
     "output_type": "stream",
     "text": [
      "libpng warning: iCCP: known incorrect sRGB profile\n",
      "libpng warning: iCCP: known incorrect sRGB profile\n"
     ]
    },
    {
     "name": "stdout",
     "output_type": "stream",
     "text": [
      "Epoch: [3]  [ 70/227]  eta: 0:01:45  lr: 0.000500  loss: 0.1375 (0.1349)  loss_classifier: 0.0453 (0.0453)  loss_box_reg: 0.0886 (0.0853)  loss_objectness: 0.0011 (0.0016)  loss_rpn_box_reg: 0.0029 (0.0028)  time: 0.6518  data: 0.0343  max mem: 4959\n"
     ]
    },
    {
     "name": "stderr",
     "output_type": "stream",
     "text": [
      "libpng warning: iCCP: known incorrect sRGB profile\n",
      "libpng warning: iCCP: known incorrect sRGB profile\n",
      "libpng warning: iCCP: known incorrect sRGB profile\n"
     ]
    },
    {
     "name": "stdout",
     "output_type": "stream",
     "text": [
      "Epoch: [3]  [ 80/227]  eta: 0:01:38  lr: 0.000500  loss: 0.1432 (0.1370)  loss_classifier: 0.0486 (0.0459)  loss_box_reg: 0.0915 (0.0868)  loss_objectness: 0.0010 (0.0015)  loss_rpn_box_reg: 0.0028 (0.0028)  time: 0.6525  data: 0.0346  max mem: 4959\n"
     ]
    },
    {
     "name": "stderr",
     "output_type": "stream",
     "text": [
      "libpng warning: iCCP: known incorrect sRGB profile\n",
      "libpng warning: iCCP: known incorrect sRGB profile\n",
      "libpng warning: iCCP: known incorrect sRGB profile\n"
     ]
    },
    {
     "name": "stdout",
     "output_type": "stream",
     "text": [
      "Epoch: [3]  [ 90/227]  eta: 0:01:31  lr: 0.000500  loss: 0.1409 (0.1380)  loss_classifier: 0.0477 (0.0467)  loss_box_reg: 0.0924 (0.0869)  loss_objectness: 0.0010 (0.0016)  loss_rpn_box_reg: 0.0024 (0.0028)  time: 0.6489  data: 0.0329  max mem: 4959\n"
     ]
    },
    {
     "name": "stderr",
     "output_type": "stream",
     "text": [
      "libpng warning: iCCP: known incorrect sRGB profile\n",
      "libpng warning: iCCP: known incorrect sRGB profile\n",
      "libpng warning: iCCP: known incorrect sRGB profile\n",
      "libpng warning: iCCP: known incorrect sRGB profile\n"
     ]
    },
    {
     "name": "stdout",
     "output_type": "stream",
     "text": [
      "Epoch: [3]  [100/227]  eta: 0:01:24  lr: 0.000500  loss: 0.1169 (0.1358)  loss_classifier: 0.0399 (0.0457)  loss_box_reg: 0.0736 (0.0857)  loss_objectness: 0.0010 (0.0015)  loss_rpn_box_reg: 0.0023 (0.0028)  time: 0.6458  data: 0.0328  max mem: 4959\n"
     ]
    },
    {
     "name": "stderr",
     "output_type": "stream",
     "text": [
      "libpng warning: iCCP: known incorrect sRGB profile\n"
     ]
    },
    {
     "name": "stdout",
     "output_type": "stream",
     "text": [
      "Epoch: [3]  [110/227]  eta: 0:01:17  lr: 0.000500  loss: 0.1103 (0.1347)  loss_classifier: 0.0352 (0.0454)  loss_box_reg: 0.0724 (0.0851)  loss_objectness: 0.0004 (0.0015)  loss_rpn_box_reg: 0.0019 (0.0027)  time: 0.6436  data: 0.0325  max mem: 4959\n"
     ]
    },
    {
     "name": "stderr",
     "output_type": "stream",
     "text": [
      "libpng warning: iCCP: known incorrect sRGB profile\n",
      "libpng warning: iCCP: known incorrect sRGB profile\n",
      "libpng warning: iCCP: known incorrect sRGB profile\n",
      "libpng warning: iCCP: known incorrect sRGB profile\n"
     ]
    },
    {
     "name": "stdout",
     "output_type": "stream",
     "text": [
      "Epoch: [3]  [120/227]  eta: 0:01:10  lr: 0.000500  loss: 0.1179 (0.1351)  loss_classifier: 0.0454 (0.0455)  loss_box_reg: 0.0689 (0.0854)  loss_objectness: 0.0006 (0.0014)  loss_rpn_box_reg: 0.0023 (0.0028)  time: 0.6487  data: 0.0333  max mem: 4959\n"
     ]
    },
    {
     "name": "stderr",
     "output_type": "stream",
     "text": [
      "libpng warning: iCCP: known incorrect sRGB profile\n",
      "libpng warning: iCCP: known incorrect sRGB profile\n",
      "libpng warning: iCCP: known incorrect sRGB profile\n"
     ]
    },
    {
     "name": "stdout",
     "output_type": "stream",
     "text": [
      "Epoch: [3]  [130/227]  eta: 0:01:04  lr: 0.000500  loss: 0.1220 (0.1349)  loss_classifier: 0.0437 (0.0455)  loss_box_reg: 0.0756 (0.0852)  loss_objectness: 0.0007 (0.0014)  loss_rpn_box_reg: 0.0025 (0.0028)  time: 0.6502  data: 0.0341  max mem: 4959\n"
     ]
    },
    {
     "name": "stderr",
     "output_type": "stream",
     "text": [
      "libpng warning: iCCP: known incorrect sRGB profile\n",
      "libpng warning: iCCP: known incorrect sRGB profile\n"
     ]
    },
    {
     "name": "stdout",
     "output_type": "stream",
     "text": [
      "Epoch: [3]  [140/227]  eta: 0:00:57  lr: 0.000500  loss: 0.1225 (0.1344)  loss_classifier: 0.0437 (0.0456)  loss_box_reg: 0.0782 (0.0847)  loss_objectness: 0.0007 (0.0014)  loss_rpn_box_reg: 0.0025 (0.0028)  time: 0.6437  data: 0.0320  max mem: 4959\n"
     ]
    },
    {
     "name": "stderr",
     "output_type": "stream",
     "text": [
      "libpng warning: iCCP: known incorrect sRGB profile\n",
      "libpng warning: iCCP: known incorrect sRGB profile\n"
     ]
    },
    {
     "name": "stdout",
     "output_type": "stream",
     "text": [
      "Epoch: [3]  [150/227]  eta: 0:00:50  lr: 0.000500  loss: 0.1214 (0.1352)  loss_classifier: 0.0460 (0.0456)  loss_box_reg: 0.0771 (0.0855)  loss_objectness: 0.0007 (0.0014)  loss_rpn_box_reg: 0.0026 (0.0028)  time: 0.6436  data: 0.0318  max mem: 4959\n"
     ]
    },
    {
     "name": "stderr",
     "output_type": "stream",
     "text": [
      "libpng warning: iCCP: known incorrect sRGB profile\n",
      "libpng warning: iCCP: known incorrect sRGB profile\n",
      "libpng warning: iCCP: known incorrect sRGB profile\n",
      "libpng warning: iCCP: known incorrect sRGB profile\n",
      "libpng warning: iCCP: known incorrect sRGB profile\n",
      "libpng warning: iCCP: known incorrect sRGB profile\n"
     ]
    },
    {
     "name": "stdout",
     "output_type": "stream",
     "text": [
      "Epoch: [3]  [160/227]  eta: 0:00:44  lr: 0.000500  loss: 0.1238 (0.1360)  loss_classifier: 0.0439 (0.0459)  loss_box_reg: 0.0860 (0.0859)  loss_objectness: 0.0009 (0.0014)  loss_rpn_box_reg: 0.0023 (0.0028)  time: 0.6471  data: 0.0332  max mem: 4959\n"
     ]
    },
    {
     "name": "stderr",
     "output_type": "stream",
     "text": [
      "libpng warning: iCCP: known incorrect sRGB profile\n",
      "libpng warning: iCCP: known incorrect sRGB profile\n",
      "libpng warning: iCCP: known incorrect sRGB profile\n",
      "libpng warning: iCCP: known incorrect sRGB profile\n"
     ]
    },
    {
     "name": "stdout",
     "output_type": "stream",
     "text": [
      "Epoch: [3]  [170/227]  eta: 0:00:37  lr: 0.000500  loss: 0.1233 (0.1339)  loss_classifier: 0.0407 (0.0452)  loss_box_reg: 0.0714 (0.0845)  loss_objectness: 0.0009 (0.0014)  loss_rpn_box_reg: 0.0021 (0.0028)  time: 0.6519  data: 0.0344  max mem: 4959\n"
     ]
    },
    {
     "name": "stderr",
     "output_type": "stream",
     "text": [
      "libpng warning: iCCP: known incorrect sRGB profile\n",
      "libpng warning: iCCP: known incorrect sRGB profile\n",
      "libpng warning: iCCP: known incorrect sRGB profile\n",
      "libpng warning: iCCP: known incorrect sRGB profile\n"
     ]
    },
    {
     "name": "stdout",
     "output_type": "stream",
     "text": [
      "Epoch: [3]  [180/227]  eta: 0:00:30  lr: 0.000500  loss: 0.0999 (0.1337)  loss_classifier: 0.0351 (0.0450)  loss_box_reg: 0.0620 (0.0845)  loss_objectness: 0.0008 (0.0014)  loss_rpn_box_reg: 0.0020 (0.0028)  time: 0.6496  data: 0.0334  max mem: 4959\n"
     ]
    },
    {
     "name": "stderr",
     "output_type": "stream",
     "text": [
      "libpng warning: iCCP: known incorrect sRGB profile\n"
     ]
    },
    {
     "name": "stdout",
     "output_type": "stream",
     "text": [
      "Epoch: [3]  [190/227]  eta: 0:00:24  lr: 0.000500  loss: 0.1493 (0.1348)  loss_classifier: 0.0394 (0.0453)  loss_box_reg: 0.0887 (0.0853)  loss_objectness: 0.0011 (0.0015)  loss_rpn_box_reg: 0.0020 (0.0028)  time: 0.6427  data: 0.0302  max mem: 4959\n"
     ]
    },
    {
     "name": "stderr",
     "output_type": "stream",
     "text": [
      "libpng warning: iCCP: known incorrect sRGB profile\n",
      "libpng warning: iCCP: known incorrect sRGB profile\n",
      "libpng warning: iCCP: known incorrect sRGB profile\n",
      "libpng warning: iCCP: known incorrect sRGB profile\n",
      "libpng warning: iCCP: known incorrect sRGB profile\n"
     ]
    },
    {
     "name": "stdout",
     "output_type": "stream",
     "text": [
      "Epoch: [3]  [200/227]  eta: 0:00:17  lr: 0.000500  loss: 0.1602 (0.1367)  loss_classifier: 0.0438 (0.0458)  loss_box_reg: 0.1028 (0.0866)  loss_objectness: 0.0011 (0.0015)  loss_rpn_box_reg: 0.0031 (0.0029)  time: 0.6432  data: 0.0308  max mem: 4959\n"
     ]
    },
    {
     "name": "stderr",
     "output_type": "stream",
     "text": [
      "libpng warning: iCCP: known incorrect sRGB profile\n",
      "libpng warning: iCCP: known incorrect sRGB profile\n"
     ]
    },
    {
     "name": "stdout",
     "output_type": "stream",
     "text": [
      "Epoch: [3]  [210/227]  eta: 0:00:11  lr: 0.000500  loss: 0.1312 (0.1367)  loss_classifier: 0.0422 (0.0457)  loss_box_reg: 0.0881 (0.0866)  loss_objectness: 0.0007 (0.0015)  loss_rpn_box_reg: 0.0029 (0.0029)  time: 0.6435  data: 0.0319  max mem: 4959\n",
      "Epoch: [3]  [220/227]  eta: 0:00:04  lr: 0.000500  loss: 0.1319 (0.1375)  loss_classifier: 0.0481 (0.0459)  loss_box_reg: 0.0871 (0.0871)  loss_objectness: 0.0005 (0.0015)  loss_rpn_box_reg: 0.0023 (0.0029)  time: 0.6419  data: 0.0320  max mem: 4959\n",
      "Epoch: [3]  [226/227]  eta: 0:00:00  lr: 0.000500  loss: 0.1421 (0.1377)  loss_classifier: 0.0484 (0.0461)  loss_box_reg: 0.0941 (0.0872)  loss_objectness: 0.0009 (0.0015)  loss_rpn_box_reg: 0.0027 (0.0029)  time: 0.6327  data: 0.0308  max mem: 4959\n",
      "Epoch: [3] Total time: 0:02:28 (0.6537 s / it)\n",
      "creating index...\n",
      "index created!\n",
      "Test:  [ 0/19]  eta: 0:00:16  model_time: 0.2590 (0.2590)  evaluator_time: 0.0054 (0.0054)  time: 0.8779  data: 0.5591  max mem: 4959\n",
      "Test:  [18/19]  eta: 0:00:00  model_time: 0.2527 (0.2502)  evaluator_time: 0.0050 (0.0082)  time: 0.3422  data: 0.0551  max mem: 4959\n",
      "Test: Total time: 0:00:06 (0.3440 s / it)\n",
      "Averaged stats: model_time: 0.2527 (0.2502)  evaluator_time: 0.0050 (0.0082)\n",
      "Accumulating evaluation results...\n",
      "DONE (t=0.02s).\n",
      "IoU metric: bbox\n",
      " Average Precision  (AP) @[ IoU=0.50:0.95 | area=   all | maxDets=100 ] = 0.103\n",
      " Average Precision  (AP) @[ IoU=0.50      | area=   all | maxDets=100 ] = 0.225\n",
      " Average Precision  (AP) @[ IoU=0.75      | area=   all | maxDets=100 ] = 0.082\n",
      " Average Precision  (AP) @[ IoU=0.50:0.95 | area= small | maxDets=100 ] = 0.000\n",
      " Average Precision  (AP) @[ IoU=0.50:0.95 | area=medium | maxDets=100 ] = 0.074\n",
      " Average Precision  (AP) @[ IoU=0.50:0.95 | area= large | maxDets=100 ] = 0.342\n",
      " Average Recall     (AR) @[ IoU=0.50:0.95 | area=   all | maxDets=  1 ] = 0.036\n",
      " Average Recall     (AR) @[ IoU=0.50:0.95 | area=   all | maxDets= 10 ] = 0.123\n",
      " Average Recall     (AR) @[ IoU=0.50:0.95 | area=   all | maxDets=100 ] = 0.126\n",
      " Average Recall     (AR) @[ IoU=0.50:0.95 | area= small | maxDets=100 ] = 0.000\n",
      " Average Recall     (AR) @[ IoU=0.50:0.95 | area=medium | maxDets=100 ] = 0.092\n",
      " Average Recall     (AR) @[ IoU=0.50:0.95 | area= large | maxDets=100 ] = 0.422\n"
     ]
    },
    {
     "name": "stderr",
     "output_type": "stream",
     "text": [
      "libpng warning: iCCP: known incorrect sRGB profile\n"
     ]
    },
    {
     "name": "stdout",
     "output_type": "stream",
     "text": [
      "Epoch: [4]  [  0/227]  eta: 0:07:42  lr: 0.000500  loss: 0.1255 (0.1255)  loss_classifier: 0.0493 (0.0493)  loss_box_reg: 0.0719 (0.0719)  loss_objectness: 0.0021 (0.0021)  loss_rpn_box_reg: 0.0023 (0.0023)  time: 2.0378  data: 1.3774  max mem: 4959\n"
     ]
    },
    {
     "name": "stderr",
     "output_type": "stream",
     "text": [
      "libpng warning: iCCP: known incorrect sRGB profile\n",
      "libpng warning: iCCP: known incorrect sRGB profile\n",
      "libpng warning: iCCP: known incorrect sRGB profile\n",
      "libpng warning: iCCP: known incorrect sRGB profile\n"
     ]
    },
    {
     "name": "stdout",
     "output_type": "stream",
     "text": [
      "Epoch: [4]  [ 10/227]  eta: 0:02:48  lr: 0.000500  loss: 0.1255 (0.1343)  loss_classifier: 0.0489 (0.0470)  loss_box_reg: 0.0719 (0.0830)  loss_objectness: 0.0010 (0.0012)  loss_rpn_box_reg: 0.0021 (0.0032)  time: 0.7754  data: 0.1529  max mem: 4959\n"
     ]
    },
    {
     "name": "stderr",
     "output_type": "stream",
     "text": [
      "libpng warning: iCCP: known incorrect sRGB profile\n",
      "libpng warning: iCCP: known incorrect sRGB profile\n",
      "libpng warning: iCCP: known incorrect sRGB profile\n"
     ]
    },
    {
     "name": "stdout",
     "output_type": "stream",
     "text": [
      "Epoch: [4]  [ 20/227]  eta: 0:02:27  lr: 0.000500  loss: 0.1140 (0.1272)  loss_classifier: 0.0388 (0.0441)  loss_box_reg: 0.0728 (0.0791)  loss_objectness: 0.0008 (0.0011)  loss_rpn_box_reg: 0.0021 (0.0028)  time: 0.6488  data: 0.0318  max mem: 4959\n"
     ]
    },
    {
     "name": "stderr",
     "output_type": "stream",
     "text": [
      "libpng warning: iCCP: known incorrect sRGB profile\n",
      "libpng warning: iCCP: known incorrect sRGB profile\n",
      "libpng warning: iCCP: known incorrect sRGB profile\n",
      "libpng warning: iCCP: known incorrect sRGB profile\n",
      "libpng warning: iCCP: known incorrect sRGB profile\n",
      "libpng warning: iCCP: known incorrect sRGB profile\n"
     ]
    },
    {
     "name": "stdout",
     "output_type": "stream",
     "text": [
      "Epoch: [4]  [ 30/227]  eta: 0:02:16  lr: 0.000500  loss: 0.1140 (0.1271)  loss_classifier: 0.0388 (0.0433)  loss_box_reg: 0.0693 (0.0794)  loss_objectness: 0.0008 (0.0014)  loss_rpn_box_reg: 0.0023 (0.0031)  time: 0.6498  data: 0.0341  max mem: 4959\n"
     ]
    },
    {
     "name": "stderr",
     "output_type": "stream",
     "text": [
      "libpng warning: iCCP: known incorrect sRGB profile\n",
      "libpng warning: iCCP: known incorrect sRGB profile\n"
     ]
    },
    {
     "name": "stdout",
     "output_type": "stream",
     "text": [
      "Epoch: [4]  [ 40/227]  eta: 0:02:07  lr: 0.000500  loss: 0.1173 (0.1303)  loss_classifier: 0.0427 (0.0460)  loss_box_reg: 0.0650 (0.0798)  loss_objectness: 0.0009 (0.0014)  loss_rpn_box_reg: 0.0023 (0.0031)  time: 0.6452  data: 0.0326  max mem: 4959\n"
     ]
    },
    {
     "name": "stderr",
     "output_type": "stream",
     "text": [
      "libpng warning: iCCP: known incorrect sRGB profile\n",
      "libpng warning: iCCP: known incorrect sRGB profile\n",
      "libpng warning: iCCP: known incorrect sRGB profile\n",
      "libpng warning: iCCP: known incorrect sRGB profile\n"
     ]
    },
    {
     "name": "stdout",
     "output_type": "stream",
     "text": [
      "Epoch: [4]  [ 50/227]  eta: 0:01:58  lr: 0.000500  loss: 0.1233 (0.1308)  loss_classifier: 0.0443 (0.0449)  loss_box_reg: 0.0764 (0.0815)  loss_objectness: 0.0009 (0.0014)  loss_rpn_box_reg: 0.0024 (0.0029)  time: 0.6364  data: 0.0281  max mem: 4959\n"
     ]
    },
    {
     "name": "stderr",
     "output_type": "stream",
     "text": [
      "libpng warning: iCCP: known incorrect sRGB profile\n",
      "libpng warning: iCCP: known incorrect sRGB profile\n",
      "libpng warning: iCCP: known incorrect sRGB profile\n"
     ]
    },
    {
     "name": "stdout",
     "output_type": "stream",
     "text": [
      "Epoch: [4]  [ 60/227]  eta: 0:01:51  lr: 0.000500  loss: 0.1259 (0.1311)  loss_classifier: 0.0437 (0.0450)  loss_box_reg: 0.0840 (0.0820)  loss_objectness: 0.0004 (0.0013)  loss_rpn_box_reg: 0.0021 (0.0028)  time: 0.6368  data: 0.0279  max mem: 4959\n",
      "Epoch: [4]  [ 70/227]  eta: 0:01:44  lr: 0.000500  loss: 0.1301 (0.1322)  loss_classifier: 0.0453 (0.0453)  loss_box_reg: 0.0822 (0.0829)  loss_objectness: 0.0003 (0.0013)  loss_rpn_box_reg: 0.0023 (0.0028)  time: 0.6438  data: 0.0306  max mem: 4959\n"
     ]
    },
    {
     "name": "stderr",
     "output_type": "stream",
     "text": [
      "libpng warning: iCCP: known incorrect sRGB profile\n",
      "libpng warning: iCCP: known incorrect sRGB profile\n",
      "libpng warning: iCCP: known incorrect sRGB profile\n"
     ]
    },
    {
     "name": "stdout",
     "output_type": "stream",
     "text": [
      "Epoch: [4]  [ 80/227]  eta: 0:01:37  lr: 0.000500  loss: 0.1294 (0.1304)  loss_classifier: 0.0436 (0.0446)  loss_box_reg: 0.0816 (0.0817)  loss_objectness: 0.0006 (0.0013)  loss_rpn_box_reg: 0.0025 (0.0028)  time: 0.6477  data: 0.0327  max mem: 4959\n"
     ]
    },
    {
     "name": "stderr",
     "output_type": "stream",
     "text": [
      "libpng warning: iCCP: known incorrect sRGB profile\n",
      "libpng warning: iCCP: known incorrect sRGB profile\n",
      "libpng warning: iCCP: known incorrect sRGB profile\n",
      "libpng warning: iCCP: known incorrect sRGB profile\n",
      "libpng warning: iCCP: known incorrect sRGB profile\n"
     ]
    },
    {
     "name": "stdout",
     "output_type": "stream",
     "text": [
      "Epoch: [4]  [ 90/227]  eta: 0:01:30  lr: 0.000500  loss: 0.1075 (0.1286)  loss_classifier: 0.0348 (0.0439)  loss_box_reg: 0.0710 (0.0806)  loss_objectness: 0.0007 (0.0013)  loss_rpn_box_reg: 0.0023 (0.0028)  time: 0.6462  data: 0.0328  max mem: 4959\n"
     ]
    },
    {
     "name": "stderr",
     "output_type": "stream",
     "text": [
      "libpng warning: iCCP: known incorrect sRGB profile\n",
      "libpng warning: iCCP: known incorrect sRGB profile\n",
      "libpng warning: iCCP: known incorrect sRGB profile\n"
     ]
    },
    {
     "name": "stdout",
     "output_type": "stream",
     "text": [
      "Epoch: [4]  [100/227]  eta: 0:01:23  lr: 0.000500  loss: 0.1079 (0.1268)  loss_classifier: 0.0339 (0.0432)  loss_box_reg: 0.0650 (0.0795)  loss_objectness: 0.0006 (0.0013)  loss_rpn_box_reg: 0.0023 (0.0028)  time: 0.6442  data: 0.0320  max mem: 4959\n"
     ]
    },
    {
     "name": "stderr",
     "output_type": "stream",
     "text": [
      "libpng warning: iCCP: known incorrect sRGB profile\n",
      "libpng warning: iCCP: known incorrect sRGB profile\n",
      "libpng warning: iCCP: known incorrect sRGB profile\n"
     ]
    },
    {
     "name": "stdout",
     "output_type": "stream",
     "text": [
      "Epoch: [4]  [110/227]  eta: 0:01:16  lr: 0.000500  loss: 0.1223 (0.1285)  loss_classifier: 0.0413 (0.0437)  loss_box_reg: 0.0719 (0.0805)  loss_objectness: 0.0009 (0.0014)  loss_rpn_box_reg: 0.0025 (0.0028)  time: 0.6443  data: 0.0319  max mem: 4959\n"
     ]
    },
    {
     "name": "stderr",
     "output_type": "stream",
     "text": [
      "libpng warning: iCCP: known incorrect sRGB profile\n",
      "libpng warning: iCCP: known incorrect sRGB profile\n"
     ]
    },
    {
     "name": "stdout",
     "output_type": "stream",
     "text": [
      "Epoch: [4]  [120/227]  eta: 0:01:10  lr: 0.000500  loss: 0.1211 (0.1288)  loss_classifier: 0.0428 (0.0433)  loss_box_reg: 0.0786 (0.0813)  loss_objectness: 0.0008 (0.0014)  loss_rpn_box_reg: 0.0026 (0.0029)  time: 0.6521  data: 0.0330  max mem: 4959\n",
      "Epoch: [4]  [130/227]  eta: 0:01:03  lr: 0.000500  loss: 0.1129 (0.1277)  loss_classifier: 0.0352 (0.0431)  loss_box_reg: 0.0737 (0.0804)  loss_objectness: 0.0006 (0.0014)  loss_rpn_box_reg: 0.0021 (0.0028)  time: 0.6545  data: 0.0336  max mem: 4959\n",
      "Epoch: [4]  [140/227]  eta: 0:00:57  lr: 0.000500  loss: 0.1069 (0.1284)  loss_classifier: 0.0361 (0.0432)  loss_box_reg: 0.0683 (0.0809)  loss_objectness: 0.0006 (0.0015)  loss_rpn_box_reg: 0.0020 (0.0028)  time: 0.6502  data: 0.0333  max mem: 4959\n"
     ]
    },
    {
     "name": "stderr",
     "output_type": "stream",
     "text": [
      "libpng warning: iCCP: known incorrect sRGB profile\n",
      "libpng warning: iCCP: known incorrect sRGB profile\n",
      "libpng warning: iCCP: known incorrect sRGB profile\n"
     ]
    },
    {
     "name": "stdout",
     "output_type": "stream",
     "text": [
      "Epoch: [4]  [150/227]  eta: 0:00:50  lr: 0.000500  loss: 0.1130 (0.1287)  loss_classifier: 0.0361 (0.0434)  loss_box_reg: 0.0692 (0.0810)  loss_objectness: 0.0006 (0.0015)  loss_rpn_box_reg: 0.0029 (0.0028)  time: 0.6461  data: 0.0328  max mem: 4959\n",
      "Epoch: [4]  [160/227]  eta: 0:00:43  lr: 0.000500  loss: 0.1181 (0.1298)  loss_classifier: 0.0368 (0.0443)  loss_box_reg: 0.0692 (0.0813)  loss_objectness: 0.0008 (0.0015)  loss_rpn_box_reg: 0.0019 (0.0028)  time: 0.6430  data: 0.0317  max mem: 4959\n"
     ]
    },
    {
     "name": "stderr",
     "output_type": "stream",
     "text": [
      "libpng warning: iCCP: known incorrect sRGB profile\n",
      "libpng warning: iCCP: known incorrect sRGB profile\n"
     ]
    },
    {
     "name": "stdout",
     "output_type": "stream",
     "text": [
      "Epoch: [4]  [170/227]  eta: 0:00:37  lr: 0.000500  loss: 0.1230 (0.1300)  loss_classifier: 0.0411 (0.0442)  loss_box_reg: 0.0787 (0.0816)  loss_objectness: 0.0008 (0.0015)  loss_rpn_box_reg: 0.0023 (0.0028)  time: 0.6462  data: 0.0323  max mem: 4959\n"
     ]
    },
    {
     "name": "stderr",
     "output_type": "stream",
     "text": [
      "libpng warning: iCCP: known incorrect sRGB profile\n",
      "libpng warning: iCCP: known incorrect sRGB profile\n",
      "libpng warning: iCCP: known incorrect sRGB profile\n",
      "libpng warning: iCCP: known incorrect sRGB profile\n"
     ]
    },
    {
     "name": "stdout",
     "output_type": "stream",
     "text": [
      "Epoch: [4]  [180/227]  eta: 0:00:30  lr: 0.000500  loss: 0.1205 (0.1291)  loss_classifier: 0.0396 (0.0438)  loss_box_reg: 0.0769 (0.0810)  loss_objectness: 0.0008 (0.0015)  loss_rpn_box_reg: 0.0023 (0.0027)  time: 0.6477  data: 0.0323  max mem: 4959\n"
     ]
    },
    {
     "name": "stderr",
     "output_type": "stream",
     "text": [
      "libpng warning: iCCP: known incorrect sRGB profile\n"
     ]
    },
    {
     "name": "stdout",
     "output_type": "stream",
     "text": [
      "Epoch: [4]  [190/227]  eta: 0:00:24  lr: 0.000500  loss: 0.1205 (0.1284)  loss_classifier: 0.0375 (0.0439)  loss_box_reg: 0.0728 (0.0803)  loss_objectness: 0.0011 (0.0015)  loss_rpn_box_reg: 0.0023 (0.0027)  time: 0.6476  data: 0.0325  max mem: 4959\n"
     ]
    },
    {
     "name": "stderr",
     "output_type": "stream",
     "text": [
      "libpng warning: iCCP: known incorrect sRGB profile\n",
      "libpng warning: iCCP: known incorrect sRGB profile\n",
      "libpng warning: iCCP: known incorrect sRGB profile\n",
      "libpng warning: iCCP: known incorrect sRGB profile\n",
      "libpng warning: iCCP: known incorrect sRGB profile\n",
      "libpng warning: iCCP: known incorrect sRGB profile\n"
     ]
    },
    {
     "name": "stdout",
     "output_type": "stream",
     "text": [
      "Epoch: [4]  [200/227]  eta: 0:00:17  lr: 0.000500  loss: 0.1295 (0.1290)  loss_classifier: 0.0465 (0.0442)  loss_box_reg: 0.0734 (0.0806)  loss_objectness: 0.0008 (0.0015)  loss_rpn_box_reg: 0.0025 (0.0028)  time: 0.6463  data: 0.0322  max mem: 4959\n"
     ]
    },
    {
     "name": "stderr",
     "output_type": "stream",
     "text": [
      "libpng warning: iCCP: known incorrect sRGB profile\n",
      "libpng warning: iCCP: known incorrect sRGB profile\n",
      "libpng warning: iCCP: known incorrect sRGB profile\n",
      "libpng warning: iCCP: known incorrect sRGB profile\n"
     ]
    },
    {
     "name": "stdout",
     "output_type": "stream",
     "text": [
      "Epoch: [4]  [210/227]  eta: 0:00:11  lr: 0.000500  loss: 0.1386 (0.1299)  loss_classifier: 0.0404 (0.0443)  loss_box_reg: 0.0833 (0.0814)  loss_objectness: 0.0008 (0.0015)  loss_rpn_box_reg: 0.0028 (0.0028)  time: 0.6455  data: 0.0315  max mem: 4959\n"
     ]
    },
    {
     "name": "stderr",
     "output_type": "stream",
     "text": [
      "libpng warning: iCCP: known incorrect sRGB profile\n",
      "libpng warning: iCCP: known incorrect sRGB profile\n"
     ]
    },
    {
     "name": "stdout",
     "output_type": "stream",
     "text": [
      "Epoch: [4]  [220/227]  eta: 0:00:04  lr: 0.000500  loss: 0.1448 (0.1307)  loss_classifier: 0.0441 (0.0444)  loss_box_reg: 0.0923 (0.0820)  loss_objectness: 0.0011 (0.0015)  loss_rpn_box_reg: 0.0028 (0.0028)  time: 0.6472  data: 0.0320  max mem: 4959\n",
      "Epoch: [4]  [226/227]  eta: 0:00:00  lr: 0.000500  loss: 0.1315 (0.1312)  loss_classifier: 0.0403 (0.0445)  loss_box_reg: 0.0879 (0.0824)  loss_objectness: 0.0008 (0.0015)  loss_rpn_box_reg: 0.0028 (0.0028)  time: 0.6350  data: 0.0298  max mem: 4959\n",
      "Epoch: [4] Total time: 0:02:27 (0.6517 s / it)\n",
      "creating index...\n",
      "index created!\n",
      "Test:  [ 0/19]  eta: 0:00:16  model_time: 0.2618 (0.2618)  evaluator_time: 0.0074 (0.0074)  time: 0.8807  data: 0.5662  max mem: 4959\n",
      "Test:  [18/19]  eta: 0:00:00  model_time: 0.2532 (0.2507)  evaluator_time: 0.0046 (0.0072)  time: 0.3424  data: 0.0560  max mem: 4959\n",
      "Test: Total time: 0:00:06 (0.3444 s / it)\n",
      "Averaged stats: model_time: 0.2532 (0.2507)  evaluator_time: 0.0046 (0.0072)\n",
      "Accumulating evaluation results...\n",
      "DONE (t=0.02s).\n",
      "IoU metric: bbox\n",
      " Average Precision  (AP) @[ IoU=0.50:0.95 | area=   all | maxDets=100 ] = 0.101\n",
      " Average Precision  (AP) @[ IoU=0.50      | area=   all | maxDets=100 ] = 0.208\n",
      " Average Precision  (AP) @[ IoU=0.75      | area=   all | maxDets=100 ] = 0.083\n",
      " Average Precision  (AP) @[ IoU=0.50:0.95 | area= small | maxDets=100 ] = 0.000\n",
      " Average Precision  (AP) @[ IoU=0.50:0.95 | area=medium | maxDets=100 ] = 0.069\n",
      " Average Precision  (AP) @[ IoU=0.50:0.95 | area= large | maxDets=100 ] = 0.347\n",
      " Average Recall     (AR) @[ IoU=0.50:0.95 | area=   all | maxDets=  1 ] = 0.037\n",
      " Average Recall     (AR) @[ IoU=0.50:0.95 | area=   all | maxDets= 10 ] = 0.120\n",
      " Average Recall     (AR) @[ IoU=0.50:0.95 | area=   all | maxDets=100 ] = 0.121\n",
      " Average Recall     (AR) @[ IoU=0.50:0.95 | area= small | maxDets=100 ] = 0.000\n",
      " Average Recall     (AR) @[ IoU=0.50:0.95 | area=medium | maxDets=100 ] = 0.083\n",
      " Average Recall     (AR) @[ IoU=0.50:0.95 | area= large | maxDets=100 ] = 0.419\n"
     ]
    },
    {
     "name": "stderr",
     "output_type": "stream",
     "text": [
      "libpng warning: iCCP: known incorrect sRGB profile\n",
      "libpng warning: iCCP: known incorrect sRGB profile\n",
      "libpng warning: iCCP: known incorrect sRGB profile\n",
      "libpng warning: iCCP: known incorrect sRGB profile\n"
     ]
    },
    {
     "name": "stdout",
     "output_type": "stream",
     "text": [
      "Epoch: [5]  [  0/227]  eta: 0:07:56  lr: 0.000500  loss: 0.1464 (0.1464)  loss_classifier: 0.0518 (0.0518)  loss_box_reg: 0.0907 (0.0907)  loss_objectness: 0.0007 (0.0007)  loss_rpn_box_reg: 0.0033 (0.0033)  time: 2.0986  data: 1.3813  max mem: 4959\n"
     ]
    },
    {
     "name": "stderr",
     "output_type": "stream",
     "text": [
      "libpng warning: iCCP: known incorrect sRGB profile\n",
      "libpng warning: iCCP: known incorrect sRGB profile\n",
      "libpng warning: iCCP: known incorrect sRGB profile\n",
      "libpng warning: iCCP: known incorrect sRGB profile\n",
      "libpng warning: iCCP: known incorrect sRGB profile\n"
     ]
    },
    {
     "name": "stdout",
     "output_type": "stream",
     "text": [
      "Epoch: [5]  [ 10/227]  eta: 0:02:48  lr: 0.000500  loss: 0.1214 (0.1327)  loss_classifier: 0.0380 (0.0419)  loss_box_reg: 0.0708 (0.0870)  loss_objectness: 0.0009 (0.0011)  loss_rpn_box_reg: 0.0023 (0.0027)  time: 0.7787  data: 0.1545  max mem: 4959\n"
     ]
    },
    {
     "name": "stderr",
     "output_type": "stream",
     "text": [
      "libpng warning: iCCP: known incorrect sRGB profile\n",
      "libpng warning: iCCP: known incorrect sRGB profile\n",
      "libpng warning: iCCP: known incorrect sRGB profile\n",
      "libpng warning: iCCP: known incorrect sRGB profile\n",
      "libpng warning: iCCP: known incorrect sRGB profile\n",
      "libpng warning: iCCP: known incorrect sRGB profile\n"
     ]
    },
    {
     "name": "stdout",
     "output_type": "stream",
     "text": [
      "Epoch: [5]  [ 20/227]  eta: 0:02:27  lr: 0.000500  loss: 0.1214 (0.1369)  loss_classifier: 0.0388 (0.0461)  loss_box_reg: 0.0745 (0.0872)  loss_objectness: 0.0005 (0.0009)  loss_rpn_box_reg: 0.0023 (0.0027)  time: 0.6438  data: 0.0310  max mem: 4959\n"
     ]
    },
    {
     "name": "stderr",
     "output_type": "stream",
     "text": [
      "libpng warning: iCCP: known incorrect sRGB profile\n",
      "libpng warning: iCCP: known incorrect sRGB profile\n"
     ]
    },
    {
     "name": "stdout",
     "output_type": "stream",
     "text": [
      "Epoch: [5]  [ 30/227]  eta: 0:02:16  lr: 0.000500  loss: 0.1221 (0.1352)  loss_classifier: 0.0421 (0.0455)  loss_box_reg: 0.0776 (0.0857)  loss_objectness: 0.0005 (0.0013)  loss_rpn_box_reg: 0.0026 (0.0028)  time: 0.6482  data: 0.0333  max mem: 4959\n"
     ]
    },
    {
     "name": "stderr",
     "output_type": "stream",
     "text": [
      "libpng warning: iCCP: known incorrect sRGB profile\n",
      "libpng warning: iCCP: known incorrect sRGB profile\n"
     ]
    },
    {
     "name": "stdout",
     "output_type": "stream",
     "text": [
      "Epoch: [5]  [ 40/227]  eta: 0:02:07  lr: 0.000500  loss: 0.1173 (0.1367)  loss_classifier: 0.0421 (0.0462)  loss_box_reg: 0.0767 (0.0863)  loss_objectness: 0.0006 (0.0012)  loss_rpn_box_reg: 0.0022 (0.0030)  time: 0.6508  data: 0.0347  max mem: 4959\n"
     ]
    },
    {
     "name": "stderr",
     "output_type": "stream",
     "text": [
      "libpng warning: iCCP: known incorrect sRGB profile\n"
     ]
    },
    {
     "name": "stdout",
     "output_type": "stream",
     "text": [
      "Epoch: [5]  [ 50/227]  eta: 0:01:59  lr: 0.000500  loss: 0.0995 (0.1317)  loss_classifier: 0.0345 (0.0437)  loss_box_reg: 0.0695 (0.0840)  loss_objectness: 0.0004 (0.0011)  loss_rpn_box_reg: 0.0020 (0.0030)  time: 0.6436  data: 0.0314  max mem: 4959\n"
     ]
    },
    {
     "name": "stderr",
     "output_type": "stream",
     "text": [
      "libpng warning: iCCP: known incorrect sRGB profile\n",
      "libpng warning: iCCP: known incorrect sRGB profile\n",
      "libpng warning: iCCP: known incorrect sRGB profile\n",
      "libpng warning: iCCP: known incorrect sRGB profile\n"
     ]
    },
    {
     "name": "stdout",
     "output_type": "stream",
     "text": [
      "Epoch: [5]  [ 60/227]  eta: 0:01:52  lr: 0.000500  loss: 0.0998 (0.1343)  loss_classifier: 0.0349 (0.0444)  loss_box_reg: 0.0629 (0.0857)  loss_objectness: 0.0004 (0.0012)  loss_rpn_box_reg: 0.0027 (0.0031)  time: 0.6479  data: 0.0318  max mem: 4959\n"
     ]
    },
    {
     "name": "stderr",
     "output_type": "stream",
     "text": [
      "libpng warning: iCCP: known incorrect sRGB profile\n",
      "libpng warning: iCCP: known incorrect sRGB profile\n"
     ]
    },
    {
     "name": "stdout",
     "output_type": "stream",
     "text": [
      "Epoch: [5]  [ 70/227]  eta: 0:01:44  lr: 0.000500  loss: 0.1448 (0.1367)  loss_classifier: 0.0453 (0.0453)  loss_box_reg: 0.0942 (0.0870)  loss_objectness: 0.0014 (0.0013)  loss_rpn_box_reg: 0.0032 (0.0031)  time: 0.6452  data: 0.0303  max mem: 4959\n"
     ]
    },
    {
     "name": "stderr",
     "output_type": "stream",
     "text": [
      "libpng warning: iCCP: known incorrect sRGB profile\n",
      "libpng warning: iCCP: known incorrect sRGB profile\n",
      "libpng warning: iCCP: known incorrect sRGB profile\n"
     ]
    },
    {
     "name": "stdout",
     "output_type": "stream",
     "text": [
      "Epoch: [5]  [ 80/227]  eta: 0:01:37  lr: 0.000500  loss: 0.1516 (0.1366)  loss_classifier: 0.0442 (0.0452)  loss_box_reg: 0.0891 (0.0871)  loss_objectness: 0.0011 (0.0012)  loss_rpn_box_reg: 0.0025 (0.0031)  time: 0.6441  data: 0.0308  max mem: 4961\n"
     ]
    },
    {
     "name": "stderr",
     "output_type": "stream",
     "text": [
      "libpng warning: iCCP: known incorrect sRGB profile\n",
      "libpng warning: iCCP: known incorrect sRGB profile\n"
     ]
    },
    {
     "name": "stdout",
     "output_type": "stream",
     "text": [
      "Epoch: [5]  [ 90/227]  eta: 0:01:30  lr: 0.000500  loss: 0.1294 (0.1376)  loss_classifier: 0.0448 (0.0457)  loss_box_reg: 0.0788 (0.0875)  loss_objectness: 0.0007 (0.0014)  loss_rpn_box_reg: 0.0023 (0.0030)  time: 0.6475  data: 0.0332  max mem: 4961\n"
     ]
    },
    {
     "name": "stderr",
     "output_type": "stream",
     "text": [
      "libpng warning: iCCP: known incorrect sRGB profile\n",
      "libpng warning: iCCP: known incorrect sRGB profile\n",
      "libpng warning: iCCP: known incorrect sRGB profile\n"
     ]
    },
    {
     "name": "stdout",
     "output_type": "stream",
     "text": [
      "Epoch: [5]  [100/227]  eta: 0:01:23  lr: 0.000500  loss: 0.1294 (0.1362)  loss_classifier: 0.0444 (0.0454)  loss_box_reg: 0.0777 (0.0865)  loss_objectness: 0.0008 (0.0014)  loss_rpn_box_reg: 0.0021 (0.0029)  time: 0.6426  data: 0.0314  max mem: 4961\n"
     ]
    },
    {
     "name": "stderr",
     "output_type": "stream",
     "text": [
      "libpng warning: iCCP: known incorrect sRGB profile\n",
      "libpng warning: iCCP: known incorrect sRGB profile\n",
      "libpng warning: iCCP: known incorrect sRGB profile\n"
     ]
    },
    {
     "name": "stdout",
     "output_type": "stream",
     "text": [
      "Epoch: [5]  [110/227]  eta: 0:01:17  lr: 0.000500  loss: 0.1127 (0.1351)  loss_classifier: 0.0360 (0.0449)  loss_box_reg: 0.0749 (0.0859)  loss_objectness: 0.0006 (0.0014)  loss_rpn_box_reg: 0.0022 (0.0029)  time: 0.6450  data: 0.0316  max mem: 4961\n"
     ]
    },
    {
     "name": "stderr",
     "output_type": "stream",
     "text": [
      "libpng warning: iCCP: known incorrect sRGB profile\n",
      "libpng warning: iCCP: known incorrect sRGB profile\n"
     ]
    },
    {
     "name": "stdout",
     "output_type": "stream",
     "text": [
      "Epoch: [5]  [120/227]  eta: 0:01:10  lr: 0.000500  loss: 0.1075 (0.1324)  loss_classifier: 0.0339 (0.0440)  loss_box_reg: 0.0738 (0.0842)  loss_objectness: 0.0007 (0.0013)  loss_rpn_box_reg: 0.0022 (0.0029)  time: 0.6480  data: 0.0323  max mem: 4961\n"
     ]
    },
    {
     "name": "stderr",
     "output_type": "stream",
     "text": [
      "libpng warning: iCCP: known incorrect sRGB profile\n",
      "libpng warning: iCCP: known incorrect sRGB profile\n"
     ]
    },
    {
     "name": "stdout",
     "output_type": "stream",
     "text": [
      "Epoch: [5]  [130/227]  eta: 0:01:03  lr: 0.000500  loss: 0.1105 (0.1312)  loss_classifier: 0.0354 (0.0435)  loss_box_reg: 0.0715 (0.0835)  loss_objectness: 0.0006 (0.0013)  loss_rpn_box_reg: 0.0023 (0.0029)  time: 0.6492  data: 0.0332  max mem: 4961\n"
     ]
    },
    {
     "name": "stderr",
     "output_type": "stream",
     "text": [
      "libpng warning: iCCP: known incorrect sRGB profile\n"
     ]
    },
    {
     "name": "stdout",
     "output_type": "stream",
     "text": [
      "Epoch: [5]  [140/227]  eta: 0:00:57  lr: 0.000500  loss: 0.1189 (0.1309)  loss_classifier: 0.0378 (0.0432)  loss_box_reg: 0.0758 (0.0836)  loss_objectness: 0.0007 (0.0013)  loss_rpn_box_reg: 0.0025 (0.0029)  time: 0.6479  data: 0.0334  max mem: 4961\n"
     ]
    },
    {
     "name": "stderr",
     "output_type": "stream",
     "text": [
      "libpng warning: iCCP: known incorrect sRGB profile\n",
      "libpng warning: iCCP: known incorrect sRGB profile\n",
      "libpng warning: iCCP: known incorrect sRGB profile\n",
      "libpng warning: iCCP: known incorrect sRGB profile\n"
     ]
    },
    {
     "name": "stdout",
     "output_type": "stream",
     "text": [
      "Epoch: [5]  [150/227]  eta: 0:00:50  lr: 0.000500  loss: 0.1054 (0.1301)  loss_classifier: 0.0379 (0.0430)  loss_box_reg: 0.0665 (0.0829)  loss_objectness: 0.0010 (0.0014)  loss_rpn_box_reg: 0.0024 (0.0028)  time: 0.6492  data: 0.0338  max mem: 4961\n"
     ]
    },
    {
     "name": "stderr",
     "output_type": "stream",
     "text": [
      "libpng warning: iCCP: known incorrect sRGB profile\n",
      "libpng warning: iCCP: known incorrect sRGB profile\n",
      "libpng warning: iCCP: known incorrect sRGB profile\n"
     ]
    },
    {
     "name": "stdout",
     "output_type": "stream",
     "text": [
      "Epoch: [5]  [160/227]  eta: 0:00:43  lr: 0.000500  loss: 0.1090 (0.1290)  loss_classifier: 0.0365 (0.0427)  loss_box_reg: 0.0709 (0.0823)  loss_objectness: 0.0007 (0.0013)  loss_rpn_box_reg: 0.0024 (0.0028)  time: 0.6509  data: 0.0337  max mem: 4961\n"
     ]
    },
    {
     "name": "stderr",
     "output_type": "stream",
     "text": [
      "libpng warning: iCCP: known incorrect sRGB profile\n",
      "libpng warning: iCCP: known incorrect sRGB profile\n",
      "libpng warning: iCCP: known incorrect sRGB profile\n"
     ]
    },
    {
     "name": "stdout",
     "output_type": "stream",
     "text": [
      "Epoch: [5]  [170/227]  eta: 0:00:37  lr: 0.000500  loss: 0.1090 (0.1282)  loss_classifier: 0.0364 (0.0423)  loss_box_reg: 0.0700 (0.0817)  loss_objectness: 0.0002 (0.0013)  loss_rpn_box_reg: 0.0020 (0.0029)  time: 0.6459  data: 0.0313  max mem: 4961\n"
     ]
    },
    {
     "name": "stderr",
     "output_type": "stream",
     "text": [
      "libpng warning: iCCP: known incorrect sRGB profile\n"
     ]
    },
    {
     "name": "stdout",
     "output_type": "stream",
     "text": [
      "Epoch: [5]  [180/227]  eta: 0:00:30  lr: 0.000500  loss: 0.1160 (0.1284)  loss_classifier: 0.0388 (0.0425)  loss_box_reg: 0.0744 (0.0816)  loss_objectness: 0.0007 (0.0014)  loss_rpn_box_reg: 0.0023 (0.0029)  time: 0.6468  data: 0.0320  max mem: 4961\n"
     ]
    },
    {
     "name": "stderr",
     "output_type": "stream",
     "text": [
      "libpng warning: iCCP: known incorrect sRGB profile\n",
      "libpng warning: iCCP: known incorrect sRGB profile\n"
     ]
    },
    {
     "name": "stdout",
     "output_type": "stream",
     "text": [
      "Epoch: [5]  [190/227]  eta: 0:00:24  lr: 0.000500  loss: 0.1372 (0.1294)  loss_classifier: 0.0472 (0.0428)  loss_box_reg: 0.0865 (0.0823)  loss_objectness: 0.0010 (0.0014)  loss_rpn_box_reg: 0.0023 (0.0029)  time: 0.6482  data: 0.0329  max mem: 4961\n",
      "Epoch: [5]  [200/227]  eta: 0:00:17  lr: 0.000500  loss: 0.1184 (0.1284)  loss_classifier: 0.0397 (0.0426)  loss_box_reg: 0.0712 (0.0816)  loss_objectness: 0.0009 (0.0014)  loss_rpn_box_reg: 0.0020 (0.0028)  time: 0.6411  data: 0.0296  max mem: 4961\n"
     ]
    },
    {
     "name": "stderr",
     "output_type": "stream",
     "text": [
      "libpng warning: iCCP: known incorrect sRGB profile\n",
      "libpng warning: iCCP: known incorrect sRGB profile\n",
      "libpng warning: iCCP: known incorrect sRGB profile\n",
      "libpng warning: iCCP: known incorrect sRGB profile\n"
     ]
    },
    {
     "name": "stdout",
     "output_type": "stream",
     "text": [
      "Epoch: [5]  [210/227]  eta: 0:00:11  lr: 0.000500  loss: 0.0964 (0.1274)  loss_classifier: 0.0326 (0.0422)  loss_box_reg: 0.0607 (0.0810)  loss_objectness: 0.0005 (0.0014)  loss_rpn_box_reg: 0.0020 (0.0028)  time: 0.6420  data: 0.0301  max mem: 4961\n"
     ]
    },
    {
     "name": "stderr",
     "output_type": "stream",
     "text": [
      "libpng warning: iCCP: known incorrect sRGB profile\n",
      "libpng warning: iCCP: known incorrect sRGB profile\n"
     ]
    },
    {
     "name": "stdout",
     "output_type": "stream",
     "text": [
      "Epoch: [5]  [220/227]  eta: 0:00:04  lr: 0.000500  loss: 0.1064 (0.1279)  loss_classifier: 0.0335 (0.0425)  loss_box_reg: 0.0697 (0.0812)  loss_objectness: 0.0003 (0.0014)  loss_rpn_box_reg: 0.0020 (0.0028)  time: 0.6457  data: 0.0323  max mem: 4961\n",
      "Epoch: [5]  [226/227]  eta: 0:00:00  lr: 0.000500  loss: 0.1023 (0.1279)  loss_classifier: 0.0335 (0.0425)  loss_box_reg: 0.0687 (0.0812)  loss_objectness: 0.0003 (0.0014)  loss_rpn_box_reg: 0.0019 (0.0028)  time: 0.6337  data: 0.0306  max mem: 4961\n",
      "Epoch: [5] Total time: 0:02:28 (0.6520 s / it)\n",
      "creating index...\n",
      "index created!\n",
      "Test:  [ 0/19]  eta: 0:00:16  model_time: 0.2754 (0.2754)  evaluator_time: 0.0054 (0.0054)  time: 0.8909  data: 0.5266  max mem: 4961\n",
      "Test:  [18/19]  eta: 0:00:00  model_time: 0.2528 (0.2513)  evaluator_time: 0.0049 (0.0071)  time: 0.3453  data: 0.0559  max mem: 4961\n",
      "Test: Total time: 0:00:06 (0.3470 s / it)\n",
      "Averaged stats: model_time: 0.2528 (0.2513)  evaluator_time: 0.0049 (0.0071)\n",
      "Accumulating evaluation results...\n",
      "DONE (t=0.02s).\n",
      "IoU metric: bbox\n",
      " Average Precision  (AP) @[ IoU=0.50:0.95 | area=   all | maxDets=100 ] = 0.101\n",
      " Average Precision  (AP) @[ IoU=0.50      | area=   all | maxDets=100 ] = 0.199\n",
      " Average Precision  (AP) @[ IoU=0.75      | area=   all | maxDets=100 ] = 0.091\n",
      " Average Precision  (AP) @[ IoU=0.50:0.95 | area= small | maxDets=100 ] = 0.000\n",
      " Average Precision  (AP) @[ IoU=0.50:0.95 | area=medium | maxDets=100 ] = 0.066\n",
      " Average Precision  (AP) @[ IoU=0.50:0.95 | area= large | maxDets=100 ] = 0.352\n",
      " Average Recall     (AR) @[ IoU=0.50:0.95 | area=   all | maxDets=  1 ] = 0.038\n",
      " Average Recall     (AR) @[ IoU=0.50:0.95 | area=   all | maxDets= 10 ] = 0.118\n",
      " Average Recall     (AR) @[ IoU=0.50:0.95 | area=   all | maxDets=100 ] = 0.119\n",
      " Average Recall     (AR) @[ IoU=0.50:0.95 | area= small | maxDets=100 ] = 0.000\n",
      " Average Recall     (AR) @[ IoU=0.50:0.95 | area=medium | maxDets=100 ] = 0.079\n",
      " Average Recall     (AR) @[ IoU=0.50:0.95 | area= large | maxDets=100 ] = 0.422\n"
     ]
    },
    {
     "name": "stderr",
     "output_type": "stream",
     "text": [
      "libpng warning: iCCP: known incorrect sRGB profile\n",
      "libpng warning: iCCP: known incorrect sRGB profile\n",
      "libpng warning: iCCP: known incorrect sRGB profile\n"
     ]
    },
    {
     "name": "stdout",
     "output_type": "stream",
     "text": [
      "Epoch: [6]  [  0/227]  eta: 0:08:24  lr: 0.000050  loss: 0.1399 (0.1399)  loss_classifier: 0.0335 (0.0335)  loss_box_reg: 0.1041 (0.1041)  loss_objectness: 0.0005 (0.0005)  loss_rpn_box_reg: 0.0018 (0.0018)  time: 2.2244  data: 1.5304  max mem: 4961\n"
     ]
    },
    {
     "name": "stderr",
     "output_type": "stream",
     "text": [
      "libpng warning: iCCP: known incorrect sRGB profile\n",
      "libpng warning: iCCP: known incorrect sRGB profile\n",
      "libpng warning: iCCP: known incorrect sRGB profile\n"
     ]
    },
    {
     "name": "stdout",
     "output_type": "stream",
     "text": [
      "Epoch: [6]  [ 10/227]  eta: 0:02:51  lr: 0.000050  loss: 0.0925 (0.1164)  loss_classifier: 0.0357 (0.0355)  loss_box_reg: 0.0560 (0.0778)  loss_objectness: 0.0002 (0.0008)  loss_rpn_box_reg: 0.0017 (0.0024)  time: 0.7922  data: 0.1681  max mem: 4961\n"
     ]
    },
    {
     "name": "stderr",
     "output_type": "stream",
     "text": [
      "libpng warning: iCCP: known incorrect sRGB profile\n",
      "libpng warning: iCCP: known incorrect sRGB profile\n"
     ]
    },
    {
     "name": "stdout",
     "output_type": "stream",
     "text": [
      "Epoch: [6]  [ 20/227]  eta: 0:02:29  lr: 0.000050  loss: 0.1122 (0.1362)  loss_classifier: 0.0371 (0.0436)  loss_box_reg: 0.0723 (0.0889)  loss_objectness: 0.0005 (0.0008)  loss_rpn_box_reg: 0.0022 (0.0029)  time: 0.6463  data: 0.0319  max mem: 4961\n"
     ]
    },
    {
     "name": "stderr",
     "output_type": "stream",
     "text": [
      "libpng warning: iCCP: known incorrect sRGB profile\n",
      "libpng warning: iCCP: known incorrect sRGB profile\n",
      "libpng warning: iCCP: known incorrect sRGB profile\n"
     ]
    },
    {
     "name": "stdout",
     "output_type": "stream",
     "text": [
      "Epoch: [6]  [ 30/227]  eta: 0:02:17  lr: 0.000050  loss: 0.1318 (0.1340)  loss_classifier: 0.0400 (0.0438)  loss_box_reg: 0.0887 (0.0862)  loss_objectness: 0.0005 (0.0011)  loss_rpn_box_reg: 0.0025 (0.0029)  time: 0.6474  data: 0.0332  max mem: 4961\n"
     ]
    },
    {
     "name": "stderr",
     "output_type": "stream",
     "text": [
      "libpng warning: iCCP: known incorrect sRGB profile\n",
      "libpng warning: iCCP: known incorrect sRGB profile\n"
     ]
    },
    {
     "name": "stdout",
     "output_type": "stream",
     "text": [
      "Epoch: [6]  [ 40/227]  eta: 0:02:08  lr: 0.000050  loss: 0.1243 (0.1330)  loss_classifier: 0.0400 (0.0436)  loss_box_reg: 0.0749 (0.0854)  loss_objectness: 0.0005 (0.0012)  loss_rpn_box_reg: 0.0025 (0.0028)  time: 0.6513  data: 0.0342  max mem: 4961\n"
     ]
    },
    {
     "name": "stderr",
     "output_type": "stream",
     "text": [
      "libpng warning: iCCP: known incorrect sRGB profile\n",
      "libpng warning: iCCP: known incorrect sRGB profile\n",
      "libpng warning: iCCP: known incorrect sRGB profile\n",
      "libpng warning: iCCP: known incorrect sRGB profile\n",
      "libpng warning: iCCP: known incorrect sRGB profile\n",
      "libpng warning: iCCP: known incorrect sRGB profile\n"
     ]
    },
    {
     "name": "stdout",
     "output_type": "stream",
     "text": [
      "Epoch: [6]  [ 50/227]  eta: 0:02:00  lr: 0.000050  loss: 0.1218 (0.1315)  loss_classifier: 0.0401 (0.0433)  loss_box_reg: 0.0774 (0.0842)  loss_objectness: 0.0005 (0.0011)  loss_rpn_box_reg: 0.0023 (0.0028)  time: 0.6462  data: 0.0320  max mem: 4961\n"
     ]
    },
    {
     "name": "stderr",
     "output_type": "stream",
     "text": [
      "libpng warning: iCCP: known incorrect sRGB profile\n",
      "libpng warning: iCCP: known incorrect sRGB profile\n"
     ]
    },
    {
     "name": "stdout",
     "output_type": "stream",
     "text": [
      "Epoch: [6]  [ 60/227]  eta: 0:01:52  lr: 0.000050  loss: 0.1078 (0.1276)  loss_classifier: 0.0371 (0.0431)  loss_box_reg: 0.0672 (0.0807)  loss_objectness: 0.0005 (0.0012)  loss_rpn_box_reg: 0.0018 (0.0026)  time: 0.6434  data: 0.0310  max mem: 4961\n"
     ]
    },
    {
     "name": "stderr",
     "output_type": "stream",
     "text": [
      "libpng warning: iCCP: known incorrect sRGB profile\n",
      "libpng warning: iCCP: known incorrect sRGB profile\n",
      "libpng warning: iCCP: known incorrect sRGB profile\n",
      "libpng warning: iCCP: known incorrect sRGB profile\n"
     ]
    },
    {
     "name": "stdout",
     "output_type": "stream",
     "text": [
      "Epoch: [6]  [ 70/227]  eta: 0:01:45  lr: 0.000050  loss: 0.1102 (0.1272)  loss_classifier: 0.0381 (0.0428)  loss_box_reg: 0.0636 (0.0807)  loss_objectness: 0.0004 (0.0012)  loss_rpn_box_reg: 0.0020 (0.0026)  time: 0.6470  data: 0.0324  max mem: 4961\n"
     ]
    },
    {
     "name": "stderr",
     "output_type": "stream",
     "text": [
      "libpng warning: iCCP: known incorrect sRGB profile\n",
      "libpng warning: iCCP: known incorrect sRGB profile\n",
      "libpng warning: iCCP: known incorrect sRGB profile\n",
      "libpng warning: iCCP: known incorrect sRGB profile\n"
     ]
    },
    {
     "name": "stdout",
     "output_type": "stream",
     "text": [
      "Epoch: [6]  [ 80/227]  eta: 0:01:37  lr: 0.000050  loss: 0.1141 (0.1238)  loss_classifier: 0.0349 (0.0419)  loss_box_reg: 0.0630 (0.0782)  loss_objectness: 0.0004 (0.0012)  loss_rpn_box_reg: 0.0021 (0.0025)  time: 0.6464  data: 0.0323  max mem: 4961\n"
     ]
    },
    {
     "name": "stderr",
     "output_type": "stream",
     "text": [
      "libpng warning: iCCP: known incorrect sRGB profile\n",
      "libpng warning: iCCP: known incorrect sRGB profile\n"
     ]
    },
    {
     "name": "stdout",
     "output_type": "stream",
     "text": [
      "Epoch: [6]  [ 90/227]  eta: 0:01:30  lr: 0.000050  loss: 0.0989 (0.1228)  loss_classifier: 0.0335 (0.0413)  loss_box_reg: 0.0618 (0.0777)  loss_objectness: 0.0004 (0.0012)  loss_rpn_box_reg: 0.0020 (0.0026)  time: 0.6444  data: 0.0309  max mem: 4961\n"
     ]
    },
    {
     "name": "stderr",
     "output_type": "stream",
     "text": [
      "libpng warning: iCCP: known incorrect sRGB profile\n",
      "libpng warning: iCCP: known incorrect sRGB profile\n",
      "libpng warning: iCCP: known incorrect sRGB profile\n",
      "libpng warning: iCCP: known incorrect sRGB profile\n",
      "libpng warning: iCCP: known incorrect sRGB profile\n"
     ]
    },
    {
     "name": "stdout",
     "output_type": "stream",
     "text": [
      "Epoch: [6]  [100/227]  eta: 0:01:24  lr: 0.000050  loss: 0.1075 (0.1220)  loss_classifier: 0.0334 (0.0413)  loss_box_reg: 0.0685 (0.0770)  loss_objectness: 0.0004 (0.0011)  loss_rpn_box_reg: 0.0019 (0.0026)  time: 0.6452  data: 0.0303  max mem: 4961\n"
     ]
    },
    {
     "name": "stderr",
     "output_type": "stream",
     "text": [
      "libpng warning: iCCP: known incorrect sRGB profile\n"
     ]
    },
    {
     "name": "stdout",
     "output_type": "stream",
     "text": [
      "Epoch: [6]  [110/227]  eta: 0:01:17  lr: 0.000050  loss: 0.1215 (0.1231)  loss_classifier: 0.0424 (0.0416)  loss_box_reg: 0.0712 (0.0778)  loss_objectness: 0.0005 (0.0012)  loss_rpn_box_reg: 0.0020 (0.0025)  time: 0.6446  data: 0.0309  max mem: 4961\n"
     ]
    },
    {
     "name": "stderr",
     "output_type": "stream",
     "text": [
      "libpng warning: iCCP: known incorrect sRGB profile\n",
      "libpng warning: iCCP: known incorrect sRGB profile\n",
      "libpng warning: iCCP: known incorrect sRGB profile\n"
     ]
    },
    {
     "name": "stdout",
     "output_type": "stream",
     "text": [
      "Epoch: [6]  [120/227]  eta: 0:01:10  lr: 0.000050  loss: 0.1252 (0.1231)  loss_classifier: 0.0424 (0.0417)  loss_box_reg: 0.0732 (0.0776)  loss_objectness: 0.0005 (0.0013)  loss_rpn_box_reg: 0.0021 (0.0025)  time: 0.6453  data: 0.0316  max mem: 4961\n"
     ]
    },
    {
     "name": "stderr",
     "output_type": "stream",
     "text": [
      "libpng warning: iCCP: known incorrect sRGB profile\n",
      "libpng warning: iCCP: known incorrect sRGB profile\n",
      "libpng warning: iCCP: known incorrect sRGB profile\n",
      "libpng warning: iCCP: known incorrect sRGB profile\n"
     ]
    },
    {
     "name": "stdout",
     "output_type": "stream",
     "text": [
      "Epoch: [6]  [130/227]  eta: 0:01:03  lr: 0.000050  loss: 0.1203 (0.1232)  loss_classifier: 0.0392 (0.0415)  loss_box_reg: 0.0690 (0.0777)  loss_objectness: 0.0007 (0.0015)  loss_rpn_box_reg: 0.0021 (0.0025)  time: 0.6490  data: 0.0330  max mem: 4961\n",
      "Epoch: [6]  [140/227]  eta: 0:00:57  lr: 0.000050  loss: 0.0853 (0.1218)  loss_classifier: 0.0364 (0.0409)  loss_box_reg: 0.0575 (0.0769)  loss_objectness: 0.0009 (0.0015)  loss_rpn_box_reg: 0.0014 (0.0025)  time: 0.6464  data: 0.0324  max mem: 4961\n"
     ]
    },
    {
     "name": "stderr",
     "output_type": "stream",
     "text": [
      "libpng warning: iCCP: known incorrect sRGB profile\n",
      "libpng warning: iCCP: known incorrect sRGB profile\n"
     ]
    },
    {
     "name": "stdout",
     "output_type": "stream",
     "text": [
      "Epoch: [6]  [150/227]  eta: 0:00:50  lr: 0.000050  loss: 0.1137 (0.1229)  loss_classifier: 0.0365 (0.0411)  loss_box_reg: 0.0719 (0.0778)  loss_objectness: 0.0007 (0.0015)  loss_rpn_box_reg: 0.0022 (0.0025)  time: 0.6460  data: 0.0321  max mem: 4961\n"
     ]
    },
    {
     "name": "stderr",
     "output_type": "stream",
     "text": [
      "libpng warning: iCCP: known incorrect sRGB profile\n"
     ]
    },
    {
     "name": "stdout",
     "output_type": "stream",
     "text": [
      "Epoch: [6]  [160/227]  eta: 0:00:43  lr: 0.000050  loss: 0.1202 (0.1230)  loss_classifier: 0.0422 (0.0411)  loss_box_reg: 0.0765 (0.0778)  loss_objectness: 0.0005 (0.0015)  loss_rpn_box_reg: 0.0024 (0.0026)  time: 0.6499  data: 0.0333  max mem: 4961\n"
     ]
    },
    {
     "name": "stderr",
     "output_type": "stream",
     "text": [
      "libpng warning: iCCP: known incorrect sRGB profile\n"
     ]
    },
    {
     "name": "stdout",
     "output_type": "stream",
     "text": [
      "Epoch: [6]  [170/227]  eta: 0:00:37  lr: 0.000050  loss: 0.1224 (0.1225)  loss_classifier: 0.0424 (0.0412)  loss_box_reg: 0.0724 (0.0772)  loss_objectness: 0.0006 (0.0015)  loss_rpn_box_reg: 0.0019 (0.0026)  time: 0.6495  data: 0.0332  max mem: 4961\n"
     ]
    },
    {
     "name": "stderr",
     "output_type": "stream",
     "text": [
      "libpng warning: iCCP: known incorrect sRGB profile\n",
      "libpng warning: iCCP: known incorrect sRGB profile\n",
      "libpng warning: iCCP: known incorrect sRGB profile\n",
      "libpng warning: iCCP: known incorrect sRGB profile\n"
     ]
    },
    {
     "name": "stdout",
     "output_type": "stream",
     "text": [
      "Epoch: [6]  [180/227]  eta: 0:00:30  lr: 0.000050  loss: 0.1180 (0.1217)  loss_classifier: 0.0372 (0.0409)  loss_box_reg: 0.0724 (0.0768)  loss_objectness: 0.0006 (0.0015)  loss_rpn_box_reg: 0.0019 (0.0026)  time: 0.6512  data: 0.0337  max mem: 4961\n",
      "Epoch: [6]  [190/227]  eta: 0:00:24  lr: 0.000050  loss: 0.1042 (0.1209)  loss_classifier: 0.0307 (0.0406)  loss_box_reg: 0.0698 (0.0763)  loss_objectness: 0.0005 (0.0014)  loss_rpn_box_reg: 0.0018 (0.0025)  time: 0.6478  data: 0.0330  max mem: 4961\n"
     ]
    },
    {
     "name": "stderr",
     "output_type": "stream",
     "text": [
      "libpng warning: iCCP: known incorrect sRGB profile\n",
      "libpng warning: iCCP: known incorrect sRGB profile\n",
      "libpng warning: iCCP: known incorrect sRGB profile\n",
      "libpng warning: iCCP: known incorrect sRGB profile\n",
      "libpng warning: iCCP: known incorrect sRGB profile\n"
     ]
    },
    {
     "name": "stdout",
     "output_type": "stream",
     "text": [
      "Epoch: [6]  [200/227]  eta: 0:00:17  lr: 0.000050  loss: 0.0942 (0.1202)  loss_classifier: 0.0295 (0.0403)  loss_box_reg: 0.0628 (0.0760)  loss_objectness: 0.0004 (0.0014)  loss_rpn_box_reg: 0.0019 (0.0025)  time: 0.6434  data: 0.0322  max mem: 4961\n"
     ]
    },
    {
     "name": "stderr",
     "output_type": "stream",
     "text": [
      "libpng warning: iCCP: known incorrect sRGB profile\n",
      "libpng warning: iCCP: known incorrect sRGB profile\n"
     ]
    },
    {
     "name": "stdout",
     "output_type": "stream",
     "text": [
      "Epoch: [6]  [210/227]  eta: 0:00:11  lr: 0.000050  loss: 0.1160 (0.1218)  loss_classifier: 0.0393 (0.0408)  loss_box_reg: 0.0744 (0.0770)  loss_objectness: 0.0005 (0.0014)  loss_rpn_box_reg: 0.0022 (0.0026)  time: 0.6454  data: 0.0326  max mem: 4961\n"
     ]
    },
    {
     "name": "stderr",
     "output_type": "stream",
     "text": [
      "libpng warning: iCCP: known incorrect sRGB profile\n",
      "libpng warning: iCCP: known incorrect sRGB profile\n"
     ]
    },
    {
     "name": "stdout",
     "output_type": "stream",
     "text": [
      "Epoch: [6]  [220/227]  eta: 0:00:04  lr: 0.000050  loss: 0.1289 (0.1216)  loss_classifier: 0.0453 (0.0409)  loss_box_reg: 0.0745 (0.0767)  loss_objectness: 0.0009 (0.0014)  loss_rpn_box_reg: 0.0028 (0.0026)  time: 0.6476  data: 0.0346  max mem: 4961\n",
      "Epoch: [6]  [226/227]  eta: 0:00:00  lr: 0.000050  loss: 0.1412 (0.1221)  loss_classifier: 0.0472 (0.0410)  loss_box_reg: 0.0799 (0.0772)  loss_objectness: 0.0008 (0.0014)  loss_rpn_box_reg: 0.0028 (0.0026)  time: 0.6364  data: 0.0324  max mem: 4961\n",
      "Epoch: [6] Total time: 0:02:28 (0.6532 s / it)\n",
      "creating index...\n",
      "index created!\n",
      "Test:  [ 0/19]  eta: 0:00:16  model_time: 0.2548 (0.2548)  evaluator_time: 0.0044 (0.0044)  time: 0.8458  data: 0.5198  max mem: 4961\n",
      "Test:  [18/19]  eta: 0:00:00  model_time: 0.2526 (0.2500)  evaluator_time: 0.0043 (0.0066)  time: 0.3397  data: 0.0537  max mem: 4961\n",
      "Test: Total time: 0:00:06 (0.3415 s / it)\n",
      "Averaged stats: model_time: 0.2526 (0.2500)  evaluator_time: 0.0043 (0.0066)\n",
      "Accumulating evaluation results...\n",
      "DONE (t=0.02s).\n",
      "IoU metric: bbox\n",
      " Average Precision  (AP) @[ IoU=0.50:0.95 | area=   all | maxDets=100 ] = 0.099\n",
      " Average Precision  (AP) @[ IoU=0.50      | area=   all | maxDets=100 ] = 0.190\n",
      " Average Precision  (AP) @[ IoU=0.75      | area=   all | maxDets=100 ] = 0.088\n",
      " Average Precision  (AP) @[ IoU=0.50:0.95 | area= small | maxDets=100 ] = 0.000\n",
      " Average Precision  (AP) @[ IoU=0.50:0.95 | area=medium | maxDets=100 ] = 0.064\n",
      " Average Precision  (AP) @[ IoU=0.50:0.95 | area= large | maxDets=100 ] = 0.348\n",
      " Average Recall     (AR) @[ IoU=0.50:0.95 | area=   all | maxDets=  1 ] = 0.037\n",
      " Average Recall     (AR) @[ IoU=0.50:0.95 | area=   all | maxDets= 10 ] = 0.114\n",
      " Average Recall     (AR) @[ IoU=0.50:0.95 | area=   all | maxDets=100 ] = 0.115\n",
      " Average Recall     (AR) @[ IoU=0.50:0.95 | area= small | maxDets=100 ] = 0.000\n",
      " Average Recall     (AR) @[ IoU=0.50:0.95 | area=medium | maxDets=100 ] = 0.076\n",
      " Average Recall     (AR) @[ IoU=0.50:0.95 | area= large | maxDets=100 ] = 0.411\n"
     ]
    },
    {
     "name": "stderr",
     "output_type": "stream",
     "text": [
      "libpng warning: iCCP: known incorrect sRGB profile\n",
      "libpng warning: iCCP: known incorrect sRGB profile\n"
     ]
    },
    {
     "name": "stdout",
     "output_type": "stream",
     "text": [
      "Epoch: [7]  [  0/227]  eta: 0:08:20  lr: 0.000050  loss: 0.1637 (0.1637)  loss_classifier: 0.0453 (0.0453)  loss_box_reg: 0.1122 (0.1122)  loss_objectness: 0.0021 (0.0021)  loss_rpn_box_reg: 0.0041 (0.0041)  time: 2.2040  data: 1.4154  max mem: 4961\n"
     ]
    },
    {
     "name": "stderr",
     "output_type": "stream",
     "text": [
      "libpng warning: iCCP: known incorrect sRGB profile\n",
      "libpng warning: iCCP: known incorrect sRGB profile\n",
      "libpng warning: iCCP: known incorrect sRGB profile\n",
      "libpng warning: iCCP: known incorrect sRGB profile\n"
     ]
    },
    {
     "name": "stdout",
     "output_type": "stream",
     "text": [
      "Epoch: [7]  [ 10/227]  eta: 0:02:52  lr: 0.000050  loss: 0.1207 (0.1373)  loss_classifier: 0.0453 (0.0474)  loss_box_reg: 0.0751 (0.0857)  loss_objectness: 0.0006 (0.0011)  loss_rpn_box_reg: 0.0030 (0.0030)  time: 0.7947  data: 0.1598  max mem: 4961\n"
     ]
    },
    {
     "name": "stderr",
     "output_type": "stream",
     "text": [
      "libpng warning: iCCP: known incorrect sRGB profile\n",
      "libpng warning: iCCP: known incorrect sRGB profile\n",
      "libpng warning: iCCP: known incorrect sRGB profile\n",
      "libpng warning: iCCP: known incorrect sRGB profile\n",
      "libpng warning: iCCP: known incorrect sRGB profile\n"
     ]
    },
    {
     "name": "stdout",
     "output_type": "stream",
     "text": [
      "Epoch: [7]  [ 20/227]  eta: 0:02:29  lr: 0.000050  loss: 0.1008 (0.1245)  loss_classifier: 0.0348 (0.0413)  loss_box_reg: 0.0681 (0.0795)  loss_objectness: 0.0003 (0.0010)  loss_rpn_box_reg: 0.0023 (0.0026)  time: 0.6495  data: 0.0335  max mem: 4961\n"
     ]
    },
    {
     "name": "stderr",
     "output_type": "stream",
     "text": [
      "libpng warning: iCCP: known incorrect sRGB profile\n",
      "libpng warning: iCCP: known incorrect sRGB profile\n",
      "libpng warning: iCCP: known incorrect sRGB profile\n"
     ]
    },
    {
     "name": "stdout",
     "output_type": "stream",
     "text": [
      "Epoch: [7]  [ 30/227]  eta: 0:02:17  lr: 0.000050  loss: 0.1126 (0.1315)  loss_classifier: 0.0379 (0.0434)  loss_box_reg: 0.0682 (0.0845)  loss_objectness: 0.0006 (0.0010)  loss_rpn_box_reg: 0.0023 (0.0027)  time: 0.6471  data: 0.0340  max mem: 4961\n"
     ]
    },
    {
     "name": "stderr",
     "output_type": "stream",
     "text": [
      "libpng warning: iCCP: known incorrect sRGB profile\n"
     ]
    },
    {
     "name": "stdout",
     "output_type": "stream",
     "text": [
      "Epoch: [7]  [ 40/227]  eta: 0:02:08  lr: 0.000050  loss: 0.1234 (0.1282)  loss_classifier: 0.0441 (0.0433)  loss_box_reg: 0.0683 (0.0808)  loss_objectness: 0.0009 (0.0015)  loss_rpn_box_reg: 0.0023 (0.0026)  time: 0.6483  data: 0.0336  max mem: 4961\n"
     ]
    },
    {
     "name": "stderr",
     "output_type": "stream",
     "text": [
      "libpng warning: iCCP: known incorrect sRGB profile\n",
      "libpng warning: iCCP: known incorrect sRGB profile\n",
      "libpng warning: iCCP: known incorrect sRGB profile\n",
      "libpng warning: iCCP: known incorrect sRGB profile\n"
     ]
    },
    {
     "name": "stdout",
     "output_type": "stream",
     "text": [
      "Epoch: [7]  [ 50/227]  eta: 0:02:00  lr: 0.000050  loss: 0.1197 (0.1298)  loss_classifier: 0.0440 (0.0439)  loss_box_reg: 0.0672 (0.0818)  loss_objectness: 0.0014 (0.0014)  loss_rpn_box_reg: 0.0027 (0.0027)  time: 0.6484  data: 0.0328  max mem: 4961\n"
     ]
    },
    {
     "name": "stderr",
     "output_type": "stream",
     "text": [
      "libpng warning: iCCP: known incorrect sRGB profile\n",
      "libpng warning: iCCP: known incorrect sRGB profile\n",
      "libpng warning: iCCP: known incorrect sRGB profile\n"
     ]
    },
    {
     "name": "stdout",
     "output_type": "stream",
     "text": [
      "Epoch: [7]  [ 60/227]  eta: 0:01:52  lr: 0.000050  loss: 0.1172 (0.1263)  loss_classifier: 0.0406 (0.0428)  loss_box_reg: 0.0757 (0.0794)  loss_objectness: 0.0007 (0.0015)  loss_rpn_box_reg: 0.0023 (0.0026)  time: 0.6462  data: 0.0320  max mem: 4961\n"
     ]
    },
    {
     "name": "stderr",
     "output_type": "stream",
     "text": [
      "libpng warning: iCCP: known incorrect sRGB profile\n",
      "libpng warning: iCCP: known incorrect sRGB profile\n",
      "libpng warning: iCCP: known incorrect sRGB profile\n",
      "libpng warning: iCCP: known incorrect sRGB profile\n",
      "libpng warning: iCCP: known incorrect sRGB profile\n",
      "libpng warning: iCCP: known incorrect sRGB profile\n"
     ]
    },
    {
     "name": "stdout",
     "output_type": "stream",
     "text": [
      "Epoch: [7]  [ 70/227]  eta: 0:01:45  lr: 0.000050  loss: 0.1171 (0.1257)  loss_classifier: 0.0353 (0.0425)  loss_box_reg: 0.0767 (0.0790)  loss_objectness: 0.0008 (0.0015)  loss_rpn_box_reg: 0.0022 (0.0027)  time: 0.6455  data: 0.0321  max mem: 4961\n"
     ]
    },
    {
     "name": "stderr",
     "output_type": "stream",
     "text": [
      "libpng warning: iCCP: known incorrect sRGB profile\n",
      "libpng warning: iCCP: known incorrect sRGB profile\n"
     ]
    },
    {
     "name": "stdout",
     "output_type": "stream",
     "text": [
      "Epoch: [7]  [ 80/227]  eta: 0:01:38  lr: 0.000050  loss: 0.1198 (0.1255)  loss_classifier: 0.0422 (0.0424)  loss_box_reg: 0.0785 (0.0790)  loss_objectness: 0.0015 (0.0015)  loss_rpn_box_reg: 0.0027 (0.0027)  time: 0.6539  data: 0.0354  max mem: 4961\n"
     ]
    },
    {
     "name": "stderr",
     "output_type": "stream",
     "text": [
      "libpng warning: iCCP: known incorrect sRGB profile\n",
      "libpng warning: iCCP: known incorrect sRGB profile\n",
      "libpng warning: iCCP: known incorrect sRGB profile\n",
      "libpng warning: iCCP: known incorrect sRGB profile\n"
     ]
    },
    {
     "name": "stdout",
     "output_type": "stream",
     "text": [
      "Epoch: [7]  [ 90/227]  eta: 0:01:31  lr: 0.000050  loss: 0.1198 (0.1255)  loss_classifier: 0.0377 (0.0420)  loss_box_reg: 0.0804 (0.0793)  loss_objectness: 0.0011 (0.0015)  loss_rpn_box_reg: 0.0024 (0.0027)  time: 0.6523  data: 0.0346  max mem: 4961\n"
     ]
    },
    {
     "name": "stderr",
     "output_type": "stream",
     "text": [
      "libpng warning: iCCP: known incorrect sRGB profile\n"
     ]
    },
    {
     "name": "stdout",
     "output_type": "stream",
     "text": [
      "Epoch: [7]  [100/227]  eta: 0:01:24  lr: 0.000050  loss: 0.1287 (0.1270)  loss_classifier: 0.0377 (0.0430)  loss_box_reg: 0.0831 (0.0798)  loss_objectness: 0.0004 (0.0015)  loss_rpn_box_reg: 0.0022 (0.0026)  time: 0.6421  data: 0.0313  max mem: 4961\n"
     ]
    },
    {
     "name": "stderr",
     "output_type": "stream",
     "text": [
      "libpng warning: iCCP: known incorrect sRGB profile\n",
      "libpng warning: iCCP: known incorrect sRGB profile\n"
     ]
    },
    {
     "name": "stdout",
     "output_type": "stream",
     "text": [
      "Epoch: [7]  [110/227]  eta: 0:01:17  lr: 0.000050  loss: 0.1079 (0.1245)  loss_classifier: 0.0358 (0.0421)  loss_box_reg: 0.0628 (0.0784)  loss_objectness: 0.0003 (0.0015)  loss_rpn_box_reg: 0.0020 (0.0026)  time: 0.6418  data: 0.0307  max mem: 4961\n"
     ]
    },
    {
     "name": "stderr",
     "output_type": "stream",
     "text": [
      "libpng warning: iCCP: known incorrect sRGB profile\n",
      "libpng warning: iCCP: known incorrect sRGB profile\n",
      "libpng warning: iCCP: known incorrect sRGB profile\n",
      "libpng warning: iCCP: known incorrect sRGB profile\n"
     ]
    },
    {
     "name": "stdout",
     "output_type": "stream",
     "text": [
      "Epoch: [7]  [120/227]  eta: 0:01:10  lr: 0.000050  loss: 0.0979 (0.1246)  loss_classifier: 0.0374 (0.0422)  loss_box_reg: 0.0628 (0.0786)  loss_objectness: 0.0002 (0.0014)  loss_rpn_box_reg: 0.0018 (0.0026)  time: 0.6440  data: 0.0308  max mem: 4961\n",
      "Epoch: [7]  [130/227]  eta: 0:01:03  lr: 0.000050  loss: 0.0979 (0.1230)  loss_classifier: 0.0374 (0.0415)  loss_box_reg: 0.0630 (0.0776)  loss_objectness: 0.0003 (0.0013)  loss_rpn_box_reg: 0.0021 (0.0025)  time: 0.6494  data: 0.0325  max mem: 4961\n"
     ]
    },
    {
     "name": "stderr",
     "output_type": "stream",
     "text": [
      "libpng warning: iCCP: known incorrect sRGB profile\n"
     ]
    },
    {
     "name": "stdout",
     "output_type": "stream",
     "text": [
      "Epoch: [7]  [140/227]  eta: 0:00:57  lr: 0.000050  loss: 0.1120 (0.1240)  loss_classifier: 0.0349 (0.0416)  loss_box_reg: 0.0733 (0.0785)  loss_objectness: 0.0006 (0.0013)  loss_rpn_box_reg: 0.0021 (0.0026)  time: 0.6515  data: 0.0344  max mem: 4961\n"
     ]
    },
    {
     "name": "stderr",
     "output_type": "stream",
     "text": [
      "libpng warning: iCCP: known incorrect sRGB profile\n",
      "libpng warning: iCCP: known incorrect sRGB profile\n"
     ]
    },
    {
     "name": "stdout",
     "output_type": "stream",
     "text": [
      "Epoch: [7]  [150/227]  eta: 0:00:50  lr: 0.000050  loss: 0.1177 (0.1258)  loss_classifier: 0.0417 (0.0421)  loss_box_reg: 0.0802 (0.0797)  loss_objectness: 0.0007 (0.0014)  loss_rpn_box_reg: 0.0025 (0.0026)  time: 0.6476  data: 0.0328  max mem: 4961\n"
     ]
    },
    {
     "name": "stderr",
     "output_type": "stream",
     "text": [
      "libpng warning: iCCP: known incorrect sRGB profile\n",
      "libpng warning: iCCP: known incorrect sRGB profile\n",
      "libpng warning: iCCP: known incorrect sRGB profile\n",
      "libpng warning: iCCP: known incorrect sRGB profile\n"
     ]
    },
    {
     "name": "stdout",
     "output_type": "stream",
     "text": [
      "Epoch: [7]  [160/227]  eta: 0:00:44  lr: 0.000050  loss: 0.1275 (0.1264)  loss_classifier: 0.0403 (0.0423)  loss_box_reg: 0.0804 (0.0801)  loss_objectness: 0.0008 (0.0014)  loss_rpn_box_reg: 0.0025 (0.0026)  time: 0.6496  data: 0.0331  max mem: 4961\n"
     ]
    },
    {
     "name": "stderr",
     "output_type": "stream",
     "text": [
      "libpng warning: iCCP: known incorrect sRGB profile\n",
      "libpng warning: iCCP: known incorrect sRGB profile\n",
      "libpng warning: iCCP: known incorrect sRGB profile\n"
     ]
    },
    {
     "name": "stdout",
     "output_type": "stream",
     "text": [
      "Epoch: [7]  [170/227]  eta: 0:00:37  lr: 0.000050  loss: 0.1275 (0.1265)  loss_classifier: 0.0403 (0.0424)  loss_box_reg: 0.0808 (0.0801)  loss_objectness: 0.0006 (0.0013)  loss_rpn_box_reg: 0.0025 (0.0026)  time: 0.6531  data: 0.0352  max mem: 4961\n"
     ]
    },
    {
     "name": "stderr",
     "output_type": "stream",
     "text": [
      "libpng warning: iCCP: known incorrect sRGB profile\n",
      "libpng warning: iCCP: known incorrect sRGB profile\n"
     ]
    },
    {
     "name": "stdout",
     "output_type": "stream",
     "text": [
      "Epoch: [7]  [180/227]  eta: 0:00:30  lr: 0.000050  loss: 0.1148 (0.1275)  loss_classifier: 0.0437 (0.0428)  loss_box_reg: 0.0730 (0.0806)  loss_objectness: 0.0007 (0.0014)  loss_rpn_box_reg: 0.0021 (0.0026)  time: 0.6524  data: 0.0349  max mem: 4961\n"
     ]
    },
    {
     "name": "stderr",
     "output_type": "stream",
     "text": [
      "libpng warning: iCCP: known incorrect sRGB profile\n",
      "libpng warning: iCCP: known incorrect sRGB profile\n",
      "libpng warning: iCCP: known incorrect sRGB profile\n"
     ]
    },
    {
     "name": "stdout",
     "output_type": "stream",
     "text": [
      "Epoch: [7]  [190/227]  eta: 0:00:24  lr: 0.000050  loss: 0.1124 (0.1268)  loss_classifier: 0.0415 (0.0426)  loss_box_reg: 0.0698 (0.0801)  loss_objectness: 0.0009 (0.0014)  loss_rpn_box_reg: 0.0018 (0.0026)  time: 0.6529  data: 0.0348  max mem: 4961\n"
     ]
    },
    {
     "name": "stderr",
     "output_type": "stream",
     "text": [
      "libpng warning: iCCP: known incorrect sRGB profile\n"
     ]
    },
    {
     "name": "stdout",
     "output_type": "stream",
     "text": [
      "Epoch: [7]  [200/227]  eta: 0:00:17  lr: 0.000050  loss: 0.1124 (0.1264)  loss_classifier: 0.0357 (0.0423)  loss_box_reg: 0.0750 (0.0801)  loss_objectness: 0.0005 (0.0014)  loss_rpn_box_reg: 0.0020 (0.0026)  time: 0.6497  data: 0.0341  max mem: 4961\n"
     ]
    },
    {
     "name": "stderr",
     "output_type": "stream",
     "text": [
      "libpng warning: iCCP: known incorrect sRGB profile\n",
      "libpng warning: iCCP: known incorrect sRGB profile\n",
      "libpng warning: iCCP: known incorrect sRGB profile\n"
     ]
    },
    {
     "name": "stdout",
     "output_type": "stream",
     "text": [
      "Epoch: [7]  [210/227]  eta: 0:00:11  lr: 0.000050  loss: 0.1069 (0.1256)  loss_classifier: 0.0315 (0.0419)  loss_box_reg: 0.0750 (0.0796)  loss_objectness: 0.0005 (0.0014)  loss_rpn_box_reg: 0.0020 (0.0026)  time: 0.6439  data: 0.0322  max mem: 4961\n"
     ]
    },
    {
     "name": "stderr",
     "output_type": "stream",
     "text": [
      "libpng warning: iCCP: known incorrect sRGB profile\n"
     ]
    },
    {
     "name": "stdout",
     "output_type": "stream",
     "text": [
      "Epoch: [7]  [220/227]  eta: 0:00:04  lr: 0.000050  loss: 0.0922 (0.1248)  loss_classifier: 0.0291 (0.0415)  loss_box_reg: 0.0597 (0.0793)  loss_objectness: 0.0005 (0.0014)  loss_rpn_box_reg: 0.0018 (0.0026)  time: 0.6433  data: 0.0314  max mem: 4961\n",
      "Epoch: [7]  [226/227]  eta: 0:00:00  lr: 0.000050  loss: 0.0973 (0.1249)  loss_classifier: 0.0299 (0.0415)  loss_box_reg: 0.0616 (0.0795)  loss_objectness: 0.0007 (0.0014)  loss_rpn_box_reg: 0.0022 (0.0026)  time: 0.6356  data: 0.0311  max mem: 4961\n",
      "Epoch: [7] Total time: 0:02:28 (0.6545 s / it)\n",
      "creating index...\n",
      "index created!\n",
      "Test:  [ 0/19]  eta: 0:00:18  model_time: 0.2662 (0.2662)  evaluator_time: 0.0046 (0.0046)  time: 0.9674  data: 0.6132  max mem: 4961\n",
      "Test:  [18/19]  eta: 0:00:00  model_time: 0.2536 (0.2512)  evaluator_time: 0.0045 (0.0075)  time: 0.3479  data: 0.0584  max mem: 4961\n",
      "Test: Total time: 0:00:06 (0.3497 s / it)\n",
      "Averaged stats: model_time: 0.2536 (0.2512)  evaluator_time: 0.0045 (0.0075)\n",
      "Accumulating evaluation results...\n",
      "DONE (t=0.02s).\n",
      "IoU metric: bbox\n",
      " Average Precision  (AP) @[ IoU=0.50:0.95 | area=   all | maxDets=100 ] = 0.103\n",
      " Average Precision  (AP) @[ IoU=0.50      | area=   all | maxDets=100 ] = 0.199\n",
      " Average Precision  (AP) @[ IoU=0.75      | area=   all | maxDets=100 ] = 0.093\n",
      " Average Precision  (AP) @[ IoU=0.50:0.95 | area= small | maxDets=100 ] = 0.000\n",
      " Average Precision  (AP) @[ IoU=0.50:0.95 | area=medium | maxDets=100 ] = 0.069\n",
      " Average Precision  (AP) @[ IoU=0.50:0.95 | area= large | maxDets=100 ] = 0.357\n",
      " Average Recall     (AR) @[ IoU=0.50:0.95 | area=   all | maxDets=  1 ] = 0.039\n",
      " Average Recall     (AR) @[ IoU=0.50:0.95 | area=   all | maxDets= 10 ] = 0.119\n",
      " Average Recall     (AR) @[ IoU=0.50:0.95 | area=   all | maxDets=100 ] = 0.120\n",
      " Average Recall     (AR) @[ IoU=0.50:0.95 | area= small | maxDets=100 ] = 0.000\n",
      " Average Recall     (AR) @[ IoU=0.50:0.95 | area=medium | maxDets=100 ] = 0.080\n",
      " Average Recall     (AR) @[ IoU=0.50:0.95 | area= large | maxDets=100 ] = 0.423\n",
      "Epoch: [8]  [  0/227]  eta: 0:08:08  lr: 0.000050  loss: 0.1520 (0.1520)  loss_classifier: 0.0506 (0.0506)  loss_box_reg: 0.0939 (0.0939)  loss_objectness: 0.0018 (0.0018)  loss_rpn_box_reg: 0.0056 (0.0056)  time: 2.1509  data: 1.4033  max mem: 4961\n"
     ]
    },
    {
     "name": "stderr",
     "output_type": "stream",
     "text": [
      "libpng warning: iCCP: known incorrect sRGB profile\n",
      "libpng warning: iCCP: known incorrect sRGB profile\n",
      "libpng warning: iCCP: known incorrect sRGB profile\n",
      "libpng warning: iCCP: known incorrect sRGB profile\n",
      "libpng warning: iCCP: known incorrect sRGB profile\n",
      "libpng warning: iCCP: known incorrect sRGB profile\n",
      "libpng warning: iCCP: known incorrect sRGB profile\n"
     ]
    },
    {
     "name": "stdout",
     "output_type": "stream",
     "text": [
      "Epoch: [8]  [ 10/227]  eta: 0:02:51  lr: 0.000050  loss: 0.1495 (0.1403)  loss_classifier: 0.0506 (0.0506)  loss_box_reg: 0.0939 (0.0858)  loss_objectness: 0.0006 (0.0011)  loss_rpn_box_reg: 0.0025 (0.0028)  time: 0.7882  data: 0.1574  max mem: 4961\n"
     ]
    },
    {
     "name": "stderr",
     "output_type": "stream",
     "text": [
      "libpng warning: iCCP: known incorrect sRGB profile\n",
      "libpng warning: iCCP: known incorrect sRGB profile\n",
      "libpng warning: iCCP: known incorrect sRGB profile\n"
     ]
    },
    {
     "name": "stdout",
     "output_type": "stream",
     "text": [
      "Epoch: [8]  [ 20/227]  eta: 0:02:29  lr: 0.000050  loss: 0.1225 (0.1330)  loss_classifier: 0.0445 (0.0476)  loss_box_reg: 0.0687 (0.0817)  loss_objectness: 0.0004 (0.0010)  loss_rpn_box_reg: 0.0021 (0.0027)  time: 0.6515  data: 0.0324  max mem: 4961\n"
     ]
    },
    {
     "name": "stderr",
     "output_type": "stream",
     "text": [
      "libpng warning: iCCP: known incorrect sRGB profile\n",
      "libpng warning: iCCP: known incorrect sRGB profile\n"
     ]
    },
    {
     "name": "stdout",
     "output_type": "stream",
     "text": [
      "Epoch: [8]  [ 30/227]  eta: 0:02:17  lr: 0.000050  loss: 0.1224 (0.1313)  loss_classifier: 0.0413 (0.0444)  loss_box_reg: 0.0791 (0.0835)  loss_objectness: 0.0004 (0.0008)  loss_rpn_box_reg: 0.0018 (0.0027)  time: 0.6514  data: 0.0331  max mem: 4961\n"
     ]
    },
    {
     "name": "stderr",
     "output_type": "stream",
     "text": [
      "libpng warning: iCCP: known incorrect sRGB profile\n",
      "libpng warning: iCCP: known incorrect sRGB profile\n"
     ]
    },
    {
     "name": "stdout",
     "output_type": "stream",
     "text": [
      "Epoch: [8]  [ 40/227]  eta: 0:02:08  lr: 0.000050  loss: 0.1269 (0.1332)  loss_classifier: 0.0373 (0.0446)  loss_box_reg: 0.0863 (0.0848)  loss_objectness: 0.0003 (0.0010)  loss_rpn_box_reg: 0.0023 (0.0028)  time: 0.6523  data: 0.0352  max mem: 4961\n"
     ]
    },
    {
     "name": "stderr",
     "output_type": "stream",
     "text": [
      "libpng warning: iCCP: known incorrect sRGB profile\n",
      "libpng warning: iCCP: known incorrect sRGB profile\n",
      "libpng warning: iCCP: known incorrect sRGB profile\n"
     ]
    },
    {
     "name": "stdout",
     "output_type": "stream",
     "text": [
      "Epoch: [8]  [ 50/227]  eta: 0:02:00  lr: 0.000050  loss: 0.1437 (0.1363)  loss_classifier: 0.0415 (0.0454)  loss_box_reg: 0.0908 (0.0871)  loss_objectness: 0.0006 (0.0011)  loss_rpn_box_reg: 0.0021 (0.0027)  time: 0.6483  data: 0.0343  max mem: 4961\n"
     ]
    },
    {
     "name": "stderr",
     "output_type": "stream",
     "text": [
      "libpng warning: iCCP: known incorrect sRGB profile\n",
      "libpng warning: iCCP: known incorrect sRGB profile\n",
      "libpng warning: iCCP: known incorrect sRGB profile\n"
     ]
    },
    {
     "name": "stdout",
     "output_type": "stream",
     "text": [
      "Epoch: [8]  [ 60/227]  eta: 0:01:52  lr: 0.000050  loss: 0.1200 (0.1331)  loss_classifier: 0.0386 (0.0442)  loss_box_reg: 0.0803 (0.0852)  loss_objectness: 0.0007 (0.0010)  loss_rpn_box_reg: 0.0023 (0.0027)  time: 0.6443  data: 0.0317  max mem: 4961\n"
     ]
    },
    {
     "name": "stderr",
     "output_type": "stream",
     "text": [
      "libpng warning: iCCP: known incorrect sRGB profile\n"
     ]
    },
    {
     "name": "stdout",
     "output_type": "stream",
     "text": [
      "Epoch: [8]  [ 70/227]  eta: 0:01:45  lr: 0.000050  loss: 0.0971 (0.1316)  loss_classifier: 0.0338 (0.0430)  loss_box_reg: 0.0651 (0.0848)  loss_objectness: 0.0003 (0.0010)  loss_rpn_box_reg: 0.0026 (0.0028)  time: 0.6472  data: 0.0320  max mem: 4961\n"
     ]
    },
    {
     "name": "stderr",
     "output_type": "stream",
     "text": [
      "libpng warning: iCCP: known incorrect sRGB profile\n",
      "libpng warning: iCCP: known incorrect sRGB profile\n"
     ]
    },
    {
     "name": "stdout",
     "output_type": "stream",
     "text": [
      "Epoch: [8]  [ 80/227]  eta: 0:01:38  lr: 0.000050  loss: 0.0986 (0.1302)  loss_classifier: 0.0362 (0.0430)  loss_box_reg: 0.0666 (0.0834)  loss_objectness: 0.0005 (0.0010)  loss_rpn_box_reg: 0.0023 (0.0027)  time: 0.6495  data: 0.0330  max mem: 4961\n",
      "Epoch: [8]  [ 90/227]  eta: 0:01:31  lr: 0.000050  loss: 0.0892 (0.1263)  loss_classifier: 0.0324 (0.0416)  loss_box_reg: 0.0605 (0.0811)  loss_objectness: 0.0006 (0.0009)  loss_rpn_box_reg: 0.0018 (0.0027)  time: 0.6494  data: 0.0336  max mem: 4961\n"
     ]
    },
    {
     "name": "stderr",
     "output_type": "stream",
     "text": [
      "libpng warning: iCCP: known incorrect sRGB profile\n",
      "libpng warning: iCCP: known incorrect sRGB profile\n"
     ]
    },
    {
     "name": "stdout",
     "output_type": "stream",
     "text": [
      "Epoch: [8]  [100/227]  eta: 0:01:24  lr: 0.000050  loss: 0.0856 (0.1248)  loss_classifier: 0.0294 (0.0419)  loss_box_reg: 0.0567 (0.0795)  loss_objectness: 0.0004 (0.0009)  loss_rpn_box_reg: 0.0018 (0.0026)  time: 0.6463  data: 0.0335  max mem: 4961\n"
     ]
    },
    {
     "name": "stderr",
     "output_type": "stream",
     "text": [
      "libpng warning: iCCP: known incorrect sRGB profile\n",
      "libpng warning: iCCP: known incorrect sRGB profile\n",
      "libpng warning: iCCP: known incorrect sRGB profile\n",
      "libpng warning: iCCP: known incorrect sRGB profile\n"
     ]
    },
    {
     "name": "stdout",
     "output_type": "stream",
     "text": [
      "Epoch: [8]  [110/227]  eta: 0:01:17  lr: 0.000050  loss: 0.1134 (0.1257)  loss_classifier: 0.0380 (0.0421)  loss_box_reg: 0.0707 (0.0800)  loss_objectness: 0.0002 (0.0009)  loss_rpn_box_reg: 0.0019 (0.0027)  time: 0.6502  data: 0.0339  max mem: 4961\n"
     ]
    },
    {
     "name": "stderr",
     "output_type": "stream",
     "text": [
      "libpng warning: iCCP: known incorrect sRGB profile\n"
     ]
    },
    {
     "name": "stdout",
     "output_type": "stream",
     "text": [
      "Epoch: [8]  [120/227]  eta: 0:01:10  lr: 0.000050  loss: 0.1259 (0.1262)  loss_classifier: 0.0384 (0.0421)  loss_box_reg: 0.0770 (0.0804)  loss_objectness: 0.0004 (0.0009)  loss_rpn_box_reg: 0.0029 (0.0027)  time: 0.6538  data: 0.0350  max mem: 4961\n",
      "Epoch: [8]  [130/227]  eta: 0:01:04  lr: 0.000050  loss: 0.1359 (0.1296)  loss_classifier: 0.0426 (0.0429)  loss_box_reg: 0.0840 (0.0828)  loss_objectness: 0.0004 (0.0011)  loss_rpn_box_reg: 0.0029 (0.0028)  time: 0.6507  data: 0.0336  max mem: 4961\n"
     ]
    },
    {
     "name": "stderr",
     "output_type": "stream",
     "text": [
      "libpng warning: iCCP: known incorrect sRGB profile\n"
     ]
    },
    {
     "name": "stdout",
     "output_type": "stream",
     "text": [
      "Epoch: [8]  [140/227]  eta: 0:00:57  lr: 0.000050  loss: 0.1339 (0.1288)  loss_classifier: 0.0380 (0.0425)  loss_box_reg: 0.0840 (0.0824)  loss_objectness: 0.0004 (0.0011)  loss_rpn_box_reg: 0.0024 (0.0028)  time: 0.6488  data: 0.0331  max mem: 4961\n"
     ]
    },
    {
     "name": "stderr",
     "output_type": "stream",
     "text": [
      "libpng warning: iCCP: known incorrect sRGB profile\n",
      "libpng warning: iCCP: known incorrect sRGB profile\n",
      "libpng warning: iCCP: known incorrect sRGB profile\n",
      "libpng warning: iCCP: known incorrect sRGB profile\n"
     ]
    },
    {
     "name": "stdout",
     "output_type": "stream",
     "text": [
      "Epoch: [8]  [150/227]  eta: 0:00:50  lr: 0.000050  loss: 0.1313 (0.1292)  loss_classifier: 0.0380 (0.0428)  loss_box_reg: 0.0740 (0.0826)  loss_objectness: 0.0005 (0.0011)  loss_rpn_box_reg: 0.0019 (0.0028)  time: 0.6458  data: 0.0327  max mem: 4961\n"
     ]
    },
    {
     "name": "stderr",
     "output_type": "stream",
     "text": [
      "libpng warning: iCCP: known incorrect sRGB profile\n"
     ]
    },
    {
     "name": "stdout",
     "output_type": "stream",
     "text": [
      "Epoch: [8]  [160/227]  eta: 0:00:44  lr: 0.000050  loss: 0.1172 (0.1288)  loss_classifier: 0.0398 (0.0425)  loss_box_reg: 0.0736 (0.0825)  loss_objectness: 0.0003 (0.0011)  loss_rpn_box_reg: 0.0021 (0.0028)  time: 0.6424  data: 0.0312  max mem: 4961\n"
     ]
    },
    {
     "name": "stderr",
     "output_type": "stream",
     "text": [
      "libpng warning: iCCP: known incorrect sRGB profile\n",
      "libpng warning: iCCP: known incorrect sRGB profile\n"
     ]
    },
    {
     "name": "stdout",
     "output_type": "stream",
     "text": [
      "Epoch: [8]  [170/227]  eta: 0:00:37  lr: 0.000050  loss: 0.1247 (0.1301)  loss_classifier: 0.0436 (0.0429)  loss_box_reg: 0.0838 (0.0833)  loss_objectness: 0.0003 (0.0011)  loss_rpn_box_reg: 0.0025 (0.0028)  time: 0.6421  data: 0.0316  max mem: 4961\n"
     ]
    },
    {
     "name": "stderr",
     "output_type": "stream",
     "text": [
      "libpng warning: iCCP: known incorrect sRGB profile\n",
      "libpng warning: iCCP: known incorrect sRGB profile\n",
      "libpng warning: iCCP: known incorrect sRGB profile\n"
     ]
    },
    {
     "name": "stdout",
     "output_type": "stream",
     "text": [
      "Epoch: [8]  [180/227]  eta: 0:00:30  lr: 0.000050  loss: 0.1247 (0.1291)  loss_classifier: 0.0400 (0.0427)  loss_box_reg: 0.0838 (0.0826)  loss_objectness: 0.0003 (0.0011)  loss_rpn_box_reg: 0.0024 (0.0028)  time: 0.6472  data: 0.0328  max mem: 4961\n"
     ]
    },
    {
     "name": "stderr",
     "output_type": "stream",
     "text": [
      "libpng warning: iCCP: known incorrect sRGB profile\n",
      "libpng warning: iCCP: known incorrect sRGB profile\n",
      "libpng warning: iCCP: known incorrect sRGB profile\n",
      "libpng warning: iCCP: known incorrect sRGB profile\n",
      "libpng warning: iCCP: known incorrect sRGB profile\n",
      "libpng warning: iCCP: known incorrect sRGB profile\n"
     ]
    },
    {
     "name": "stdout",
     "output_type": "stream",
     "text": [
      "Epoch: [8]  [190/227]  eta: 0:00:24  lr: 0.000050  loss: 0.1037 (0.1279)  loss_classifier: 0.0357 (0.0424)  loss_box_reg: 0.0632 (0.0816)  loss_objectness: 0.0005 (0.0011)  loss_rpn_box_reg: 0.0024 (0.0027)  time: 0.6485  data: 0.0338  max mem: 4961\n"
     ]
    },
    {
     "name": "stderr",
     "output_type": "stream",
     "text": [
      "libpng warning: iCCP: known incorrect sRGB profile\n",
      "libpng warning: iCCP: known incorrect sRGB profile\n",
      "libpng warning: iCCP: known incorrect sRGB profile\n",
      "libpng warning: iCCP: known incorrect sRGB profile\n",
      "libpng warning: iCCP: known incorrect sRGB profile\n",
      "libpng warning: iCCP: known incorrect sRGB profile\n",
      "libpng warning: iCCP: known incorrect sRGB profile\n"
     ]
    },
    {
     "name": "stdout",
     "output_type": "stream",
     "text": [
      "Epoch: [8]  [200/227]  eta: 0:00:17  lr: 0.000050  loss: 0.0910 (0.1261)  loss_classifier: 0.0343 (0.0420)  loss_box_reg: 0.0543 (0.0804)  loss_objectness: 0.0004 (0.0011)  loss_rpn_box_reg: 0.0018 (0.0027)  time: 0.6460  data: 0.0331  max mem: 4961\n"
     ]
    },
    {
     "name": "stderr",
     "output_type": "stream",
     "text": [
      "libpng warning: iCCP: known incorrect sRGB profile\n",
      "libpng warning: iCCP: known incorrect sRGB profile\n",
      "libpng warning: iCCP: known incorrect sRGB profile\n",
      "libpng warning: iCCP: known incorrect sRGB profile\n",
      "libpng warning: iCCP: known incorrect sRGB profile\n"
     ]
    },
    {
     "name": "stdout",
     "output_type": "stream",
     "text": [
      "Epoch: [8]  [210/227]  eta: 0:00:11  lr: 0.000050  loss: 0.0975 (0.1259)  loss_classifier: 0.0321 (0.0418)  loss_box_reg: 0.0621 (0.0804)  loss_objectness: 0.0003 (0.0011)  loss_rpn_box_reg: 0.0017 (0.0027)  time: 0.6473  data: 0.0323  max mem: 4961\n"
     ]
    },
    {
     "name": "stderr",
     "output_type": "stream",
     "text": [
      "libpng warning: iCCP: known incorrect sRGB profile\n",
      "libpng warning: iCCP: known incorrect sRGB profile\n"
     ]
    },
    {
     "name": "stdout",
     "output_type": "stream",
     "text": [
      "Epoch: [8]  [220/227]  eta: 0:00:04  lr: 0.000050  loss: 0.1222 (0.1263)  loss_classifier: 0.0377 (0.0421)  loss_box_reg: 0.0774 (0.0805)  loss_objectness: 0.0003 (0.0010)  loss_rpn_box_reg: 0.0018 (0.0026)  time: 0.6471  data: 0.0317  max mem: 4961\n",
      "Epoch: [8]  [226/227]  eta: 0:00:00  lr: 0.000050  loss: 0.1222 (0.1264)  loss_classifier: 0.0387 (0.0423)  loss_box_reg: 0.0771 (0.0805)  loss_objectness: 0.0003 (0.0011)  loss_rpn_box_reg: 0.0018 (0.0026)  time: 0.6359  data: 0.0303  max mem: 4961\n",
      "Epoch: [8] Total time: 0:02:28 (0.6540 s / it)\n",
      "creating index...\n",
      "index created!\n",
      "Test:  [ 0/19]  eta: 0:00:17  model_time: 0.2574 (0.2574)  evaluator_time: 0.0045 (0.0045)  time: 0.8977  data: 0.5592  max mem: 4961\n",
      "Test:  [18/19]  eta: 0:00:00  model_time: 0.2536 (0.2508)  evaluator_time: 0.0043 (0.0070)  time: 0.3461  data: 0.0577  max mem: 4961\n",
      "Test: Total time: 0:00:06 (0.3480 s / it)\n",
      "Averaged stats: model_time: 0.2536 (0.2508)  evaluator_time: 0.0043 (0.0070)\n",
      "Accumulating evaluation results...\n",
      "DONE (t=0.02s).\n",
      "IoU metric: bbox\n",
      " Average Precision  (AP) @[ IoU=0.50:0.95 | area=   all | maxDets=100 ] = 0.099\n",
      " Average Precision  (AP) @[ IoU=0.50      | area=   all | maxDets=100 ] = 0.190\n",
      " Average Precision  (AP) @[ IoU=0.75      | area=   all | maxDets=100 ] = 0.088\n",
      " Average Precision  (AP) @[ IoU=0.50:0.95 | area= small | maxDets=100 ] = 0.000\n",
      " Average Precision  (AP) @[ IoU=0.50:0.95 | area=medium | maxDets=100 ] = 0.063\n",
      " Average Precision  (AP) @[ IoU=0.50:0.95 | area= large | maxDets=100 ] = 0.347\n",
      " Average Recall     (AR) @[ IoU=0.50:0.95 | area=   all | maxDets=  1 ] = 0.037\n",
      " Average Recall     (AR) @[ IoU=0.50:0.95 | area=   all | maxDets= 10 ] = 0.114\n",
      " Average Recall     (AR) @[ IoU=0.50:0.95 | area=   all | maxDets=100 ] = 0.115\n",
      " Average Recall     (AR) @[ IoU=0.50:0.95 | area= small | maxDets=100 ] = 0.000\n",
      " Average Recall     (AR) @[ IoU=0.50:0.95 | area=medium | maxDets=100 ] = 0.075\n",
      " Average Recall     (AR) @[ IoU=0.50:0.95 | area= large | maxDets=100 ] = 0.412\n"
     ]
    },
    {
     "name": "stderr",
     "output_type": "stream",
     "text": [
      "libpng warning: iCCP: known incorrect sRGB profile\n"
     ]
    },
    {
     "name": "stdout",
     "output_type": "stream",
     "text": [
      "Epoch: [9]  [  0/227]  eta: 0:07:52  lr: 0.000005  loss: 0.0924 (0.0924)  loss_classifier: 0.0327 (0.0327)  loss_box_reg: 0.0526 (0.0526)  loss_objectness: 0.0000 (0.0000)  loss_rpn_box_reg: 0.0071 (0.0071)  time: 2.0819  data: 1.3991  max mem: 4961\n"
     ]
    },
    {
     "name": "stderr",
     "output_type": "stream",
     "text": [
      "libpng warning: iCCP: known incorrect sRGB profile\n",
      "libpng warning: iCCP: known incorrect sRGB profile\n",
      "libpng warning: iCCP: known incorrect sRGB profile\n",
      "libpng warning: iCCP: known incorrect sRGB profile\n",
      "libpng warning: iCCP: known incorrect sRGB profile\n"
     ]
    },
    {
     "name": "stdout",
     "output_type": "stream",
     "text": [
      "Epoch: [9]  [ 10/227]  eta: 0:02:51  lr: 0.000005  loss: 0.1208 (0.1206)  loss_classifier: 0.0366 (0.0410)  loss_box_reg: 0.0813 (0.0750)  loss_objectness: 0.0015 (0.0016)  loss_rpn_box_reg: 0.0024 (0.0030)  time: 0.7883  data: 0.1551  max mem: 4961\n"
     ]
    },
    {
     "name": "stderr",
     "output_type": "stream",
     "text": [
      "libpng warning: iCCP: known incorrect sRGB profile\n",
      "libpng warning: iCCP: known incorrect sRGB profile\n",
      "libpng warning: iCCP: known incorrect sRGB profile\n"
     ]
    },
    {
     "name": "stdout",
     "output_type": "stream",
     "text": [
      "Epoch: [9]  [ 20/227]  eta: 0:02:29  lr: 0.000005  loss: 0.1026 (0.1110)  loss_classifier: 0.0380 (0.0386)  loss_box_reg: 0.0622 (0.0686)  loss_objectness: 0.0010 (0.0015)  loss_rpn_box_reg: 0.0017 (0.0023)  time: 0.6555  data: 0.0327  max mem: 4961\n"
     ]
    },
    {
     "name": "stderr",
     "output_type": "stream",
     "text": [
      "libpng warning: iCCP: known incorrect sRGB profile\n"
     ]
    },
    {
     "name": "stdout",
     "output_type": "stream",
     "text": [
      "Epoch: [9]  [ 30/227]  eta: 0:02:17  lr: 0.000005  loss: 0.0911 (0.1057)  loss_classifier: 0.0382 (0.0370)  loss_box_reg: 0.0594 (0.0647)  loss_objectness: 0.0007 (0.0016)  loss_rpn_box_reg: 0.0016 (0.0024)  time: 0.6489  data: 0.0329  max mem: 4961\n"
     ]
    },
    {
     "name": "stderr",
     "output_type": "stream",
     "text": [
      "libpng warning: iCCP: known incorrect sRGB profile\n"
     ]
    },
    {
     "name": "stdout",
     "output_type": "stream",
     "text": [
      "Epoch: [9]  [ 40/227]  eta: 0:02:08  lr: 0.000005  loss: 0.1195 (0.1161)  loss_classifier: 0.0359 (0.0392)  loss_box_reg: 0.0821 (0.0730)  loss_objectness: 0.0007 (0.0014)  loss_rpn_box_reg: 0.0021 (0.0025)  time: 0.6471  data: 0.0330  max mem: 4961\n",
      "Epoch: [9]  [ 50/227]  eta: 0:01:59  lr: 0.000005  loss: 0.1195 (0.1174)  loss_classifier: 0.0359 (0.0401)  loss_box_reg: 0.0847 (0.0736)  loss_objectness: 0.0004 (0.0013)  loss_rpn_box_reg: 0.0021 (0.0024)  time: 0.6439  data: 0.0326  max mem: 4961\n"
     ]
    },
    {
     "name": "stderr",
     "output_type": "stream",
     "text": [
      "libpng warning: iCCP: known incorrect sRGB profile\n",
      "libpng warning: iCCP: known incorrect sRGB profile\n"
     ]
    },
    {
     "name": "stdout",
     "output_type": "stream",
     "text": [
      "Epoch: [9]  [ 60/227]  eta: 0:01:52  lr: 0.000005  loss: 0.1147 (0.1205)  loss_classifier: 0.0423 (0.0415)  loss_box_reg: 0.0673 (0.0750)  loss_objectness: 0.0006 (0.0014)  loss_rpn_box_reg: 0.0021 (0.0026)  time: 0.6409  data: 0.0300  max mem: 4961\n"
     ]
    },
    {
     "name": "stderr",
     "output_type": "stream",
     "text": [
      "libpng warning: iCCP: known incorrect sRGB profile\n"
     ]
    },
    {
     "name": "stdout",
     "output_type": "stream",
     "text": [
      "Epoch: [9]  [ 70/227]  eta: 0:01:44  lr: 0.000005  loss: 0.1085 (0.1180)  loss_classifier: 0.0396 (0.0406)  loss_box_reg: 0.0673 (0.0734)  loss_objectness: 0.0010 (0.0015)  loss_rpn_box_reg: 0.0021 (0.0026)  time: 0.6406  data: 0.0297  max mem: 4961\n"
     ]
    },
    {
     "name": "stderr",
     "output_type": "stream",
     "text": [
      "libpng warning: iCCP: known incorrect sRGB profile\n",
      "libpng warning: iCCP: known incorrect sRGB profile\n",
      "libpng warning: iCCP: known incorrect sRGB profile\n"
     ]
    },
    {
     "name": "stdout",
     "output_type": "stream",
     "text": [
      "Epoch: [9]  [ 80/227]  eta: 0:01:37  lr: 0.000005  loss: 0.0998 (0.1235)  loss_classifier: 0.0357 (0.0422)  loss_box_reg: 0.0647 (0.0772)  loss_objectness: 0.0007 (0.0015)  loss_rpn_box_reg: 0.0026 (0.0027)  time: 0.6434  data: 0.0311  max mem: 4961\n"
     ]
    },
    {
     "name": "stderr",
     "output_type": "stream",
     "text": [
      "libpng warning: iCCP: known incorrect sRGB profile\n",
      "libpng warning: iCCP: known incorrect sRGB profile\n"
     ]
    },
    {
     "name": "stdout",
     "output_type": "stream",
     "text": [
      "Epoch: [9]  [ 90/227]  eta: 0:01:30  lr: 0.000005  loss: 0.1287 (0.1250)  loss_classifier: 0.0366 (0.0427)  loss_box_reg: 0.0814 (0.0781)  loss_objectness: 0.0009 (0.0015)  loss_rpn_box_reg: 0.0026 (0.0027)  time: 0.6503  data: 0.0334  max mem: 4961\n"
     ]
    },
    {
     "name": "stderr",
     "output_type": "stream",
     "text": [
      "libpng warning: iCCP: known incorrect sRGB profile\n"
     ]
    },
    {
     "name": "stdout",
     "output_type": "stream",
     "text": [
      "Epoch: [9]  [100/227]  eta: 0:01:24  lr: 0.000005  loss: 0.1193 (0.1253)  loss_classifier: 0.0362 (0.0427)  loss_box_reg: 0.0659 (0.0784)  loss_objectness: 0.0008 (0.0015)  loss_rpn_box_reg: 0.0022 (0.0026)  time: 0.6516  data: 0.0350  max mem: 4961\n"
     ]
    },
    {
     "name": "stderr",
     "output_type": "stream",
     "text": [
      "libpng warning: iCCP: known incorrect sRGB profile\n",
      "libpng warning: iCCP: known incorrect sRGB profile\n",
      "libpng warning: iCCP: known incorrect sRGB profile\n",
      "libpng warning: iCCP: known incorrect sRGB profile\n",
      "libpng warning: iCCP: known incorrect sRGB profile\n",
      "libpng warning: iCCP: known incorrect sRGB profile\n",
      "libpng warning: iCCP: known incorrect sRGB profile\n"
     ]
    },
    {
     "name": "stdout",
     "output_type": "stream",
     "text": [
      "Epoch: [9]  [110/227]  eta: 0:01:17  lr: 0.000005  loss: 0.1128 (0.1259)  loss_classifier: 0.0362 (0.0426)  loss_box_reg: 0.0739 (0.0791)  loss_objectness: 0.0003 (0.0015)  loss_rpn_box_reg: 0.0021 (0.0027)  time: 0.6510  data: 0.0352  max mem: 4961\n"
     ]
    },
    {
     "name": "stderr",
     "output_type": "stream",
     "text": [
      "libpng warning: iCCP: known incorrect sRGB profile\n"
     ]
    },
    {
     "name": "stdout",
     "output_type": "stream",
     "text": [
      "Epoch: [9]  [120/227]  eta: 0:01:10  lr: 0.000005  loss: 0.1153 (0.1248)  loss_classifier: 0.0388 (0.0422)  loss_box_reg: 0.0727 (0.0785)  loss_objectness: 0.0003 (0.0014)  loss_rpn_box_reg: 0.0019 (0.0026)  time: 0.6497  data: 0.0333  max mem: 4961\n"
     ]
    },
    {
     "name": "stderr",
     "output_type": "stream",
     "text": [
      "libpng warning: iCCP: known incorrect sRGB profile\n",
      "libpng warning: iCCP: known incorrect sRGB profile\n",
      "libpng warning: iCCP: known incorrect sRGB profile\n",
      "libpng warning: iCCP: known incorrect sRGB profile\n",
      "libpng warning: iCCP: known incorrect sRGB profile\n"
     ]
    },
    {
     "name": "stdout",
     "output_type": "stream",
     "text": [
      "Epoch: [9]  [130/227]  eta: 0:01:03  lr: 0.000005  loss: 0.1204 (0.1266)  loss_classifier: 0.0427 (0.0428)  loss_box_reg: 0.0763 (0.0797)  loss_objectness: 0.0004 (0.0015)  loss_rpn_box_reg: 0.0021 (0.0027)  time: 0.6465  data: 0.0322  max mem: 4961\n"
     ]
    },
    {
     "name": "stderr",
     "output_type": "stream",
     "text": [
      "libpng warning: iCCP: known incorrect sRGB profile\n",
      "libpng warning: iCCP: known incorrect sRGB profile\n",
      "libpng warning: iCCP: known incorrect sRGB profile\n",
      "libpng warning: iCCP: known incorrect sRGB profile\n"
     ]
    },
    {
     "name": "stdout",
     "output_type": "stream",
     "text": [
      "Epoch: [9]  [140/227]  eta: 0:00:57  lr: 0.000005  loss: 0.1118 (0.1258)  loss_classifier: 0.0410 (0.0426)  loss_box_reg: 0.0741 (0.0791)  loss_objectness: 0.0006 (0.0015)  loss_rpn_box_reg: 0.0021 (0.0027)  time: 0.6483  data: 0.0334  max mem: 4961\n"
     ]
    },
    {
     "name": "stderr",
     "output_type": "stream",
     "text": [
      "libpng warning: iCCP: known incorrect sRGB profile\n",
      "libpng warning: iCCP: known incorrect sRGB profile\n",
      "libpng warning: iCCP: known incorrect sRGB profile\n",
      "libpng warning: iCCP: known incorrect sRGB profile\n",
      "libpng warning: iCCP: known incorrect sRGB profile\n"
     ]
    },
    {
     "name": "stdout",
     "output_type": "stream",
     "text": [
      "Epoch: [9]  [150/227]  eta: 0:00:50  lr: 0.000005  loss: 0.1118 (0.1264)  loss_classifier: 0.0397 (0.0428)  loss_box_reg: 0.0708 (0.0795)  loss_objectness: 0.0007 (0.0015)  loss_rpn_box_reg: 0.0020 (0.0027)  time: 0.6479  data: 0.0328  max mem: 4961\n"
     ]
    },
    {
     "name": "stderr",
     "output_type": "stream",
     "text": [
      "libpng warning: iCCP: known incorrect sRGB profile\n",
      "libpng warning: iCCP: known incorrect sRGB profile\n",
      "libpng warning: iCCP: known incorrect sRGB profile\n",
      "libpng warning: iCCP: known incorrect sRGB profile\n"
     ]
    },
    {
     "name": "stdout",
     "output_type": "stream",
     "text": [
      "Epoch: [9]  [160/227]  eta: 0:00:44  lr: 0.000005  loss: 0.1184 (0.1256)  loss_classifier: 0.0362 (0.0425)  loss_box_reg: 0.0710 (0.0790)  loss_objectness: 0.0007 (0.0015)  loss_rpn_box_reg: 0.0019 (0.0026)  time: 0.6461  data: 0.0319  max mem: 4961\n"
     ]
    },
    {
     "name": "stderr",
     "output_type": "stream",
     "text": [
      "libpng warning: iCCP: known incorrect sRGB profile\n",
      "libpng warning: iCCP: known incorrect sRGB profile\n",
      "libpng warning: iCCP: known incorrect sRGB profile\n",
      "libpng warning: iCCP: known incorrect sRGB profile\n"
     ]
    },
    {
     "name": "stdout",
     "output_type": "stream",
     "text": [
      "Epoch: [9]  [170/227]  eta: 0:00:37  lr: 0.000005  loss: 0.1047 (0.1252)  loss_classifier: 0.0348 (0.0421)  loss_box_reg: 0.0710 (0.0790)  loss_objectness: 0.0005 (0.0015)  loss_rpn_box_reg: 0.0020 (0.0026)  time: 0.6487  data: 0.0335  max mem: 4961\n"
     ]
    },
    {
     "name": "stderr",
     "output_type": "stream",
     "text": [
      "libpng warning: iCCP: known incorrect sRGB profile\n",
      "libpng warning: iCCP: known incorrect sRGB profile\n"
     ]
    },
    {
     "name": "stdout",
     "output_type": "stream",
     "text": [
      "Epoch: [9]  [180/227]  eta: 0:00:30  lr: 0.000005  loss: 0.1197 (0.1242)  loss_classifier: 0.0371 (0.0418)  loss_box_reg: 0.0721 (0.0784)  loss_objectness: 0.0004 (0.0014)  loss_rpn_box_reg: 0.0019 (0.0026)  time: 0.6448  data: 0.0321  max mem: 4961\n"
     ]
    },
    {
     "name": "stderr",
     "output_type": "stream",
     "text": [
      "libpng warning: iCCP: known incorrect sRGB profile\n",
      "libpng warning: iCCP: known incorrect sRGB profile\n"
     ]
    },
    {
     "name": "stdout",
     "output_type": "stream",
     "text": [
      "Epoch: [9]  [190/227]  eta: 0:00:24  lr: 0.000005  loss: 0.1044 (0.1235)  loss_classifier: 0.0351 (0.0414)  loss_box_reg: 0.0686 (0.0781)  loss_objectness: 0.0004 (0.0014)  loss_rpn_box_reg: 0.0019 (0.0026)  time: 0.6472  data: 0.0327  max mem: 4961\n"
     ]
    },
    {
     "name": "stderr",
     "output_type": "stream",
     "text": [
      "libpng warning: iCCP: known incorrect sRGB profile\n",
      "libpng warning: iCCP: known incorrect sRGB profile\n",
      "libpng warning: iCCP: known incorrect sRGB profile\n"
     ]
    },
    {
     "name": "stdout",
     "output_type": "stream",
     "text": [
      "Epoch: [9]  [200/227]  eta: 0:00:17  lr: 0.000005  loss: 0.1030 (0.1229)  loss_classifier: 0.0320 (0.0411)  loss_box_reg: 0.0629 (0.0778)  loss_objectness: 0.0006 (0.0014)  loss_rpn_box_reg: 0.0020 (0.0026)  time: 0.6520  data: 0.0348  max mem: 4961\n"
     ]
    },
    {
     "name": "stderr",
     "output_type": "stream",
     "text": [
      "libpng warning: iCCP: known incorrect sRGB profile\n",
      "libpng warning: iCCP: known incorrect sRGB profile\n",
      "libpng warning: iCCP: known incorrect sRGB profile\n"
     ]
    },
    {
     "name": "stdout",
     "output_type": "stream",
     "text": [
      "Epoch: [9]  [210/227]  eta: 0:00:11  lr: 0.000005  loss: 0.1106 (0.1231)  loss_classifier: 0.0365 (0.0411)  loss_box_reg: 0.0762 (0.0780)  loss_objectness: 0.0006 (0.0014)  loss_rpn_box_reg: 0.0020 (0.0026)  time: 0.6480  data: 0.0333  max mem: 4961\n"
     ]
    },
    {
     "name": "stderr",
     "output_type": "stream",
     "text": [
      "libpng warning: iCCP: known incorrect sRGB profile\n"
     ]
    },
    {
     "name": "stdout",
     "output_type": "stream",
     "text": [
      "Epoch: [9]  [220/227]  eta: 0:00:04  lr: 0.000005  loss: 0.1334 (0.1243)  loss_classifier: 0.0414 (0.0415)  loss_box_reg: 0.0836 (0.0788)  loss_objectness: 0.0006 (0.0014)  loss_rpn_box_reg: 0.0028 (0.0026)  time: 0.6443  data: 0.0316  max mem: 4961\n",
      "Epoch: [9]  [226/227]  eta: 0:00:00  lr: 0.000005  loss: 0.1393 (0.1245)  loss_classifier: 0.0418 (0.0415)  loss_box_reg: 0.0901 (0.0790)  loss_objectness: 0.0003 (0.0014)  loss_rpn_box_reg: 0.0028 (0.0026)  time: 0.6328  data: 0.0295  max mem: 4961\n",
      "Epoch: [9] Total time: 0:02:28 (0.6532 s / it)\n",
      "creating index...\n",
      "index created!\n",
      "Test:  [ 0/19]  eta: 0:00:18  model_time: 0.2776 (0.2776)  evaluator_time: 0.0044 (0.0044)  time: 0.9925  data: 0.6046  max mem: 4961\n",
      "Test:  [18/19]  eta: 0:00:00  model_time: 0.2525 (0.2510)  evaluator_time: 0.0044 (0.0066)  time: 0.3502  data: 0.0594  max mem: 4961\n",
      "Test: Total time: 0:00:06 (0.3519 s / it)\n",
      "Averaged stats: model_time: 0.2525 (0.2510)  evaluator_time: 0.0044 (0.0066)\n",
      "Accumulating evaluation results...\n",
      "DONE (t=0.02s).\n",
      "IoU metric: bbox\n",
      " Average Precision  (AP) @[ IoU=0.50:0.95 | area=   all | maxDets=100 ] = 0.099\n",
      " Average Precision  (AP) @[ IoU=0.50      | area=   all | maxDets=100 ] = 0.190\n",
      " Average Precision  (AP) @[ IoU=0.75      | area=   all | maxDets=100 ] = 0.088\n",
      " Average Precision  (AP) @[ IoU=0.50:0.95 | area= small | maxDets=100 ] = 0.000\n",
      " Average Precision  (AP) @[ IoU=0.50:0.95 | area=medium | maxDets=100 ] = 0.063\n",
      " Average Precision  (AP) @[ IoU=0.50:0.95 | area= large | maxDets=100 ] = 0.347\n",
      " Average Recall     (AR) @[ IoU=0.50:0.95 | area=   all | maxDets=  1 ] = 0.037\n",
      " Average Recall     (AR) @[ IoU=0.50:0.95 | area=   all | maxDets= 10 ] = 0.114\n",
      " Average Recall     (AR) @[ IoU=0.50:0.95 | area=   all | maxDets=100 ] = 0.115\n",
      " Average Recall     (AR) @[ IoU=0.50:0.95 | area= small | maxDets=100 ] = 0.000\n",
      " Average Recall     (AR) @[ IoU=0.50:0.95 | area=medium | maxDets=100 ] = 0.075\n",
      " Average Recall     (AR) @[ IoU=0.50:0.95 | area= large | maxDets=100 ] = 0.412\n"
     ]
    }
   ],
   "source": [
    "# training for 10 epochs\n",
    "num_epochs = 10\n",
    "\n",
    "for epoch in range(num_epochs):\n",
    "    # training for one epoch\n",
    "    train_one_epoch(model, optimizer, combined_data_loader_train, device, epoch, print_freq=10)\n",
    "    # update the learning rate\n",
    "    lr_scheduler.step()\n",
    "    # evaluate on the test dataset\n",
    "    evaluate(model, data_loader_test, device=device)"
   ]
  },
  {
   "cell_type": "code",
   "execution_count": null,
   "id": "5edee990",
   "metadata": {
    "papermill": {
     "duration": 0.085474,
     "end_time": "2024-06-19T16:38:52.800867",
     "exception": false,
     "start_time": "2024-06-19T16:38:52.715393",
     "status": "completed"
    },
    "tags": []
   },
   "outputs": [],
   "source": []
  }
 ],
 "metadata": {
  "kaggle": {
   "accelerator": "gpu",
   "dataSources": [
    {
     "datasetId": 304145,
     "sourceId": 620468,
     "sourceType": "datasetVersion"
    },
    {
     "datasetId": 5082236,
     "sourceId": 8513262,
     "sourceType": "datasetVersion"
    },
    {
     "datasetId": 5100338,
     "sourceId": 8538224,
     "sourceType": "datasetVersion"
    }
   ],
   "dockerImageVersionId": 30733,
   "isGpuEnabled": true,
   "isInternetEnabled": true,
   "language": "python",
   "sourceType": "notebook"
  },
  "kernelspec": {
   "display_name": "Python 3",
   "language": "python",
   "name": "python3"
  },
  "language_info": {
   "codemirror_mode": {
    "name": "ipython",
    "version": 3
   },
   "file_extension": ".py",
   "mimetype": "text/x-python",
   "name": "python",
   "nbconvert_exporter": "python",
   "pygments_lexer": "ipython3",
   "version": "3.10.13"
  },
  "papermill": {
   "default_parameters": {},
   "duration": 1699.077686,
   "end_time": "2024-06-19T16:38:55.289164",
   "environment_variables": {},
   "exception": null,
   "input_path": "__notebook__.ipynb",
   "output_path": "__notebook__.ipynb",
   "parameters": {},
   "start_time": "2024-06-19T16:10:36.211478",
   "version": "2.5.0"
  }
 },
 "nbformat": 4,
 "nbformat_minor": 5
}
