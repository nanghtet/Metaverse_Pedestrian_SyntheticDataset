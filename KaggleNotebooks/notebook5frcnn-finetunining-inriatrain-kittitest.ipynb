{
 "cells": [
  {
   "cell_type": "code",
   "execution_count": 1,
   "id": "19ff9e5d",
   "metadata": {
    "_cell_guid": "b1076dfc-b9ad-4769-8c92-a6c4dae69d19",
    "_uuid": "8f2839f25d086af736a60e9eeb907d3b93b6e0e5",
    "execution": {
     "iopub.execute_input": "2024-06-17T17:15:17.459674Z",
     "iopub.status.busy": "2024-06-17T17:15:17.459395Z",
     "iopub.status.idle": "2024-06-17T17:15:18.192242Z",
     "shell.execute_reply": "2024-06-17T17:15:18.191446Z"
    },
    "papermill": {
     "duration": 0.741945,
     "end_time": "2024-06-17T17:15:18.194497",
     "exception": false,
     "start_time": "2024-06-17T17:15:17.452552",
     "status": "completed"
    },
    "tags": []
   },
   "outputs": [],
   "source": [
    "# This Python 3 environment comes with many helpful analytics libraries installed\n",
    "# It is defined by the kaggle/python Docker image: https://github.com/kaggle/docker-python\n",
    "# For example, here's several helpful packages to load\n",
    "\n",
    "import numpy as np # linear algebra\n",
    "import pandas as pd # data processing, CSV file I/O (e.g. pd.read_csv)\n",
    "\n",
    "# Input data files are available in the read-only \"../input/\" directory\n",
    "# For example, running this (by clicking run or pressing Shift+Enter) will list all files under the input directory\n",
    "\n",
    "import os\n",
    "# for dirname, _, filenames in os.walk('/kaggle/input'):\n",
    "#     for filename in filenames:\n",
    "#         print(os.path.join(dirname, filename))\n",
    "\n",
    "# You can write up to 20GB to the current directory (/kaggle/working/) that gets preserved as output when you create a version using \"Save & Run All\" \n",
    "# You can also write temporary files to /kaggle/temp/, but they won't be saved outside of the current session"
   ]
  },
  {
   "cell_type": "code",
   "execution_count": 2,
   "id": "abec36fe",
   "metadata": {
    "execution": {
     "iopub.execute_input": "2024-06-17T17:15:18.206699Z",
     "iopub.status.busy": "2024-06-17T17:15:18.206363Z",
     "iopub.status.idle": "2024-06-17T17:17:02.088716Z",
     "shell.execute_reply": "2024-06-17T17:17:02.087483Z"
    },
    "papermill": {
     "duration": 103.890806,
     "end_time": "2024-06-17T17:17:02.091043",
     "exception": false,
     "start_time": "2024-06-17T17:15:18.200237",
     "status": "completed"
    },
    "tags": []
   },
   "outputs": [
    {
     "name": "stdout",
     "output_type": "stream",
     "text": [
      "Cloning into 'vision'...\r\n",
      "remote: Enumerating objects: 531472, done.\u001b[K\r\n",
      "remote: Counting objects: 100% (45082/45082), done.\u001b[K\r\n",
      "remote: Compressing objects: 100% (2074/2074), done.\u001b[K\r\n",
      "remote: Total 531472 (delta 43039), reused 44915 (delta 42935), pack-reused 486390\u001b[K\r\n",
      "Receiving objects: 100% (531472/531472), 1.00 GiB | 25.83 MiB/s, done.\r\n",
      "Resolving deltas: 100% (496283/496283), done.\r\n",
      "fatal: not a git repository (or any parent up to mount point /kaggle)\r\n",
      "Stopping at filesystem boundary (GIT_DISCOVERY_ACROSS_FILESYSTEM not set).\r\n"
     ]
    }
   ],
   "source": [
    "# Download TorchVision repo to use some files from\n",
    "# references/detection\n",
    "!pip install pycocotools --quiet\n",
    "!git clone https://github.com/pytorch/vision.git\n",
    "!git checkout v0.3.0\n",
    "\n",
    "!cp vision/references/detection/utils.py ./\n",
    "!cp vision/references/detection/transforms.py ./\n",
    "!cp vision/references/detection/coco_eval.py ./\n",
    "!cp vision/references/detection/engine.py ./\n",
    "!cp vision/references/detection/coco_utils.py ./"
   ]
  },
  {
   "cell_type": "code",
   "execution_count": 3,
   "id": "46551bc5",
   "metadata": {
    "execution": {
     "iopub.execute_input": "2024-06-17T17:17:02.132630Z",
     "iopub.status.busy": "2024-06-17T17:17:02.132063Z",
     "iopub.status.idle": "2024-06-17T17:17:08.687766Z",
     "shell.execute_reply": "2024-06-17T17:17:08.687016Z"
    },
    "papermill": {
     "duration": 6.57897,
     "end_time": "2024-06-17T17:17:08.690124",
     "exception": false,
     "start_time": "2024-06-17T17:17:02.111154",
     "status": "completed"
    },
    "tags": []
   },
   "outputs": [],
   "source": [
    "# Basic python and ML Libraries\n",
    "import os\n",
    "import random\n",
    "import numpy as np\n",
    "import pandas as pd\n",
    "# for ignoring warnings\n",
    "import warnings\n",
    "warnings.filterwarnings('ignore')\n",
    "\n",
    "# We will be reading images using OpenCV\n",
    "import cv2\n",
    "\n",
    "# xml library for parsing xml files\n",
    "from xml.etree import ElementTree as et\n",
    "\n",
    "# matplotlib for visualization\n",
    "import matplotlib.pyplot as plt\n",
    "import matplotlib.patches as patches\n",
    "\n",
    "# torchvision libraries\n",
    "import torch\n",
    "from torch.utils.data import Subset\n",
    "import torchvision\n",
    "from torchvision import transforms as torchtrans  \n",
    "from torchvision.models.detection.faster_rcnn import FastRCNNPredictor\n",
    "\n",
    "# these are the helper libraries imported.\n",
    "from engine import train_one_epoch, evaluate\n",
    "import utils\n",
    "import transforms as T\n",
    "\n",
    "# for image augmentations\n",
    "import albumentations as A\n",
    "from albumentations.pytorch.transforms import ToTensorV2\n"
   ]
  },
  {
   "cell_type": "code",
   "execution_count": 4,
   "id": "885206fd",
   "metadata": {
    "execution": {
     "iopub.execute_input": "2024-06-17T17:17:08.733225Z",
     "iopub.status.busy": "2024-06-17T17:17:08.732754Z",
     "iopub.status.idle": "2024-06-17T17:17:12.842011Z",
     "shell.execute_reply": "2024-06-17T17:17:12.840908Z"
    },
    "papermill": {
     "duration": 4.13213,
     "end_time": "2024-06-17T17:17:12.844412",
     "exception": false,
     "start_time": "2024-06-17T17:17:08.712282",
     "status": "completed"
    },
    "tags": []
   },
   "outputs": [],
   "source": [
    "mkdir -p /kaggle/working/train-inriaperson && cp -r /kaggle/input/inriaperson/Train/Annotations/* /kaggle/working/train-inriaperson"
   ]
  },
  {
   "cell_type": "code",
   "execution_count": 5,
   "id": "d1e82567",
   "metadata": {
    "execution": {
     "iopub.execute_input": "2024-06-17T17:17:12.886226Z",
     "iopub.status.busy": "2024-06-17T17:17:12.885871Z",
     "iopub.status.idle": "2024-06-17T17:17:22.647719Z",
     "shell.execute_reply": "2024-06-17T17:17:22.646520Z"
    },
    "papermill": {
     "duration": 9.785181,
     "end_time": "2024-06-17T17:17:22.650254",
     "exception": false,
     "start_time": "2024-06-17T17:17:12.865073",
     "status": "completed"
    },
    "tags": []
   },
   "outputs": [],
   "source": [
    "cp -r /kaggle/input/inriaperson/Train/JPEGImages/* /kaggle/working/train-inriaperson"
   ]
  },
  {
   "cell_type": "code",
   "execution_count": 6,
   "id": "527fdfed",
   "metadata": {
    "execution": {
     "iopub.execute_input": "2024-06-17T17:17:22.691548Z",
     "iopub.status.busy": "2024-06-17T17:17:22.691187Z",
     "iopub.status.idle": "2024-06-17T17:17:22.695668Z",
     "shell.execute_reply": "2024-06-17T17:17:22.694866Z"
    },
    "papermill": {
     "duration": 0.027114,
     "end_time": "2024-06-17T17:17:22.697533",
     "exception": false,
     "start_time": "2024-06-17T17:17:22.670419",
     "status": "completed"
    },
    "tags": []
   },
   "outputs": [],
   "source": [
    "# defining the files directory and testing directory\n",
    "train_dir = '/kaggle/working/train-inriaperson'\n",
    "test_dir = '//kaggle/input/kitti-train-test-selection/Train_Test_Selection/Test'"
   ]
  },
  {
   "cell_type": "code",
   "execution_count": 7,
   "id": "f63e393c",
   "metadata": {
    "execution": {
     "iopub.execute_input": "2024-06-17T17:17:22.738556Z",
     "iopub.status.busy": "2024-06-17T17:17:22.738305Z",
     "iopub.status.idle": "2024-06-17T17:17:22.757709Z",
     "shell.execute_reply": "2024-06-17T17:17:22.756898Z"
    },
    "papermill": {
     "duration": 0.041944,
     "end_time": "2024-06-17T17:17:22.759638",
     "exception": false,
     "start_time": "2024-06-17T17:17:22.717694",
     "status": "completed"
    },
    "tags": []
   },
   "outputs": [],
   "source": [
    "#for xml-annotatation dataset\n",
    "class ImagesDataset(torch.utils.data.Dataset):\n",
    "\n",
    "    def __init__(self, files_dir, width, height, transforms=None):\n",
    "        self.transforms = transforms\n",
    "        self.files_dir = files_dir\n",
    "        self.height = height\n",
    "        self.width = width\n",
    "            \n",
    "        self.imgs = [image for image in sorted(os.listdir(files_dir)) if image.endswith(('.png', '.jpg'))]\n",
    "        \n",
    "        \n",
    "        # classes: 0 index is reserved for background\n",
    "        self.classes = ['background','Pedestrian']\n",
    "\n",
    "    def __getitem__(self, idx):\n",
    "\n",
    "        img_name = self.imgs[idx]\n",
    "        image_path = os.path.join(self.files_dir, img_name)\n",
    "\n",
    "        # reading the images and converting them to correct size and color    \n",
    "        img = cv2.imread(image_path)\n",
    "        img_rgb = cv2.cvtColor(img, cv2.COLOR_BGR2RGB).astype(np.float32)\n",
    "        img_res = cv2.resize(img_rgb, (self.width, self.height), cv2.INTER_AREA)\n",
    "        # diving by 255\n",
    "        img_res /= 255.0\n",
    "        \n",
    "        # annotation file\n",
    "        annot_filename = img_name[:-4] + '.xml'\n",
    "        annot_file_path = os.path.join(self.files_dir, annot_filename)\n",
    "        \n",
    "        boxes = []\n",
    "        labels = []\n",
    "        tree = et.parse(annot_file_path)\n",
    "        root = tree.getroot()\n",
    "        \n",
    "        # cv2 image gives size as height x width\n",
    "        wt = img.shape[1]\n",
    "        ht = img.shape[0]\n",
    "        \n",
    "        # box coordinates for xml files are extracted and corrected for image size given\n",
    "        for member in root.findall('object'):\n",
    "            label_text = member.find('name').text.lower()\n",
    "            if label_text in ['ped', 'pedestrian','person']:\n",
    "                labels.append(self.classes.index('Pedestrian')) \n",
    "            \n",
    "            # bounding box\n",
    "            xmin = int(member.find('bndbox').find('xmin').text)\n",
    "            xmax = int(member.find('bndbox').find('xmax').text)\n",
    "            \n",
    "            ymin = int(member.find('bndbox').find('ymin').text)\n",
    "            ymax = int(member.find('bndbox').find('ymax').text)\n",
    "            \n",
    "            \n",
    "            xmin_corr = (xmin/wt)*self.width\n",
    "            xmax_corr = (xmax/wt)*self.width\n",
    "            ymin_corr = (ymin/ht)*self.height\n",
    "            ymax_corr = (ymax/ht)*self.height\n",
    "            \n",
    "            boxes.append([xmin_corr, ymin_corr, xmax_corr, ymax_corr])\n",
    "          \n",
    "        \n",
    "        # convert boxes into a torch.Tensor\n",
    "        boxes = torch.as_tensor(boxes, dtype=torch.float32)\n",
    "        \n",
    "        \n",
    "        # getting the areas of the boxes\n",
    "        area = (boxes[:, 3] - boxes[:, 1]) * (boxes[:, 2] - boxes[:, 0])\n",
    "\n",
    "        # suppose all instances are not crowd\n",
    "        iscrowd = torch.zeros((boxes.shape[0],), dtype=torch.int64)\n",
    "        \n",
    "        labels = torch.as_tensor(labels, dtype=torch.int64)\n",
    "\n",
    "\n",
    "        target = {}\n",
    "        target[\"boxes\"] = boxes\n",
    "        target[\"labels\"] = labels\n",
    "        target[\"area\"] = area\n",
    "        target[\"iscrowd\"] = iscrowd\n",
    "        # image_id\n",
    "        image_id = idx\n",
    "        target[\"image_id\"] = image_id\n",
    "        \n",
    "  \n",
    "\n",
    "\n",
    "        if self.transforms:\n",
    "            \n",
    "            sample = self.transforms(image = img_res,\n",
    "                                     bboxes = target['boxes'],\n",
    "                                     labels = labels)\n",
    "            \n",
    "            img_res = sample['image']\n",
    "            target['boxes'] = torch.Tensor(sample['bboxes'])\n",
    "            \n",
    "            \n",
    "            \n",
    "        return img_res, target\n",
    "\n",
    "    def __len__(self):\n",
    "        return len(self.imgs)"
   ]
  },
  {
   "cell_type": "code",
   "execution_count": 8,
   "id": "9e3ca0fc",
   "metadata": {
    "execution": {
     "iopub.execute_input": "2024-06-17T17:17:22.800178Z",
     "iopub.status.busy": "2024-06-17T17:17:22.799930Z",
     "iopub.status.idle": "2024-06-17T17:17:22.815354Z",
     "shell.execute_reply": "2024-06-17T17:17:22.814572Z"
    },
    "papermill": {
     "duration": 0.037853,
     "end_time": "2024-06-17T17:17:22.817175",
     "exception": false,
     "start_time": "2024-06-17T17:17:22.779322",
     "status": "completed"
    },
    "tags": []
   },
   "outputs": [],
   "source": [
    "#for txt-annotatation dataset\n",
    "class KittiDataset(torch.utils.data.Dataset):\n",
    "    def __init__(self, files_dir, width, height, transforms=None):\n",
    "        self.transforms = transforms\n",
    "        self.files_dir = files_dir\n",
    "        self.height = height\n",
    "        self.width = width\n",
    "        self.imgs = [image for image in sorted(os.listdir(files_dir)) if image.endswith(('.png', '.jpg'))]\n",
    "        self.classes = ['background', 'Pedestrian']\n",
    "\n",
    "    def __getitem__(self, idx):\n",
    "        img_name = self.imgs[idx]\n",
    "        image_path = os.path.join(self.files_dir, img_name)\n",
    "\n",
    "        # Reading the images and converting them to correct size and color\n",
    "        img = cv2.imread(image_path)\n",
    "        img_rgb = cv2.cvtColor(img, cv2.COLOR_BGR2RGB).astype(np.float32)\n",
    "        img_res = cv2.resize(img_rgb, (self.width, self.height), cv2.INTER_AREA)\n",
    "        img_res /= 255.0\n",
    "\n",
    "        # Annotation file\n",
    "        annot_filename = img_name[:-4] + '.txt'\n",
    "        annot_file_path = os.path.join(self.files_dir, annot_filename)\n",
    "\n",
    "        boxes = []\n",
    "        labels = []\n",
    "\n",
    "           # cv2 image gives size as height x width\n",
    "        wt = img.shape[1]\n",
    "        ht = img.shape[0]\n",
    "        # Read annotation data from text file\n",
    "        with open(annot_file_path, 'r') as file:\n",
    "            for line in file:\n",
    "                parts = line.strip().split(' ')\n",
    "                label_text = parts[0].lower()\n",
    "\n",
    "                if label_text in ['pedestrian', 'person']:\n",
    "                    labels.append(self.classes.index('Pedestrian'))\n",
    "\n",
    "                    # Bounding box coordinates\n",
    "                    xmin = float(parts[4])\n",
    "                    ymin = float(parts[5])\n",
    "                    xmax = float(parts[6])\n",
    "                    ymax = float(parts[7])\n",
    "\n",
    "                    # Normalize coordinates\n",
    "                    xmin_corr = (xmin/wt)*self.width\n",
    "                    xmax_corr = (xmax/wt)*self.width\n",
    "                    ymin_corr = (ymin/ht)*self.height\n",
    "                    ymax_corr = (ymax/ht)*self.height\n",
    "\n",
    "                    boxes.append([xmin_corr, ymin_corr, xmax_corr, ymax_corr])\n",
    "\n",
    "        # Convert boxes into a torch.Tensor\n",
    "        boxes = torch.as_tensor(boxes, dtype=torch.float32)\n",
    "        #print(\"boxes shape: \", boxes.size(), \"at index\",idx, img_name)\n",
    "       \n",
    "      \n",
    "           \n",
    "\n",
    "        # Calculate areas of the boxes\n",
    "        area = (boxes[:, 3] - boxes[:, 1]) * (boxes[:, 2] - boxes[:, 0])\n",
    "\n",
    "        # Suppose all instances are not crowd\n",
    "        iscrowd = torch.zeros((boxes.shape[0],), dtype=torch.int64)\n",
    "\n",
    "        labels = torch.as_tensor(labels, dtype=torch.int64)\n",
    "\n",
    "        target = {}\n",
    "        target[\"boxes\"] = boxes\n",
    "        target[\"labels\"] = labels\n",
    "        target[\"area\"] = area\n",
    "        target[\"iscrowd\"] = iscrowd\n",
    "\n",
    "        # image_id\n",
    "        #image_id = torch.tensor([idx])\n",
    "        image_id = idx\n",
    "        target[\"image_id\"] = image_id\n",
    "\n",
    "        if self.transforms:\n",
    "            sample = self.transforms(image=img_res, bboxes=target['boxes'], labels=labels)\n",
    "            img_res = sample['image']\n",
    "            target['boxes'] = torch.Tensor(sample['bboxes'])\n",
    "        return img_res, target\n",
    "    \n",
    "    \n",
    "\n",
    "    def __len__(self):\n",
    "        return len(self.imgs)\n"
   ]
  },
  {
   "cell_type": "code",
   "execution_count": 9,
   "id": "51c40baf",
   "metadata": {
    "execution": {
     "iopub.execute_input": "2024-06-17T17:17:22.856830Z",
     "iopub.status.busy": "2024-06-17T17:17:22.856566Z",
     "iopub.status.idle": "2024-06-17T17:17:23.026775Z",
     "shell.execute_reply": "2024-06-17T17:17:23.025679Z"
    },
    "papermill": {
     "duration": 0.192254,
     "end_time": "2024-06-17T17:17:23.028796",
     "exception": false,
     "start_time": "2024-06-17T17:17:22.836542",
     "status": "completed"
    },
    "tags": []
   },
   "outputs": [
    {
     "name": "stdout",
     "output_type": "stream",
     "text": [
      "length of dataset =  614 \n",
      "\n",
      "(1080, 1920, 3) \n",
      " {'boxes': tensor([[ 570.8836,  441.2571,  713.6045,  637.2000],\n",
      "        [ 955.9608,  496.8000, 1120.2244,  683.4857]]), 'labels': tensor([1, 1]), 'area': tensor([27965.1406, 30665.6719]), 'iscrowd': tensor([0, 0]), 'image_id': 7}\n"
     ]
    }
   ],
   "source": [
    "# check train dataset\n",
    "train_dataset = ImagesDataset(train_dir, 1920, 1080)\n",
    "print('length of dataset = ', len(train_dataset), '\\n')\n",
    "\n",
    "# getting the image and target for a test index.  Feel free to change the index.\n",
    "img, target = train_dataset[7]\n",
    "print(img.shape, '\\n',target)"
   ]
  },
  {
   "cell_type": "code",
   "execution_count": 10,
   "id": "5e78b1c7",
   "metadata": {
    "execution": {
     "iopub.execute_input": "2024-06-17T17:17:23.070027Z",
     "iopub.status.busy": "2024-06-17T17:17:23.069714Z",
     "iopub.status.idle": "2024-06-17T17:17:23.234505Z",
     "shell.execute_reply": "2024-06-17T17:17:23.233640Z"
    },
    "papermill": {
     "duration": 0.187623,
     "end_time": "2024-06-17T17:17:23.236578",
     "exception": false,
     "start_time": "2024-06-17T17:17:23.048955",
     "status": "completed"
    },
    "tags": []
   },
   "outputs": [
    {
     "name": "stdout",
     "output_type": "stream",
     "text": [
      "length of dataset =  80 \n",
      "\n",
      "(1080, 1920, 3) \n",
      " {'boxes': tensor([[1128.2241,  475.8912, 1165.2483,  649.4400]]), 'labels': tensor([1]), 'area': tensor([6425.5000]), 'iscrowd': tensor([0]), 'image_id': 7}\n"
     ]
    }
   ],
   "source": [
    "# # check test dataset\n",
    "test_dataset = KittiDataset(test_dir, 1920, 1080)\n",
    "print('length of dataset = ', len(test_dataset), '\\n')\n",
    "\n",
    "# getting the image and target for a test index.  Feel free to change the index.\n",
    "img, target = test_dataset[7]\n",
    "print(img.shape, '\\n',target)\n"
   ]
  },
  {
   "cell_type": "code",
   "execution_count": 11,
   "id": "06c3adda",
   "metadata": {
    "execution": {
     "iopub.execute_input": "2024-06-17T17:17:23.277806Z",
     "iopub.status.busy": "2024-06-17T17:17:23.277532Z",
     "iopub.status.idle": "2024-06-17T17:17:23.282688Z",
     "shell.execute_reply": "2024-06-17T17:17:23.281786Z"
    },
    "papermill": {
     "duration": 0.027956,
     "end_time": "2024-06-17T17:17:23.284543",
     "exception": false,
     "start_time": "2024-06-17T17:17:23.256587",
     "status": "completed"
    },
    "tags": []
   },
   "outputs": [],
   "source": [
    "\n",
    "def get_object_detection_model(num_classes):\n",
    "\n",
    "    # load a model pre-trained pre-trained on COCO\n",
    "    model = torchvision.models.detection.fasterrcnn_resnet50_fpn(pretrained=True)\n",
    "    \n",
    "    # get number of input features for the classifier\n",
    "    in_features = model.roi_heads.box_predictor.cls_score.in_features\n",
    "    # replace the pre-trained head with a new one\n",
    "    model.roi_heads.box_predictor = FastRCNNPredictor(in_features, num_classes) \n",
    "\n",
    "    return model"
   ]
  },
  {
   "cell_type": "code",
   "execution_count": 12,
   "id": "da87f3e4",
   "metadata": {
    "execution": {
     "iopub.execute_input": "2024-06-17T17:17:23.324795Z",
     "iopub.status.busy": "2024-06-17T17:17:23.324529Z",
     "iopub.status.idle": "2024-06-17T17:17:23.330720Z",
     "shell.execute_reply": "2024-06-17T17:17:23.329873Z"
    },
    "papermill": {
     "duration": 0.028377,
     "end_time": "2024-06-17T17:17:23.332630",
     "exception": false,
     "start_time": "2024-06-17T17:17:23.304253",
     "status": "completed"
    },
    "tags": []
   },
   "outputs": [],
   "source": [
    "# Send train=True fro training transforms and False for val/test transforms\n",
    "def get_transform(train):\n",
    "    \n",
    "    if train:\n",
    "        return A.Compose([\n",
    "            A.HorizontalFlip(0.5),\n",
    "            A.ColorJitter(brightness=0.2, contrast=0.2, saturation=0.2, hue=0.2, p=0.5),\n",
    "            A.Rotate(limit=15, p=0.5),\n",
    "            ToTensorV2(p=1.0)\n",
    "        ], bbox_params=A.BboxParams(format='pascal_voc', label_fields=['labels']))\n",
    "    else:\n",
    "        return A.Compose([\n",
    "                            ToTensorV2(p=1.0)\n",
    "                        ], bbox_params={'format': 'pascal_voc', 'label_fields': ['labels']})"
   ]
  },
  {
   "cell_type": "code",
   "execution_count": 13,
   "id": "e44d37a2",
   "metadata": {
    "execution": {
     "iopub.execute_input": "2024-06-17T17:17:23.372891Z",
     "iopub.status.busy": "2024-06-17T17:17:23.372623Z",
     "iopub.status.idle": "2024-06-17T17:17:23.380695Z",
     "shell.execute_reply": "2024-06-17T17:17:23.379915Z"
    },
    "papermill": {
     "duration": 0.030514,
     "end_time": "2024-06-17T17:17:23.382694",
     "exception": false,
     "start_time": "2024-06-17T17:17:23.352180",
     "status": "completed"
    },
    "tags": []
   },
   "outputs": [
    {
     "data": {
      "text/plain": [
       "307"
      ]
     },
     "execution_count": 13,
     "metadata": {},
     "output_type": "execute_result"
    }
   ],
   "source": [
    "#Adjust the length of test dataset to align with other test datasets\n",
    "# Define the total number of samples in your dataset\n",
    "total_samples = len(train_dataset)\n",
    "\n",
    "# Define the percentage of the dataset you want to load\n",
    "portion_to_load = 0.5  # Example: load 50% of the dataset\n",
    "\n",
    "# Calculate the number of samples to load\n",
    "num_samples_to_load = int(total_samples * portion_to_load)\n",
    "\n",
    "# Generate random indices to select a random subset of the dataset\n",
    "\n",
    "indices = random.sample(range(total_samples), num_samples_to_load)\n",
    "\n",
    "# Create a Subset dataset containing only the selected indices\n",
    "subset = Subset(train_dataset, indices)\n",
    "len(subset)\n"
   ]
  },
  {
   "cell_type": "code",
   "execution_count": 14,
   "id": "c22bc3de",
   "metadata": {
    "execution": {
     "iopub.execute_input": "2024-06-17T17:17:23.423019Z",
     "iopub.status.busy": "2024-06-17T17:17:23.422722Z",
     "iopub.status.idle": "2024-06-17T17:17:23.432125Z",
     "shell.execute_reply": "2024-06-17T17:17:23.431277Z"
    },
    "papermill": {
     "duration": 0.031615,
     "end_time": "2024-06-17T17:17:23.433947",
     "exception": false,
     "start_time": "2024-06-17T17:17:23.402332",
     "status": "completed"
    },
    "tags": []
   },
   "outputs": [],
   "source": [
    "# use our dataset and defined transformations\n",
    "train_dataset = ImagesDataset(train_dir, 1920, 1080, transforms= get_transform(train=True))\n",
    "subset = Subset(train_dataset, indices)\n",
    "train_dataset = subset\n",
    "test_dataset = KittiDataset(test_dir, 1920, 1080, transforms= get_transform(train=False))\n",
    "\n",
    "# define training and validation data loaders\n",
    "data_loader_train = torch.utils.data.DataLoader(\n",
    "    train_dataset, batch_size=4, shuffle=True, num_workers=4,\n",
    "    collate_fn=utils.collate_fn)\n",
    "\n",
    "data_loader_test = torch.utils.data.DataLoader(\n",
    "    test_dataset, batch_size=4, shuffle=False, num_workers=4,\n",
    "    collate_fn=utils.collate_fn)"
   ]
  },
  {
   "cell_type": "code",
   "execution_count": 15,
   "id": "7e7f0551",
   "metadata": {
    "execution": {
     "iopub.execute_input": "2024-06-17T17:17:23.474873Z",
     "iopub.status.busy": "2024-06-17T17:17:23.474606Z",
     "iopub.status.idle": "2024-06-17T17:17:25.914266Z",
     "shell.execute_reply": "2024-06-17T17:17:25.913332Z"
    },
    "papermill": {
     "duration": 2.4627,
     "end_time": "2024-06-17T17:17:25.916455",
     "exception": false,
     "start_time": "2024-06-17T17:17:23.453755",
     "status": "completed"
    },
    "tags": []
   },
   "outputs": [
    {
     "name": "stderr",
     "output_type": "stream",
     "text": [
      "Downloading: \"https://download.pytorch.org/models/fasterrcnn_resnet50_fpn_coco-258fb6c6.pth\" to /root/.cache/torch/hub/checkpoints/fasterrcnn_resnet50_fpn_coco-258fb6c6.pth\n",
      "100%|██████████| 160M/160M [00:01<00:00, 133MB/s]\n"
     ]
    }
   ],
   "source": [
    "# to train on gpu if selected.\n",
    "device = torch.device('cuda') if torch.cuda.is_available() else torch.device('cpu')\n",
    "\n",
    "\n",
    "num_classes = 2\n",
    "\n",
    "# get the model using our helper function\n",
    "model = get_object_detection_model(num_classes)\n",
    "\n",
    "# move model to the right device\n",
    "model.to(device)\n",
    "\n",
    "# construct an optimizer\n",
    "params = [p for p in model.parameters() if p.requires_grad]\n",
    "optimizer = torch.optim.SGD(params, lr=0.005,\n",
    "                            momentum=0.9, weight_decay=0.0005)\n",
    "\n",
    "# and a learning rate scheduler which decreases the learning rate by\n",
    "# 10x every 3 epochs\n",
    "lr_scheduler = torch.optim.lr_scheduler.StepLR(optimizer,\n",
    "                                               step_size=3,\n",
    "                                               gamma=0.1)"
   ]
  },
  {
   "cell_type": "code",
   "execution_count": 16,
   "id": "59f0e3d5",
   "metadata": {
    "execution": {
     "iopub.execute_input": "2024-06-17T17:17:25.961524Z",
     "iopub.status.busy": "2024-06-17T17:17:25.961228Z",
     "iopub.status.idle": "2024-06-17T17:27:30.743524Z",
     "shell.execute_reply": "2024-06-17T17:27:30.742175Z"
    },
    "papermill": {
     "duration": 604.807711,
     "end_time": "2024-06-17T17:27:30.745993",
     "exception": false,
     "start_time": "2024-06-17T17:17:25.938282",
     "status": "completed"
    },
    "tags": []
   },
   "outputs": [
    {
     "name": "stderr",
     "output_type": "stream",
     "text": [
      "libpng warning: iCCP: known incorrect sRGB profile\n",
      "libpng warning: iCCP: known incorrect sRGB profile\n",
      "libpng warning: iCCP: known incorrect sRGB profile\n",
      "libpng warning: iCCP: known incorrect sRGB profile\n",
      "libpng warning: iCCP: known incorrect sRGB profile\n",
      "libpng warning: iCCP: known incorrect sRGB profile\n"
     ]
    },
    {
     "name": "stdout",
     "output_type": "stream",
     "text": [
      "Epoch: [0]  [ 0/77]  eta: 0:04:49  lr: 0.000071  loss: 1.3350 (1.3350)  loss_classifier: 0.9803 (0.9803)  loss_box_reg: 0.3134 (0.3134)  loss_objectness: 0.0375 (0.0375)  loss_rpn_box_reg: 0.0037 (0.0037)  time: 3.7534  data: 0.9091  max mem: 4799\n"
     ]
    },
    {
     "name": "stderr",
     "output_type": "stream",
     "text": [
      "libpng warning: iCCP: known incorrect sRGB profile\n",
      "libpng warning: iCCP: known incorrect sRGB profile\n",
      "libpng warning: iCCP: known incorrect sRGB profile\n"
     ]
    },
    {
     "name": "stdout",
     "output_type": "stream",
     "text": [
      "Epoch: [0]  [10/77]  eta: 0:01:01  lr: 0.000728  loss: 0.8653 (0.9255)  loss_classifier: 0.6454 (0.6298)  loss_box_reg: 0.2915 (0.2665)  loss_objectness: 0.0217 (0.0253)  loss_rpn_box_reg: 0.0037 (0.0039)  time: 0.9203  data: 0.1103  max mem: 4957\n"
     ]
    },
    {
     "name": "stderr",
     "output_type": "stream",
     "text": [
      "libpng warning: iCCP: known incorrect sRGB profile\n",
      "libpng warning: iCCP: known incorrect sRGB profile\n",
      "libpng warning: iCCP: known incorrect sRGB profile\n",
      "libpng warning: iCCP: known incorrect sRGB profile\n"
     ]
    },
    {
     "name": "stdout",
     "output_type": "stream",
     "text": [
      "Epoch: [0]  [20/77]  eta: 0:00:44  lr: 0.001385  loss: 0.5872 (0.7133)  loss_classifier: 0.2692 (0.4401)  loss_box_reg: 0.2330 (0.2487)  loss_objectness: 0.0197 (0.0208)  loss_rpn_box_reg: 0.0029 (0.0037)  time: 0.6406  data: 0.0319  max mem: 4958\n"
     ]
    },
    {
     "name": "stderr",
     "output_type": "stream",
     "text": [
      "libpng warning: iCCP: known incorrect sRGB profile\n",
      "libpng warning: iCCP: known incorrect sRGB profile\n"
     ]
    },
    {
     "name": "stdout",
     "output_type": "stream",
     "text": [
      "Epoch: [0]  [30/77]  eta: 0:00:34  lr: 0.002042  loss: 0.4254 (0.6221)  loss_classifier: 0.1719 (0.3532)  loss_box_reg: 0.2330 (0.2475)  loss_objectness: 0.0107 (0.0175)  loss_rpn_box_reg: 0.0034 (0.0038)  time: 0.6415  data: 0.0316  max mem: 4959\n"
     ]
    },
    {
     "name": "stderr",
     "output_type": "stream",
     "text": [
      "libpng warning: iCCP: known incorrect sRGB profile\n",
      "libpng warning: iCCP: known incorrect sRGB profile\n",
      "libpng warning: iCCP: known incorrect sRGB profile\n"
     ]
    },
    {
     "name": "stdout",
     "output_type": "stream",
     "text": [
      "Epoch: [0]  [40/77]  eta: 0:00:26  lr: 0.002700  loss: 0.3522 (0.5556)  loss_classifier: 0.1140 (0.2905)  loss_box_reg: 0.2309 (0.2459)  loss_objectness: 0.0083 (0.0152)  loss_rpn_box_reg: 0.0039 (0.0040)  time: 0.6412  data: 0.0311  max mem: 4959\n"
     ]
    },
    {
     "name": "stderr",
     "output_type": "stream",
     "text": [
      "libpng warning: iCCP: known incorrect sRGB profile\n",
      "libpng warning: iCCP: known incorrect sRGB profile\n",
      "libpng warning: iCCP: known incorrect sRGB profile\n",
      "libpng warning: iCCP: known incorrect sRGB profile\n",
      "libpng warning: iCCP: known incorrect sRGB profile\n"
     ]
    },
    {
     "name": "stdout",
     "output_type": "stream",
     "text": [
      "Epoch: [0]  [50/77]  eta: 0:00:18  lr: 0.003357  loss: 0.3091 (0.4981)  loss_classifier: 0.0814 (0.2480)  loss_box_reg: 0.2080 (0.2332)  loss_objectness: 0.0043 (0.0129)  loss_rpn_box_reg: 0.0043 (0.0040)  time: 0.6460  data: 0.0325  max mem: 4959\n"
     ]
    },
    {
     "name": "stderr",
     "output_type": "stream",
     "text": [
      "libpng warning: iCCP: known incorrect sRGB profile\n",
      "libpng warning: iCCP: known incorrect sRGB profile\n",
      "libpng warning: iCCP: known incorrect sRGB profile\n",
      "libpng warning: iCCP: known incorrect sRGB profile\n",
      "libpng warning: iCCP: known incorrect sRGB profile\n",
      "libpng warning: iCCP: known incorrect sRGB profile\n"
     ]
    },
    {
     "name": "stdout",
     "output_type": "stream",
     "text": [
      "Epoch: [0]  [60/77]  eta: 0:00:11  lr: 0.004014  loss: 0.2276 (0.4511)  loss_classifier: 0.0724 (0.2188)  loss_box_reg: 0.1444 (0.2163)  loss_objectness: 0.0042 (0.0120)  loss_rpn_box_reg: 0.0040 (0.0040)  time: 0.6444  data: 0.0313  max mem: 4959\n",
      "Epoch: [0]  [70/77]  eta: 0:00:04  lr: 0.004671  loss: 0.2048 (0.4213)  loss_classifier: 0.0658 (0.2002)  loss_box_reg: 0.1363 (0.2054)  loss_objectness: 0.0035 (0.0115)  loss_rpn_box_reg: 0.0037 (0.0042)  time: 0.6430  data: 0.0313  max mem: 4959\n",
      "Epoch: [0]  [76/77]  eta: 0:00:00  lr: 0.005000  loss: 0.1879 (0.4025)  loss_classifier: 0.0647 (0.1901)  loss_box_reg: 0.1212 (0.1973)  loss_objectness: 0.0024 (0.0108)  loss_rpn_box_reg: 0.0039 (0.0042)  time: 0.6343  data: 0.0306  max mem: 4959\n",
      "Epoch: [0] Total time: 0:00:52 (0.6810 s / it)\n",
      "creating index...\n",
      "index created!\n",
      "Test:  [ 0/20]  eta: 0:00:17  model_time: 0.3063 (0.3063)  evaluator_time: 0.0084 (0.0084)  time: 0.8776  data: 0.5129  max mem: 4959\n",
      "Test:  [19/20]  eta: 0:00:00  model_time: 0.2536 (0.2566)  evaluator_time: 0.0084 (0.0089)  time: 0.3466  data: 0.0519  max mem: 4959\n",
      "Test: Total time: 0:00:06 (0.3482 s / it)\n",
      "Averaged stats: model_time: 0.2536 (0.2566)  evaluator_time: 0.0084 (0.0089)\n",
      "Accumulating evaluation results...\n",
      "DONE (t=0.03s).\n",
      "IoU metric: bbox\n",
      " Average Precision  (AP) @[ IoU=0.50:0.95 | area=   all | maxDets=100 ] = 0.219\n",
      " Average Precision  (AP) @[ IoU=0.50      | area=   all | maxDets=100 ] = 0.550\n",
      " Average Precision  (AP) @[ IoU=0.75      | area=   all | maxDets=100 ] = 0.132\n",
      " Average Precision  (AP) @[ IoU=0.50:0.95 | area= small | maxDets=100 ] = 0.000\n",
      " Average Precision  (AP) @[ IoU=0.50:0.95 | area=medium | maxDets=100 ] = 0.103\n",
      " Average Precision  (AP) @[ IoU=0.50:0.95 | area= large | maxDets=100 ] = 0.303\n",
      " Average Recall     (AR) @[ IoU=0.50:0.95 | area=   all | maxDets=  1 ] = 0.145\n",
      " Average Recall     (AR) @[ IoU=0.50:0.95 | area=   all | maxDets= 10 ] = 0.301\n",
      " Average Recall     (AR) @[ IoU=0.50:0.95 | area=   all | maxDets=100 ] = 0.314\n",
      " Average Recall     (AR) @[ IoU=0.50:0.95 | area= small | maxDets=100 ] = 0.000\n",
      " Average Recall     (AR) @[ IoU=0.50:0.95 | area=medium | maxDets=100 ] = 0.186\n",
      " Average Recall     (AR) @[ IoU=0.50:0.95 | area= large | maxDets=100 ] = 0.400\n"
     ]
    },
    {
     "name": "stderr",
     "output_type": "stream",
     "text": [
      "libpng warning: iCCP: known incorrect sRGB profile\n",
      "libpng warning: iCCP: known incorrect sRGB profile\n",
      "libpng warning: iCCP: known incorrect sRGB profile\n",
      "libpng warning: iCCP: known incorrect sRGB profile\n"
     ]
    },
    {
     "name": "stdout",
     "output_type": "stream",
     "text": [
      "Epoch: [1]  [ 0/77]  eta: 0:02:23  lr: 0.005000  loss: 0.2406 (0.2406)  loss_classifier: 0.0909 (0.0909)  loss_box_reg: 0.1419 (0.1419)  loss_objectness: 0.0022 (0.0022)  loss_rpn_box_reg: 0.0057 (0.0057)  time: 1.8587  data: 1.1702  max mem: 4959\n"
     ]
    },
    {
     "name": "stderr",
     "output_type": "stream",
     "text": [
      "libpng warning: iCCP: known incorrect sRGB profile\n",
      "libpng warning: iCCP: known incorrect sRGB profile\n"
     ]
    },
    {
     "name": "stdout",
     "output_type": "stream",
     "text": [
      "Epoch: [1]  [10/77]  eta: 0:00:50  lr: 0.005000  loss: 0.1845 (0.1936)  loss_classifier: 0.0593 (0.0718)  loss_box_reg: 0.1211 (0.1134)  loss_objectness: 0.0026 (0.0035)  loss_rpn_box_reg: 0.0053 (0.0048)  time: 0.7519  data: 0.1328  max mem: 4959\n"
     ]
    },
    {
     "name": "stderr",
     "output_type": "stream",
     "text": [
      "libpng warning: iCCP: known incorrect sRGB profile\n",
      "libpng warning: iCCP: known incorrect sRGB profile\n",
      "libpng warning: iCCP: known incorrect sRGB profile\n",
      "libpng warning: iCCP: known incorrect sRGB profile\n"
     ]
    },
    {
     "name": "stdout",
     "output_type": "stream",
     "text": [
      "Epoch: [1]  [20/77]  eta: 0:00:39  lr: 0.005000  loss: 0.1728 (0.1903)  loss_classifier: 0.0581 (0.0691)  loss_box_reg: 0.1052 (0.1122)  loss_objectness: 0.0029 (0.0048)  loss_rpn_box_reg: 0.0030 (0.0043)  time: 0.6419  data: 0.0298  max mem: 4959\n"
     ]
    },
    {
     "name": "stderr",
     "output_type": "stream",
     "text": [
      "libpng warning: iCCP: known incorrect sRGB profile\n",
      "libpng warning: iCCP: known incorrect sRGB profile\n",
      "libpng warning: iCCP: known incorrect sRGB profile\n",
      "libpng warning: iCCP: known incorrect sRGB profile\n",
      "libpng warning: iCCP: known incorrect sRGB profile\n",
      "libpng warning: iCCP: known incorrect sRGB profile\n",
      "libpng warning: iCCP: known incorrect sRGB profile\n",
      "libpng warning: iCCP: known incorrect sRGB profile\n"
     ]
    },
    {
     "name": "stdout",
     "output_type": "stream",
     "text": [
      "Epoch: [1]  [30/77]  eta: 0:00:31  lr: 0.005000  loss: 0.1656 (0.1899)  loss_classifier: 0.0541 (0.0700)  loss_box_reg: 0.0994 (0.1097)  loss_objectness: 0.0033 (0.0061)  loss_rpn_box_reg: 0.0028 (0.0041)  time: 0.6415  data: 0.0303  max mem: 4959\n"
     ]
    },
    {
     "name": "stderr",
     "output_type": "stream",
     "text": [
      "libpng warning: iCCP: known incorrect sRGB profile\n"
     ]
    },
    {
     "name": "stdout",
     "output_type": "stream",
     "text": [
      "Epoch: [1]  [40/77]  eta: 0:00:24  lr: 0.005000  loss: 0.1686 (0.1863)  loss_classifier: 0.0601 (0.0682)  loss_box_reg: 0.0993 (0.1087)  loss_objectness: 0.0030 (0.0054)  loss_rpn_box_reg: 0.0028 (0.0040)  time: 0.6394  data: 0.0298  max mem: 4959\n"
     ]
    },
    {
     "name": "stderr",
     "output_type": "stream",
     "text": [
      "libpng warning: iCCP: known incorrect sRGB profile\n",
      "libpng warning: iCCP: known incorrect sRGB profile\n",
      "libpng warning: iCCP: known incorrect sRGB profile\n",
      "libpng warning: iCCP: known incorrect sRGB profile\n",
      "libpng warning: iCCP: known incorrect sRGB profile\n"
     ]
    },
    {
     "name": "stdout",
     "output_type": "stream",
     "text": [
      "Epoch: [1]  [50/77]  eta: 0:00:17  lr: 0.005000  loss: 0.1549 (0.1820)  loss_classifier: 0.0598 (0.0662)  loss_box_reg: 0.0971 (0.1070)  loss_objectness: 0.0024 (0.0048)  loss_rpn_box_reg: 0.0033 (0.0040)  time: 0.6413  data: 0.0298  max mem: 4959\n"
     ]
    },
    {
     "name": "stderr",
     "output_type": "stream",
     "text": [
      "libpng warning: iCCP: known incorrect sRGB profile\n",
      "libpng warning: iCCP: known incorrect sRGB profile\n",
      "libpng warning: iCCP: known incorrect sRGB profile\n"
     ]
    },
    {
     "name": "stdout",
     "output_type": "stream",
     "text": [
      "Epoch: [1]  [60/77]  eta: 0:00:11  lr: 0.005000  loss: 0.1457 (0.1783)  loss_classifier: 0.0551 (0.0651)  loss_box_reg: 0.0851 (0.1049)  loss_objectness: 0.0018 (0.0045)  loss_rpn_box_reg: 0.0024 (0.0038)  time: 0.6455  data: 0.0313  max mem: 4959\n"
     ]
    },
    {
     "name": "stderr",
     "output_type": "stream",
     "text": [
      "libpng warning: iCCP: known incorrect sRGB profile\n",
      "libpng warning: iCCP: known incorrect sRGB profile\n"
     ]
    },
    {
     "name": "stdout",
     "output_type": "stream",
     "text": [
      "Epoch: [1]  [70/77]  eta: 0:00:04  lr: 0.005000  loss: 0.1568 (0.1774)  loss_classifier: 0.0551 (0.0649)  loss_box_reg: 0.0967 (0.1044)  loss_objectness: 0.0018 (0.0043)  loss_rpn_box_reg: 0.0028 (0.0038)  time: 0.6441  data: 0.0317  max mem: 4959\n",
      "Epoch: [1]  [76/77]  eta: 0:00:00  lr: 0.005000  loss: 0.1568 (0.1750)  loss_classifier: 0.0580 (0.0640)  loss_box_reg: 0.1035 (0.1032)  loss_objectness: 0.0014 (0.0040)  loss_rpn_box_reg: 0.0032 (0.0038)  time: 0.6337  data: 0.0298  max mem: 4959\n",
      "Epoch: [1] Total time: 0:00:50 (0.6558 s / it)\n",
      "creating index...\n",
      "index created!\n",
      "Test:  [ 0/20]  eta: 0:00:18  model_time: 0.2676 (0.2676)  evaluator_time: 0.0038 (0.0038)  time: 0.9203  data: 0.6116  max mem: 4959\n",
      "Test:  [19/20]  eta: 0:00:00  model_time: 0.2547 (0.2558)  evaluator_time: 0.0044 (0.0046)  time: 0.3442  data: 0.0555  max mem: 4959\n",
      "Test: Total time: 0:00:06 (0.3458 s / it)\n",
      "Averaged stats: model_time: 0.2547 (0.2558)  evaluator_time: 0.0044 (0.0046)\n",
      "Accumulating evaluation results...\n",
      "DONE (t=0.02s).\n",
      "IoU metric: bbox\n",
      " Average Precision  (AP) @[ IoU=0.50:0.95 | area=   all | maxDets=100 ] = 0.172\n",
      " Average Precision  (AP) @[ IoU=0.50      | area=   all | maxDets=100 ] = 0.459\n",
      " Average Precision  (AP) @[ IoU=0.75      | area=   all | maxDets=100 ] = 0.102\n",
      " Average Precision  (AP) @[ IoU=0.50:0.95 | area= small | maxDets=100 ] = 0.000\n",
      " Average Precision  (AP) @[ IoU=0.50:0.95 | area=medium | maxDets=100 ] = 0.053\n",
      " Average Precision  (AP) @[ IoU=0.50:0.95 | area= large | maxDets=100 ] = 0.249\n",
      " Average Recall     (AR) @[ IoU=0.50:0.95 | area=   all | maxDets=  1 ] = 0.143\n",
      " Average Recall     (AR) @[ IoU=0.50:0.95 | area=   all | maxDets= 10 ] = 0.246\n",
      " Average Recall     (AR) @[ IoU=0.50:0.95 | area=   all | maxDets=100 ] = 0.249\n",
      " Average Recall     (AR) @[ IoU=0.50:0.95 | area= small | maxDets=100 ] = 0.000\n",
      " Average Recall     (AR) @[ IoU=0.50:0.95 | area=medium | maxDets=100 ] = 0.095\n",
      " Average Recall     (AR) @[ IoU=0.50:0.95 | area= large | maxDets=100 ] = 0.352\n"
     ]
    },
    {
     "name": "stderr",
     "output_type": "stream",
     "text": [
      "libpng warning: iCCP: known incorrect sRGB profile\n",
      "libpng warning: iCCP: known incorrect sRGB profile\n"
     ]
    },
    {
     "name": "stdout",
     "output_type": "stream",
     "text": [
      "Epoch: [2]  [ 0/77]  eta: 0:02:48  lr: 0.005000  loss: 0.1919 (0.1919)  loss_classifier: 0.0660 (0.0660)  loss_box_reg: 0.1147 (0.1147)  loss_objectness: 0.0085 (0.0085)  loss_rpn_box_reg: 0.0028 (0.0028)  time: 2.1874  data: 1.5417  max mem: 4959\n"
     ]
    },
    {
     "name": "stderr",
     "output_type": "stream",
     "text": [
      "libpng warning: iCCP: known incorrect sRGB profile\n",
      "libpng warning: iCCP: known incorrect sRGB profile\n",
      "libpng warning: iCCP: known incorrect sRGB profile\n"
     ]
    },
    {
     "name": "stdout",
     "output_type": "stream",
     "text": [
      "Epoch: [2]  [10/77]  eta: 0:00:53  lr: 0.005000  loss: 0.1267 (0.1305)  loss_classifier: 0.0389 (0.0464)  loss_box_reg: 0.0824 (0.0799)  loss_objectness: 0.0009 (0.0017)  loss_rpn_box_reg: 0.0025 (0.0026)  time: 0.7912  data: 0.1692  max mem: 4959\n"
     ]
    },
    {
     "name": "stderr",
     "output_type": "stream",
     "text": [
      "libpng warning: iCCP: known incorrect sRGB profile\n",
      "libpng warning: iCCP: known incorrect sRGB profile\n",
      "libpng warning: iCCP: known incorrect sRGB profile\n",
      "libpng warning: iCCP: known incorrect sRGB profile\n",
      "libpng warning: iCCP: known incorrect sRGB profile\n"
     ]
    },
    {
     "name": "stdout",
     "output_type": "stream",
     "text": [
      "Epoch: [2]  [20/77]  eta: 0:00:41  lr: 0.005000  loss: 0.1168 (0.1401)  loss_classifier: 0.0476 (0.0541)  loss_box_reg: 0.0719 (0.0817)  loss_objectness: 0.0006 (0.0019)  loss_rpn_box_reg: 0.0022 (0.0024)  time: 0.6462  data: 0.0312  max mem: 4959\n"
     ]
    },
    {
     "name": "stderr",
     "output_type": "stream",
     "text": [
      "libpng warning: iCCP: known incorrect sRGB profile\n",
      "libpng warning: iCCP: known incorrect sRGB profile\n",
      "libpng warning: iCCP: known incorrect sRGB profile\n"
     ]
    },
    {
     "name": "stdout",
     "output_type": "stream",
     "text": [
      "Epoch: [2]  [30/77]  eta: 0:00:32  lr: 0.005000  loss: 0.1560 (0.1542)  loss_classifier: 0.0595 (0.0589)  loss_box_reg: 0.0786 (0.0893)  loss_objectness: 0.0017 (0.0030)  loss_rpn_box_reg: 0.0026 (0.0029)  time: 0.6433  data: 0.0310  max mem: 4959\n"
     ]
    },
    {
     "name": "stderr",
     "output_type": "stream",
     "text": [
      "libpng warning: iCCP: known incorrect sRGB profile\n",
      "libpng warning: iCCP: known incorrect sRGB profile\n",
      "libpng warning: iCCP: known incorrect sRGB profile\n"
     ]
    },
    {
     "name": "stdout",
     "output_type": "stream",
     "text": [
      "Epoch: [2]  [40/77]  eta: 0:00:25  lr: 0.005000  loss: 0.1721 (0.1543)  loss_classifier: 0.0605 (0.0595)  loss_box_reg: 0.0898 (0.0889)  loss_objectness: 0.0024 (0.0029)  loss_rpn_box_reg: 0.0028 (0.0030)  time: 0.6431  data: 0.0305  max mem: 4959\n"
     ]
    },
    {
     "name": "stderr",
     "output_type": "stream",
     "text": [
      "libpng warning: iCCP: known incorrect sRGB profile\n",
      "libpng warning: iCCP: known incorrect sRGB profile\n",
      "libpng warning: iCCP: known incorrect sRGB profile\n",
      "libpng warning: iCCP: known incorrect sRGB profile\n"
     ]
    },
    {
     "name": "stdout",
     "output_type": "stream",
     "text": [
      "Epoch: [2]  [50/77]  eta: 0:00:18  lr: 0.005000  loss: 0.1382 (0.1488)  loss_classifier: 0.0540 (0.0572)  loss_box_reg: 0.0803 (0.0859)  loss_objectness: 0.0012 (0.0029)  loss_rpn_box_reg: 0.0024 (0.0028)  time: 0.6420  data: 0.0295  max mem: 4959\n"
     ]
    },
    {
     "name": "stderr",
     "output_type": "stream",
     "text": [
      "libpng warning: iCCP: known incorrect sRGB profile\n",
      "libpng warning: iCCP: known incorrect sRGB profile\n",
      "libpng warning: iCCP: known incorrect sRGB profile\n",
      "libpng warning: iCCP: known incorrect sRGB profile\n",
      "libpng warning: iCCP: known incorrect sRGB profile\n",
      "libpng warning: iCCP: known incorrect sRGB profile\n"
     ]
    },
    {
     "name": "stdout",
     "output_type": "stream",
     "text": [
      "Epoch: [2]  [60/77]  eta: 0:00:11  lr: 0.005000  loss: 0.1357 (0.1470)  loss_classifier: 0.0495 (0.0563)  loss_box_reg: 0.0773 (0.0851)  loss_objectness: 0.0016 (0.0029)  loss_rpn_box_reg: 0.0024 (0.0028)  time: 0.6443  data: 0.0303  max mem: 4959\n"
     ]
    },
    {
     "name": "stderr",
     "output_type": "stream",
     "text": [
      "libpng warning: iCCP: known incorrect sRGB profile\n",
      "libpng warning: iCCP: known incorrect sRGB profile\n",
      "libpng warning: iCCP: known incorrect sRGB profile\n"
     ]
    },
    {
     "name": "stdout",
     "output_type": "stream",
     "text": [
      "Epoch: [2]  [70/77]  eta: 0:00:04  lr: 0.005000  loss: 0.1355 (0.1451)  loss_classifier: 0.0495 (0.0554)  loss_box_reg: 0.0801 (0.0842)  loss_objectness: 0.0015 (0.0026)  loss_rpn_box_reg: 0.0025 (0.0028)  time: 0.6410  data: 0.0296  max mem: 4959\n",
      "Epoch: [2]  [76/77]  eta: 0:00:00  lr: 0.005000  loss: 0.1355 (0.1450)  loss_classifier: 0.0446 (0.0547)  loss_box_reg: 0.0801 (0.0847)  loss_objectness: 0.0011 (0.0027)  loss_rpn_box_reg: 0.0028 (0.0029)  time: 0.6289  data: 0.0274  max mem: 4959\n",
      "Epoch: [2] Total time: 0:00:50 (0.6613 s / it)\n",
      "creating index...\n",
      "index created!\n",
      "Test:  [ 0/20]  eta: 0:00:17  model_time: 0.2776 (0.2776)  evaluator_time: 0.0032 (0.0032)  time: 0.8527  data: 0.5281  max mem: 4959\n",
      "Test:  [19/20]  eta: 0:00:00  model_time: 0.2542 (0.2555)  evaluator_time: 0.0032 (0.0036)  time: 0.3398  data: 0.0518  max mem: 4959\n",
      "Test: Total time: 0:00:06 (0.3415 s / it)\n",
      "Averaged stats: model_time: 0.2542 (0.2555)  evaluator_time: 0.0032 (0.0036)\n",
      "Accumulating evaluation results...\n",
      "DONE (t=0.02s).\n",
      "IoU metric: bbox\n",
      " Average Precision  (AP) @[ IoU=0.50:0.95 | area=   all | maxDets=100 ] = 0.147\n",
      " Average Precision  (AP) @[ IoU=0.50      | area=   all | maxDets=100 ] = 0.354\n",
      " Average Precision  (AP) @[ IoU=0.75      | area=   all | maxDets=100 ] = 0.089\n",
      " Average Precision  (AP) @[ IoU=0.50:0.95 | area= small | maxDets=100 ] = 0.000\n",
      " Average Precision  (AP) @[ IoU=0.50:0.95 | area=medium | maxDets=100 ] = 0.031\n",
      " Average Precision  (AP) @[ IoU=0.50:0.95 | area= large | maxDets=100 ] = 0.230\n",
      " Average Recall     (AR) @[ IoU=0.50:0.95 | area=   all | maxDets=  1 ] = 0.137\n",
      " Average Recall     (AR) @[ IoU=0.50:0.95 | area=   all | maxDets= 10 ] = 0.198\n",
      " Average Recall     (AR) @[ IoU=0.50:0.95 | area=   all | maxDets=100 ] = 0.198\n",
      " Average Recall     (AR) @[ IoU=0.50:0.95 | area= small | maxDets=100 ] = 0.000\n",
      " Average Recall     (AR) @[ IoU=0.50:0.95 | area=medium | maxDets=100 ] = 0.029\n",
      " Average Recall     (AR) @[ IoU=0.50:0.95 | area= large | maxDets=100 ] = 0.311\n"
     ]
    },
    {
     "name": "stderr",
     "output_type": "stream",
     "text": [
      "libpng warning: iCCP: known incorrect sRGB profile\n",
      "libpng warning: iCCP: known incorrect sRGB profile\n",
      "libpng warning: iCCP: known incorrect sRGB profile\n",
      "libpng warning: iCCP: known incorrect sRGB profile\n"
     ]
    },
    {
     "name": "stdout",
     "output_type": "stream",
     "text": [
      "Epoch: [3]  [ 0/77]  eta: 0:02:25  lr: 0.000500  loss: 0.1052 (0.1052)  loss_classifier: 0.0305 (0.0305)  loss_box_reg: 0.0678 (0.0678)  loss_objectness: 0.0021 (0.0021)  loss_rpn_box_reg: 0.0047 (0.0047)  time: 1.8909  data: 1.2146  max mem: 4959\n"
     ]
    },
    {
     "name": "stderr",
     "output_type": "stream",
     "text": [
      "libpng warning: iCCP: known incorrect sRGB profile\n",
      "libpng warning: iCCP: known incorrect sRGB profile\n",
      "libpng warning: iCCP: known incorrect sRGB profile\n",
      "libpng warning: iCCP: known incorrect sRGB profile\n",
      "libpng warning: iCCP: known incorrect sRGB profile\n"
     ]
    },
    {
     "name": "stdout",
     "output_type": "stream",
     "text": [
      "Epoch: [3]  [10/77]  eta: 0:00:51  lr: 0.000500  loss: 0.1213 (0.1451)  loss_classifier: 0.0574 (0.0534)  loss_box_reg: 0.0714 (0.0867)  loss_objectness: 0.0005 (0.0013)  loss_rpn_box_reg: 0.0041 (0.0038)  time: 0.7697  data: 0.1386  max mem: 4959\n"
     ]
    },
    {
     "name": "stderr",
     "output_type": "stream",
     "text": [
      "libpng warning: iCCP: known incorrect sRGB profile\n",
      "libpng warning: iCCP: known incorrect sRGB profile\n",
      "libpng warning: iCCP: known incorrect sRGB profile\n",
      "libpng warning: iCCP: known incorrect sRGB profile\n",
      "libpng warning: iCCP: known incorrect sRGB profile\n",
      "libpng warning: iCCP: known incorrect sRGB profile\n"
     ]
    },
    {
     "name": "stdout",
     "output_type": "stream",
     "text": [
      "Epoch: [3]  [20/77]  eta: 0:00:40  lr: 0.000500  loss: 0.1193 (0.1369)  loss_classifier: 0.0488 (0.0523)  loss_box_reg: 0.0711 (0.0802)  loss_objectness: 0.0005 (0.0012)  loss_rpn_box_reg: 0.0029 (0.0033)  time: 0.6508  data: 0.0310  max mem: 4959\n"
     ]
    },
    {
     "name": "stderr",
     "output_type": "stream",
     "text": [
      "libpng warning: iCCP: known incorrect sRGB profile\n",
      "libpng warning: iCCP: known incorrect sRGB profile\n"
     ]
    },
    {
     "name": "stdout",
     "output_type": "stream",
     "text": [
      "Epoch: [3]  [30/77]  eta: 0:00:32  lr: 0.000500  loss: 0.1138 (0.1288)  loss_classifier: 0.0382 (0.0496)  loss_box_reg: 0.0602 (0.0746)  loss_objectness: 0.0013 (0.0016)  loss_rpn_box_reg: 0.0024 (0.0029)  time: 0.6435  data: 0.0309  max mem: 4959\n"
     ]
    },
    {
     "name": "stderr",
     "output_type": "stream",
     "text": [
      "libpng warning: iCCP: known incorrect sRGB profile\n"
     ]
    },
    {
     "name": "stdout",
     "output_type": "stream",
     "text": [
      "Epoch: [3]  [40/77]  eta: 0:00:25  lr: 0.000500  loss: 0.1185 (0.1274)  loss_classifier: 0.0427 (0.0487)  loss_box_reg: 0.0667 (0.0744)  loss_objectness: 0.0006 (0.0014)  loss_rpn_box_reg: 0.0025 (0.0029)  time: 0.6444  data: 0.0313  max mem: 4959\n"
     ]
    },
    {
     "name": "stderr",
     "output_type": "stream",
     "text": [
      "libpng warning: iCCP: known incorrect sRGB profile\n",
      "libpng warning: iCCP: known incorrect sRGB profile\n",
      "libpng warning: iCCP: known incorrect sRGB profile\n",
      "libpng warning: iCCP: known incorrect sRGB profile\n",
      "libpng warning: iCCP: known incorrect sRGB profile\n"
     ]
    },
    {
     "name": "stdout",
     "output_type": "stream",
     "text": [
      "Epoch: [3]  [50/77]  eta: 0:00:18  lr: 0.000500  loss: 0.1317 (0.1282)  loss_classifier: 0.0464 (0.0488)  loss_box_reg: 0.0773 (0.0750)  loss_objectness: 0.0006 (0.0015)  loss_rpn_box_reg: 0.0025 (0.0029)  time: 0.6453  data: 0.0314  max mem: 4959\n"
     ]
    },
    {
     "name": "stderr",
     "output_type": "stream",
     "text": [
      "libpng warning: iCCP: known incorrect sRGB profile\n",
      "libpng warning: iCCP: known incorrect sRGB profile\n",
      "libpng warning: iCCP: known incorrect sRGB profile\n",
      "libpng warning: iCCP: known incorrect sRGB profile\n"
     ]
    },
    {
     "name": "stdout",
     "output_type": "stream",
     "text": [
      "Epoch: [3]  [60/77]  eta: 0:00:11  lr: 0.000500  loss: 0.1194 (0.1271)  loss_classifier: 0.0425 (0.0483)  loss_box_reg: 0.0702 (0.0745)  loss_objectness: 0.0007 (0.0015)  loss_rpn_box_reg: 0.0020 (0.0028)  time: 0.6480  data: 0.0320  max mem: 4959\n"
     ]
    },
    {
     "name": "stderr",
     "output_type": "stream",
     "text": [
      "libpng warning: iCCP: known incorrect sRGB profile\n",
      "libpng warning: iCCP: known incorrect sRGB profile\n"
     ]
    },
    {
     "name": "stdout",
     "output_type": "stream",
     "text": [
      "Epoch: [3]  [70/77]  eta: 0:00:04  lr: 0.000500  loss: 0.1236 (0.1291)  loss_classifier: 0.0406 (0.0490)  loss_box_reg: 0.0776 (0.0757)  loss_objectness: 0.0007 (0.0016)  loss_rpn_box_reg: 0.0020 (0.0028)  time: 0.6463  data: 0.0317  max mem: 4959\n",
      "Epoch: [3]  [76/77]  eta: 0:00:00  lr: 0.000500  loss: 0.1357 (0.1303)  loss_classifier: 0.0461 (0.0492)  loss_box_reg: 0.0798 (0.0767)  loss_objectness: 0.0010 (0.0015)  loss_rpn_box_reg: 0.0021 (0.0028)  time: 0.6348  data: 0.0301  max mem: 4959\n",
      "Epoch: [3] Total time: 0:00:50 (0.6607 s / it)\n",
      "creating index...\n",
      "index created!\n",
      "Test:  [ 0/20]  eta: 0:00:19  model_time: 0.2696 (0.2696)  evaluator_time: 0.0032 (0.0032)  time: 0.9699  data: 0.6341  max mem: 4959\n",
      "Test:  [19/20]  eta: 0:00:00  model_time: 0.2553 (0.2559)  evaluator_time: 0.0033 (0.0035)  time: 0.3439  data: 0.0558  max mem: 4959\n",
      "Test: Total time: 0:00:06 (0.3456 s / it)\n",
      "Averaged stats: model_time: 0.2553 (0.2559)  evaluator_time: 0.0033 (0.0035)\n",
      "Accumulating evaluation results...\n",
      "DONE (t=0.02s).\n",
      "IoU metric: bbox\n",
      " Average Precision  (AP) @[ IoU=0.50:0.95 | area=   all | maxDets=100 ] = 0.141\n",
      " Average Precision  (AP) @[ IoU=0.50      | area=   all | maxDets=100 ] = 0.368\n",
      " Average Precision  (AP) @[ IoU=0.75      | area=   all | maxDets=100 ] = 0.080\n",
      " Average Precision  (AP) @[ IoU=0.50:0.95 | area= small | maxDets=100 ] = 0.000\n",
      " Average Precision  (AP) @[ IoU=0.50:0.95 | area=medium | maxDets=100 ] = 0.025\n",
      " Average Precision  (AP) @[ IoU=0.50:0.95 | area= large | maxDets=100 ] = 0.221\n",
      " Average Recall     (AR) @[ IoU=0.50:0.95 | area=   all | maxDets=  1 ] = 0.134\n",
      " Average Recall     (AR) @[ IoU=0.50:0.95 | area=   all | maxDets= 10 ] = 0.198\n",
      " Average Recall     (AR) @[ IoU=0.50:0.95 | area=   all | maxDets=100 ] = 0.198\n",
      " Average Recall     (AR) @[ IoU=0.50:0.95 | area= small | maxDets=100 ] = 0.000\n",
      " Average Recall     (AR) @[ IoU=0.50:0.95 | area=medium | maxDets=100 ] = 0.026\n",
      " Average Recall     (AR) @[ IoU=0.50:0.95 | area= large | maxDets=100 ] = 0.313\n"
     ]
    },
    {
     "name": "stderr",
     "output_type": "stream",
     "text": [
      "libpng warning: iCCP: known incorrect sRGB profile\n",
      "libpng warning: iCCP: known incorrect sRGB profile\n",
      "libpng warning: iCCP: known incorrect sRGB profile\n"
     ]
    },
    {
     "name": "stdout",
     "output_type": "stream",
     "text": [
      "Epoch: [4]  [ 0/77]  eta: 0:02:29  lr: 0.000500  loss: 0.1030 (0.1030)  loss_classifier: 0.0386 (0.0386)  loss_box_reg: 0.0497 (0.0497)  loss_objectness: 0.0120 (0.0120)  loss_rpn_box_reg: 0.0027 (0.0027)  time: 1.9477  data: 1.2138  max mem: 4959\n"
     ]
    },
    {
     "name": "stderr",
     "output_type": "stream",
     "text": [
      "libpng warning: iCCP: known incorrect sRGB profile\n",
      "libpng warning: iCCP: known incorrect sRGB profile\n",
      "libpng warning: iCCP: known incorrect sRGB profile\n",
      "libpng warning: iCCP: known incorrect sRGB profile\n",
      "libpng warning: iCCP: known incorrect sRGB profile\n",
      "libpng warning: iCCP: known incorrect sRGB profile\n",
      "libpng warning: iCCP: known incorrect sRGB profile\n"
     ]
    },
    {
     "name": "stdout",
     "output_type": "stream",
     "text": [
      "Epoch: [4]  [10/77]  eta: 0:00:51  lr: 0.000500  loss: 0.1030 (0.1045)  loss_classifier: 0.0355 (0.0381)  loss_box_reg: 0.0585 (0.0619)  loss_objectness: 0.0016 (0.0024)  loss_rpn_box_reg: 0.0019 (0.0022)  time: 0.7756  data: 0.1420  max mem: 4959\n"
     ]
    },
    {
     "name": "stderr",
     "output_type": "stream",
     "text": [
      "libpng warning: iCCP: known incorrect sRGB profile\n",
      "libpng warning: iCCP: known incorrect sRGB profile\n"
     ]
    },
    {
     "name": "stdout",
     "output_type": "stream",
     "text": [
      "Epoch: [4]  [20/77]  eta: 0:00:40  lr: 0.000500  loss: 0.1071 (0.1090)  loss_classifier: 0.0385 (0.0408)  loss_box_reg: 0.0585 (0.0639)  loss_objectness: 0.0006 (0.0018)  loss_rpn_box_reg: 0.0019 (0.0025)  time: 0.6532  data: 0.0339  max mem: 4959\n"
     ]
    },
    {
     "name": "stderr",
     "output_type": "stream",
     "text": [
      "libpng warning: iCCP: known incorrect sRGB profile\n"
     ]
    },
    {
     "name": "stdout",
     "output_type": "stream",
     "text": [
      "Epoch: [4]  [30/77]  eta: 0:00:32  lr: 0.000500  loss: 0.1181 (0.1154)  loss_classifier: 0.0437 (0.0432)  loss_box_reg: 0.0621 (0.0678)  loss_objectness: 0.0010 (0.0019)  loss_rpn_box_reg: 0.0020 (0.0025)  time: 0.6452  data: 0.0321  max mem: 4959\n"
     ]
    },
    {
     "name": "stderr",
     "output_type": "stream",
     "text": [
      "libpng warning: iCCP: known incorrect sRGB profile\n",
      "libpng warning: iCCP: known incorrect sRGB profile\n",
      "libpng warning: iCCP: known incorrect sRGB profile\n",
      "libpng warning: iCCP: known incorrect sRGB profile\n",
      "libpng warning: iCCP: known incorrect sRGB profile\n",
      "libpng warning: iCCP: known incorrect sRGB profile\n"
     ]
    },
    {
     "name": "stdout",
     "output_type": "stream",
     "text": [
      "Epoch: [4]  [40/77]  eta: 0:00:25  lr: 0.000500  loss: 0.1213 (0.1149)  loss_classifier: 0.0404 (0.0425)  loss_box_reg: 0.0696 (0.0682)  loss_objectness: 0.0008 (0.0018)  loss_rpn_box_reg: 0.0020 (0.0025)  time: 0.6450  data: 0.0319  max mem: 4959\n"
     ]
    },
    {
     "name": "stderr",
     "output_type": "stream",
     "text": [
      "libpng warning: iCCP: known incorrect sRGB profile\n",
      "libpng warning: iCCP: known incorrect sRGB profile\n",
      "libpng warning: iCCP: known incorrect sRGB profile\n"
     ]
    },
    {
     "name": "stdout",
     "output_type": "stream",
     "text": [
      "Epoch: [4]  [50/77]  eta: 0:00:18  lr: 0.000500  loss: 0.1101 (0.1163)  loss_classifier: 0.0432 (0.0432)  loss_box_reg: 0.0666 (0.0688)  loss_objectness: 0.0006 (0.0017)  loss_rpn_box_reg: 0.0024 (0.0025)  time: 0.6452  data: 0.0320  max mem: 4959\n"
     ]
    },
    {
     "name": "stderr",
     "output_type": "stream",
     "text": [
      "libpng warning: iCCP: known incorrect sRGB profile\n",
      "libpng warning: iCCP: known incorrect sRGB profile\n"
     ]
    },
    {
     "name": "stdout",
     "output_type": "stream",
     "text": [
      "Epoch: [4]  [60/77]  eta: 0:00:11  lr: 0.000500  loss: 0.1101 (0.1231)  loss_classifier: 0.0456 (0.0462)  loss_box_reg: 0.0644 (0.0727)  loss_objectness: 0.0004 (0.0017)  loss_rpn_box_reg: 0.0025 (0.0026)  time: 0.6432  data: 0.0310  max mem: 4959\n"
     ]
    },
    {
     "name": "stderr",
     "output_type": "stream",
     "text": [
      "libpng warning: iCCP: known incorrect sRGB profile\n",
      "libpng warning: iCCP: known incorrect sRGB profile\n",
      "libpng warning: iCCP: known incorrect sRGB profile\n",
      "libpng warning: iCCP: known incorrect sRGB profile\n",
      "libpng warning: iCCP: known incorrect sRGB profile\n"
     ]
    },
    {
     "name": "stdout",
     "output_type": "stream",
     "text": [
      "Epoch: [4]  [70/77]  eta: 0:00:04  lr: 0.000500  loss: 0.1224 (0.1234)  loss_classifier: 0.0461 (0.0463)  loss_box_reg: 0.0746 (0.0729)  loss_objectness: 0.0005 (0.0016)  loss_rpn_box_reg: 0.0022 (0.0025)  time: 0.6441  data: 0.0309  max mem: 4959\n",
      "Epoch: [4]  [76/77]  eta: 0:00:00  lr: 0.000500  loss: 0.1076 (0.1223)  loss_classifier: 0.0351 (0.0456)  loss_box_reg: 0.0644 (0.0725)  loss_objectness: 0.0005 (0.0016)  loss_rpn_box_reg: 0.0021 (0.0026)  time: 0.6343  data: 0.0300  max mem: 4959\n",
      "Epoch: [4] Total time: 0:00:50 (0.6613 s / it)\n",
      "creating index...\n",
      "index created!\n",
      "Test:  [ 0/20]  eta: 0:00:18  model_time: 0.2807 (0.2807)  evaluator_time: 0.0038 (0.0038)  time: 0.9239  data: 0.5777  max mem: 4959\n",
      "Test:  [19/20]  eta: 0:00:00  model_time: 0.2545 (0.2557)  evaluator_time: 0.0036 (0.0034)  time: 0.3442  data: 0.0551  max mem: 4959\n",
      "Test: Total time: 0:00:06 (0.3459 s / it)\n",
      "Averaged stats: model_time: 0.2545 (0.2557)  evaluator_time: 0.0036 (0.0034)\n",
      "Accumulating evaluation results...\n",
      "DONE (t=0.02s).\n",
      "IoU metric: bbox\n",
      " Average Precision  (AP) @[ IoU=0.50:0.95 | area=   all | maxDets=100 ] = 0.148\n",
      " Average Precision  (AP) @[ IoU=0.50      | area=   all | maxDets=100 ] = 0.379\n",
      " Average Precision  (AP) @[ IoU=0.75      | area=   all | maxDets=100 ] = 0.083\n",
      " Average Precision  (AP) @[ IoU=0.50:0.95 | area= small | maxDets=100 ] = 0.000\n",
      " Average Precision  (AP) @[ IoU=0.50:0.95 | area=medium | maxDets=100 ] = 0.032\n",
      " Average Precision  (AP) @[ IoU=0.50:0.95 | area= large | maxDets=100 ] = 0.228\n",
      " Average Recall     (AR) @[ IoU=0.50:0.95 | area=   all | maxDets=  1 ] = 0.134\n",
      " Average Recall     (AR) @[ IoU=0.50:0.95 | area=   all | maxDets= 10 ] = 0.204\n",
      " Average Recall     (AR) @[ IoU=0.50:0.95 | area=   all | maxDets=100 ] = 0.204\n",
      " Average Recall     (AR) @[ IoU=0.50:0.95 | area= small | maxDets=100 ] = 0.000\n",
      " Average Recall     (AR) @[ IoU=0.50:0.95 | area=medium | maxDets=100 ] = 0.036\n",
      " Average Recall     (AR) @[ IoU=0.50:0.95 | area= large | maxDets=100 ] = 0.316\n"
     ]
    },
    {
     "name": "stderr",
     "output_type": "stream",
     "text": [
      "libpng warning: iCCP: known incorrect sRGB profile\n",
      "libpng warning: iCCP: known incorrect sRGB profile\n",
      "libpng warning: iCCP: known incorrect sRGB profile\n",
      "libpng warning: iCCP: known incorrect sRGB profile\n",
      "libpng warning: iCCP: known incorrect sRGB profile\n",
      "libpng warning: iCCP: known incorrect sRGB profile\n",
      "libpng warning: iCCP: known incorrect sRGB profile\n"
     ]
    },
    {
     "name": "stdout",
     "output_type": "stream",
     "text": [
      "Epoch: [5]  [ 0/77]  eta: 0:02:55  lr: 0.000500  loss: 0.0622 (0.0622)  loss_classifier: 0.0158 (0.0158)  loss_box_reg: 0.0445 (0.0445)  loss_objectness: 0.0013 (0.0013)  loss_rpn_box_reg: 0.0006 (0.0006)  time: 2.2846  data: 1.5822  max mem: 4959\n"
     ]
    },
    {
     "name": "stderr",
     "output_type": "stream",
     "text": [
      "libpng warning: iCCP: known incorrect sRGB profile\n",
      "libpng warning: iCCP: known incorrect sRGB profile\n",
      "libpng warning: iCCP: known incorrect sRGB profile\n",
      "libpng warning: iCCP: known incorrect sRGB profile\n",
      "libpng warning: iCCP: known incorrect sRGB profile\n"
     ]
    },
    {
     "name": "stdout",
     "output_type": "stream",
     "text": [
      "Epoch: [5]  [10/77]  eta: 0:00:53  lr: 0.000500  loss: 0.1187 (0.1172)  loss_classifier: 0.0405 (0.0419)  loss_box_reg: 0.0684 (0.0716)  loss_objectness: 0.0010 (0.0015)  loss_rpn_box_reg: 0.0021 (0.0022)  time: 0.7959  data: 0.1692  max mem: 4959\n"
     ]
    },
    {
     "name": "stderr",
     "output_type": "stream",
     "text": [
      "libpng warning: iCCP: known incorrect sRGB profile\n",
      "libpng warning: iCCP: known incorrect sRGB profile\n",
      "libpng warning: iCCP: known incorrect sRGB profile\n",
      "libpng warning: iCCP: known incorrect sRGB profile\n"
     ]
    },
    {
     "name": "stdout",
     "output_type": "stream",
     "text": [
      "Epoch: [5]  [20/77]  eta: 0:00:41  lr: 0.000500  loss: 0.1297 (0.1224)  loss_classifier: 0.0439 (0.0446)  loss_box_reg: 0.0734 (0.0733)  loss_objectness: 0.0009 (0.0021)  loss_rpn_box_reg: 0.0022 (0.0024)  time: 0.6471  data: 0.0295  max mem: 4959\n"
     ]
    },
    {
     "name": "stderr",
     "output_type": "stream",
     "text": [
      "libpng warning: iCCP: known incorrect sRGB profile\n",
      "libpng warning: iCCP: known incorrect sRGB profile\n",
      "libpng warning: iCCP: known incorrect sRGB profile\n"
     ]
    },
    {
     "name": "stdout",
     "output_type": "stream",
     "text": [
      "Epoch: [5]  [30/77]  eta: 0:00:32  lr: 0.000500  loss: 0.1294 (0.1217)  loss_classifier: 0.0444 (0.0452)  loss_box_reg: 0.0734 (0.0724)  loss_objectness: 0.0008 (0.0019)  loss_rpn_box_reg: 0.0020 (0.0022)  time: 0.6459  data: 0.0310  max mem: 4959\n"
     ]
    },
    {
     "name": "stderr",
     "output_type": "stream",
     "text": [
      "libpng warning: iCCP: known incorrect sRGB profile\n",
      "libpng warning: iCCP: known incorrect sRGB profile\n",
      "libpng warning: iCCP: known incorrect sRGB profile\n"
     ]
    },
    {
     "name": "stdout",
     "output_type": "stream",
     "text": [
      "Epoch: [5]  [40/77]  eta: 0:00:25  lr: 0.000500  loss: 0.1294 (0.1269)  loss_classifier: 0.0446 (0.0469)  loss_box_reg: 0.0719 (0.0755)  loss_objectness: 0.0008 (0.0020)  loss_rpn_box_reg: 0.0024 (0.0025)  time: 0.6403  data: 0.0297  max mem: 4959\n"
     ]
    },
    {
     "name": "stderr",
     "output_type": "stream",
     "text": [
      "libpng warning: iCCP: known incorrect sRGB profile\n",
      "libpng warning: iCCP: known incorrect sRGB profile\n"
     ]
    },
    {
     "name": "stdout",
     "output_type": "stream",
     "text": [
      "Epoch: [5]  [50/77]  eta: 0:00:18  lr: 0.000500  loss: 0.1149 (0.1246)  loss_classifier: 0.0446 (0.0469)  loss_box_reg: 0.0656 (0.0734)  loss_objectness: 0.0010 (0.0018)  loss_rpn_box_reg: 0.0024 (0.0025)  time: 0.6401  data: 0.0298  max mem: 4959\n"
     ]
    },
    {
     "name": "stderr",
     "output_type": "stream",
     "text": [
      "libpng warning: iCCP: known incorrect sRGB profile\n",
      "libpng warning: iCCP: known incorrect sRGB profile\n"
     ]
    },
    {
     "name": "stdout",
     "output_type": "stream",
     "text": [
      "Epoch: [5]  [60/77]  eta: 0:00:11  lr: 0.000500  loss: 0.1098 (0.1264)  loss_classifier: 0.0422 (0.0471)  loss_box_reg: 0.0656 (0.0750)  loss_objectness: 0.0006 (0.0017)  loss_rpn_box_reg: 0.0017 (0.0026)  time: 0.6441  data: 0.0313  max mem: 4959\n"
     ]
    },
    {
     "name": "stderr",
     "output_type": "stream",
     "text": [
      "libpng warning: iCCP: known incorrect sRGB profile\n",
      "libpng warning: iCCP: known incorrect sRGB profile\n",
      "libpng warning: iCCP: known incorrect sRGB profile\n"
     ]
    },
    {
     "name": "stdout",
     "output_type": "stream",
     "text": [
      "Epoch: [5]  [70/77]  eta: 0:00:04  lr: 0.000500  loss: 0.1153 (0.1244)  loss_classifier: 0.0412 (0.0460)  loss_box_reg: 0.0705 (0.0741)  loss_objectness: 0.0007 (0.0017)  loss_rpn_box_reg: 0.0025 (0.0026)  time: 0.6435  data: 0.0309  max mem: 4959\n",
      "Epoch: [5]  [76/77]  eta: 0:00:00  lr: 0.000500  loss: 0.1108 (0.1221)  loss_classifier: 0.0390 (0.0453)  loss_box_reg: 0.0646 (0.0725)  loss_objectness: 0.0006 (0.0017)  loss_rpn_box_reg: 0.0022 (0.0025)  time: 0.6330  data: 0.0290  max mem: 4959\n",
      "Epoch: [5] Total time: 0:00:51 (0.6628 s / it)\n",
      "creating index...\n",
      "index created!\n",
      "Test:  [ 0/20]  eta: 0:00:18  model_time: 0.2757 (0.2757)  evaluator_time: 0.0032 (0.0032)  time: 0.9176  data: 0.6022  max mem: 4959\n",
      "Test:  [19/20]  eta: 0:00:00  model_time: 0.2547 (0.2558)  evaluator_time: 0.0032 (0.0033)  time: 0.3419  data: 0.0552  max mem: 4959\n",
      "Test: Total time: 0:00:06 (0.3437 s / it)\n",
      "Averaged stats: model_time: 0.2547 (0.2558)  evaluator_time: 0.0032 (0.0033)\n",
      "Accumulating evaluation results...\n",
      "DONE (t=0.02s).\n",
      "IoU metric: bbox\n",
      " Average Precision  (AP) @[ IoU=0.50:0.95 | area=   all | maxDets=100 ] = 0.177\n",
      " Average Precision  (AP) @[ IoU=0.50      | area=   all | maxDets=100 ] = 0.408\n",
      " Average Precision  (AP) @[ IoU=0.75      | area=   all | maxDets=100 ] = 0.124\n",
      " Average Precision  (AP) @[ IoU=0.50:0.95 | area= small | maxDets=100 ] = 0.000\n",
      " Average Precision  (AP) @[ IoU=0.50:0.95 | area=medium | maxDets=100 ] = 0.037\n",
      " Average Precision  (AP) @[ IoU=0.50:0.95 | area= large | maxDets=100 ] = 0.270\n",
      " Average Recall     (AR) @[ IoU=0.50:0.95 | area=   all | maxDets=  1 ] = 0.149\n",
      " Average Recall     (AR) @[ IoU=0.50:0.95 | area=   all | maxDets= 10 ] = 0.226\n",
      " Average Recall     (AR) @[ IoU=0.50:0.95 | area=   all | maxDets=100 ] = 0.226\n",
      " Average Recall     (AR) @[ IoU=0.50:0.95 | area= small | maxDets=100 ] = 0.000\n",
      " Average Recall     (AR) @[ IoU=0.50:0.95 | area=medium | maxDets=100 ] = 0.044\n",
      " Average Recall     (AR) @[ IoU=0.50:0.95 | area= large | maxDets=100 ] = 0.348\n"
     ]
    },
    {
     "name": "stderr",
     "output_type": "stream",
     "text": [
      "libpng warning: iCCP: known incorrect sRGB profile\n",
      "libpng warning: iCCP: known incorrect sRGB profile\n"
     ]
    },
    {
     "name": "stdout",
     "output_type": "stream",
     "text": [
      "Epoch: [6]  [ 0/77]  eta: 0:02:30  lr: 0.000050  loss: 0.1095 (0.1095)  loss_classifier: 0.0380 (0.0380)  loss_box_reg: 0.0683 (0.0683)  loss_objectness: 0.0005 (0.0005)  loss_rpn_box_reg: 0.0027 (0.0027)  time: 1.9575  data: 1.2720  max mem: 4959\n"
     ]
    },
    {
     "name": "stderr",
     "output_type": "stream",
     "text": [
      "libpng warning: iCCP: known incorrect sRGB profile\n",
      "libpng warning: iCCP: known incorrect sRGB profile\n",
      "libpng warning: iCCP: known incorrect sRGB profile\n"
     ]
    },
    {
     "name": "stdout",
     "output_type": "stream",
     "text": [
      "Epoch: [6]  [10/77]  eta: 0:00:51  lr: 0.000050  loss: 0.1372 (0.1357)  loss_classifier: 0.0435 (0.0480)  loss_box_reg: 0.0821 (0.0830)  loss_objectness: 0.0007 (0.0018)  loss_rpn_box_reg: 0.0028 (0.0028)  time: 0.7660  data: 0.1429  max mem: 4959\n"
     ]
    },
    {
     "name": "stderr",
     "output_type": "stream",
     "text": [
      "libpng warning: iCCP: known incorrect sRGB profile\n",
      "libpng warning: iCCP: known incorrect sRGB profile\n",
      "libpng warning: iCCP: known incorrect sRGB profile\n",
      "libpng warning: iCCP: known incorrect sRGB profile\n"
     ]
    },
    {
     "name": "stdout",
     "output_type": "stream",
     "text": [
      "Epoch: [6]  [20/77]  eta: 0:00:40  lr: 0.000050  loss: 0.1269 (0.1271)  loss_classifier: 0.0410 (0.0463)  loss_box_reg: 0.0740 (0.0764)  loss_objectness: 0.0014 (0.0019)  loss_rpn_box_reg: 0.0025 (0.0025)  time: 0.6453  data: 0.0303  max mem: 4959\n"
     ]
    },
    {
     "name": "stderr",
     "output_type": "stream",
     "text": [
      "libpng warning: iCCP: known incorrect sRGB profile\n",
      "libpng warning: iCCP: known incorrect sRGB profile\n",
      "libpng warning: iCCP: known incorrect sRGB profile\n"
     ]
    },
    {
     "name": "stdout",
     "output_type": "stream",
     "text": [
      "Epoch: [6]  [30/77]  eta: 0:00:32  lr: 0.000050  loss: 0.1178 (0.1261)  loss_classifier: 0.0407 (0.0461)  loss_box_reg: 0.0720 (0.0761)  loss_objectness: 0.0005 (0.0015)  loss_rpn_box_reg: 0.0019 (0.0024)  time: 0.6440  data: 0.0300  max mem: 4959\n"
     ]
    },
    {
     "name": "stderr",
     "output_type": "stream",
     "text": [
      "libpng warning: iCCP: known incorrect sRGB profile\n"
     ]
    },
    {
     "name": "stdout",
     "output_type": "stream",
     "text": [
      "Epoch: [6]  [40/77]  eta: 0:00:25  lr: 0.000050  loss: 0.1178 (0.1245)  loss_classifier: 0.0435 (0.0455)  loss_box_reg: 0.0705 (0.0753)  loss_objectness: 0.0004 (0.0013)  loss_rpn_box_reg: 0.0017 (0.0024)  time: 0.6442  data: 0.0299  max mem: 4959\n"
     ]
    },
    {
     "name": "stderr",
     "output_type": "stream",
     "text": [
      "libpng warning: iCCP: known incorrect sRGB profile\n",
      "libpng warning: iCCP: known incorrect sRGB profile\n",
      "libpng warning: iCCP: known incorrect sRGB profile\n",
      "libpng warning: iCCP: known incorrect sRGB profile\n"
     ]
    },
    {
     "name": "stdout",
     "output_type": "stream",
     "text": [
      "Epoch: [6]  [50/77]  eta: 0:00:18  lr: 0.000050  loss: 0.1207 (0.1247)  loss_classifier: 0.0418 (0.0459)  loss_box_reg: 0.0689 (0.0749)  loss_objectness: 0.0004 (0.0014)  loss_rpn_box_reg: 0.0022 (0.0024)  time: 0.6426  data: 0.0298  max mem: 4959\n"
     ]
    },
    {
     "name": "stderr",
     "output_type": "stream",
     "text": [
      "libpng warning: iCCP: known incorrect sRGB profile\n",
      "libpng warning: iCCP: known incorrect sRGB profile\n",
      "libpng warning: iCCP: known incorrect sRGB profile\n",
      "libpng warning: iCCP: known incorrect sRGB profile\n",
      "libpng warning: iCCP: known incorrect sRGB profile\n",
      "libpng warning: iCCP: known incorrect sRGB profile\n",
      "libpng warning: iCCP: known incorrect sRGB profile\n"
     ]
    },
    {
     "name": "stdout",
     "output_type": "stream",
     "text": [
      "Epoch: [6]  [60/77]  eta: 0:00:11  lr: 0.000050  loss: 0.1082 (0.1230)  loss_classifier: 0.0417 (0.0450)  loss_box_reg: 0.0662 (0.0741)  loss_objectness: 0.0005 (0.0014)  loss_rpn_box_reg: 0.0022 (0.0025)  time: 0.6431  data: 0.0310  max mem: 4959\n"
     ]
    },
    {
     "name": "stderr",
     "output_type": "stream",
     "text": [
      "libpng warning: iCCP: known incorrect sRGB profile\n",
      "libpng warning: iCCP: known incorrect sRGB profile\n",
      "libpng warning: iCCP: known incorrect sRGB profile\n",
      "libpng warning: iCCP: known incorrect sRGB profile\n",
      "libpng warning: iCCP: known incorrect sRGB profile\n"
     ]
    },
    {
     "name": "stdout",
     "output_type": "stream",
     "text": [
      "Epoch: [6]  [70/77]  eta: 0:00:04  lr: 0.000050  loss: 0.1025 (0.1193)  loss_classifier: 0.0370 (0.0436)  loss_box_reg: 0.0643 (0.0718)  loss_objectness: 0.0005 (0.0014)  loss_rpn_box_reg: 0.0022 (0.0024)  time: 0.6445  data: 0.0316  max mem: 4959\n",
      "Epoch: [6]  [76/77]  eta: 0:00:00  lr: 0.000050  loss: 0.0983 (0.1193)  loss_classifier: 0.0411 (0.0441)  loss_box_reg: 0.0545 (0.0713)  loss_objectness: 0.0007 (0.0015)  loss_rpn_box_reg: 0.0019 (0.0024)  time: 0.6338  data: 0.0301  max mem: 4959\n",
      "Epoch: [6] Total time: 0:00:50 (0.6592 s / it)\n",
      "creating index...\n",
      "index created!\n",
      "Test:  [ 0/20]  eta: 0:00:18  model_time: 0.2830 (0.2830)  evaluator_time: 0.0031 (0.0031)  time: 0.9148  data: 0.5774  max mem: 4959\n",
      "Test:  [19/20]  eta: 0:00:00  model_time: 0.2547 (0.2563)  evaluator_time: 0.0035 (0.0034)  time: 0.3425  data: 0.0542  max mem: 4959\n",
      "Test: Total time: 0:00:06 (0.3442 s / it)\n",
      "Averaged stats: model_time: 0.2547 (0.2563)  evaluator_time: 0.0035 (0.0034)\n",
      "Accumulating evaluation results...\n",
      "DONE (t=0.02s).\n",
      "IoU metric: bbox\n",
      " Average Precision  (AP) @[ IoU=0.50:0.95 | area=   all | maxDets=100 ] = 0.178\n",
      " Average Precision  (AP) @[ IoU=0.50      | area=   all | maxDets=100 ] = 0.416\n",
      " Average Precision  (AP) @[ IoU=0.75      | area=   all | maxDets=100 ] = 0.119\n",
      " Average Precision  (AP) @[ IoU=0.50:0.95 | area= small | maxDets=100 ] = 0.000\n",
      " Average Precision  (AP) @[ IoU=0.50:0.95 | area=medium | maxDets=100 ] = 0.039\n",
      " Average Precision  (AP) @[ IoU=0.50:0.95 | area= large | maxDets=100 ] = 0.272\n",
      " Average Recall     (AR) @[ IoU=0.50:0.95 | area=   all | maxDets=  1 ] = 0.149\n",
      " Average Recall     (AR) @[ IoU=0.50:0.95 | area=   all | maxDets= 10 ] = 0.232\n",
      " Average Recall     (AR) @[ IoU=0.50:0.95 | area=   all | maxDets=100 ] = 0.232\n",
      " Average Recall     (AR) @[ IoU=0.50:0.95 | area= small | maxDets=100 ] = 0.000\n",
      " Average Recall     (AR) @[ IoU=0.50:0.95 | area=medium | maxDets=100 ] = 0.045\n",
      " Average Recall     (AR) @[ IoU=0.50:0.95 | area= large | maxDets=100 ] = 0.357\n"
     ]
    },
    {
     "name": "stderr",
     "output_type": "stream",
     "text": [
      "libpng warning: iCCP: known incorrect sRGB profile\n",
      "libpng warning: iCCP: known incorrect sRGB profile\n",
      "libpng warning: iCCP: known incorrect sRGB profile\n"
     ]
    },
    {
     "name": "stdout",
     "output_type": "stream",
     "text": [
      "Epoch: [7]  [ 0/77]  eta: 0:02:17  lr: 0.000050  loss: 0.0974 (0.0974)  loss_classifier: 0.0467 (0.0467)  loss_box_reg: 0.0477 (0.0477)  loss_objectness: 0.0005 (0.0005)  loss_rpn_box_reg: 0.0025 (0.0025)  time: 1.7902  data: 1.1398  max mem: 4959\n"
     ]
    },
    {
     "name": "stderr",
     "output_type": "stream",
     "text": [
      "libpng warning: iCCP: known incorrect sRGB profile\n"
     ]
    },
    {
     "name": "stdout",
     "output_type": "stream",
     "text": [
      "Epoch: [7]  [10/77]  eta: 0:00:50  lr: 0.000050  loss: 0.1067 (0.1070)  loss_classifier: 0.0385 (0.0398)  loss_box_reg: 0.0580 (0.0640)  loss_objectness: 0.0004 (0.0010)  loss_rpn_box_reg: 0.0024 (0.0023)  time: 0.7559  data: 0.1318  max mem: 4959\n"
     ]
    },
    {
     "name": "stderr",
     "output_type": "stream",
     "text": [
      "libpng warning: iCCP: known incorrect sRGB profile\n",
      "libpng warning: iCCP: known incorrect sRGB profile\n",
      "libpng warning: iCCP: known incorrect sRGB profile\n"
     ]
    },
    {
     "name": "stdout",
     "output_type": "stream",
     "text": [
      "Epoch: [7]  [20/77]  eta: 0:00:40  lr: 0.000050  loss: 0.1003 (0.1196)  loss_classifier: 0.0417 (0.0467)  loss_box_reg: 0.0580 (0.0686)  loss_objectness: 0.0008 (0.0017)  loss_rpn_box_reg: 0.0022 (0.0025)  time: 0.6482  data: 0.0312  max mem: 4959\n"
     ]
    },
    {
     "name": "stderr",
     "output_type": "stream",
     "text": [
      "libpng warning: iCCP: known incorrect sRGB profile\n",
      "libpng warning: iCCP: known incorrect sRGB profile\n",
      "libpng warning: iCCP: known incorrect sRGB profile\n"
     ]
    },
    {
     "name": "stdout",
     "output_type": "stream",
     "text": [
      "Epoch: [7]  [30/77]  eta: 0:00:32  lr: 0.000050  loss: 0.1003 (0.1194)  loss_classifier: 0.0417 (0.0454)  loss_box_reg: 0.0634 (0.0696)  loss_objectness: 0.0013 (0.0019)  loss_rpn_box_reg: 0.0019 (0.0026)  time: 0.6458  data: 0.0323  max mem: 4959\n"
     ]
    },
    {
     "name": "stderr",
     "output_type": "stream",
     "text": [
      "libpng warning: iCCP: known incorrect sRGB profile\n",
      "libpng warning: iCCP: known incorrect sRGB profile\n"
     ]
    },
    {
     "name": "stdout",
     "output_type": "stream",
     "text": [
      "Epoch: [7]  [40/77]  eta: 0:00:24  lr: 0.000050  loss: 0.1140 (0.1244)  loss_classifier: 0.0457 (0.0474)  loss_box_reg: 0.0634 (0.0726)  loss_objectness: 0.0009 (0.0017)  loss_rpn_box_reg: 0.0024 (0.0027)  time: 0.6459  data: 0.0321  max mem: 4959\n"
     ]
    },
    {
     "name": "stderr",
     "output_type": "stream",
     "text": [
      "libpng warning: iCCP: known incorrect sRGB profile\n",
      "libpng warning: iCCP: known incorrect sRGB profile\n",
      "libpng warning: iCCP: known incorrect sRGB profile\n",
      "libpng warning: iCCP: known incorrect sRGB profile\n"
     ]
    },
    {
     "name": "stdout",
     "output_type": "stream",
     "text": [
      "Epoch: [7]  [50/77]  eta: 0:00:18  lr: 0.000050  loss: 0.1107 (0.1207)  loss_classifier: 0.0449 (0.0460)  loss_box_reg: 0.0585 (0.0705)  loss_objectness: 0.0008 (0.0015)  loss_rpn_box_reg: 0.0022 (0.0026)  time: 0.6420  data: 0.0301  max mem: 4959\n"
     ]
    },
    {
     "name": "stderr",
     "output_type": "stream",
     "text": [
      "libpng warning: iCCP: known incorrect sRGB profile\n",
      "libpng warning: iCCP: known incorrect sRGB profile\n",
      "libpng warning: iCCP: known incorrect sRGB profile\n",
      "libpng warning: iCCP: known incorrect sRGB profile\n",
      "libpng warning: iCCP: known incorrect sRGB profile\n",
      "libpng warning: iCCP: known incorrect sRGB profile\n"
     ]
    },
    {
     "name": "stdout",
     "output_type": "stream",
     "text": [
      "Epoch: [7]  [60/77]  eta: 0:00:11  lr: 0.000050  loss: 0.1090 (0.1193)  loss_classifier: 0.0403 (0.0454)  loss_box_reg: 0.0585 (0.0698)  loss_objectness: 0.0005 (0.0015)  loss_rpn_box_reg: 0.0020 (0.0026)  time: 0.6395  data: 0.0297  max mem: 4959\n"
     ]
    },
    {
     "name": "stderr",
     "output_type": "stream",
     "text": [
      "libpng warning: iCCP: known incorrect sRGB profile\n",
      "libpng warning: iCCP: known incorrect sRGB profile\n",
      "libpng warning: iCCP: known incorrect sRGB profile\n",
      "libpng warning: iCCP: known incorrect sRGB profile\n",
      "libpng warning: iCCP: known incorrect sRGB profile\n",
      "libpng warning: iCCP: known incorrect sRGB profile\n",
      "libpng warning: iCCP: known incorrect sRGB profile\n"
     ]
    },
    {
     "name": "stdout",
     "output_type": "stream",
     "text": [
      "Epoch: [7]  [70/77]  eta: 0:00:04  lr: 0.000050  loss: 0.0988 (0.1178)  loss_classifier: 0.0381 (0.0444)  loss_box_reg: 0.0603 (0.0693)  loss_objectness: 0.0007 (0.0016)  loss_rpn_box_reg: 0.0023 (0.0025)  time: 0.6404  data: 0.0301  max mem: 4959\n",
      "Epoch: [7]  [76/77]  eta: 0:00:00  lr: 0.000050  loss: 0.0986 (0.1191)  loss_classifier: 0.0381 (0.0454)  loss_box_reg: 0.0603 (0.0695)  loss_objectness: 0.0010 (0.0017)  loss_rpn_box_reg: 0.0022 (0.0025)  time: 0.6321  data: 0.0299  max mem: 4959\n",
      "Epoch: [7] Total time: 0:00:50 (0.6571 s / it)\n",
      "creating index...\n",
      "index created!\n",
      "Test:  [ 0/20]  eta: 0:00:19  model_time: 0.2890 (0.2890)  evaluator_time: 0.0034 (0.0034)  time: 0.9924  data: 0.6359  max mem: 4959\n",
      "Test:  [19/20]  eta: 0:00:00  model_time: 0.2552 (0.2569)  evaluator_time: 0.0030 (0.0033)  time: 0.3474  data: 0.0567  max mem: 4959\n",
      "Test: Total time: 0:00:06 (0.3492 s / it)\n",
      "Averaged stats: model_time: 0.2552 (0.2569)  evaluator_time: 0.0030 (0.0033)\n",
      "Accumulating evaluation results...\n",
      "DONE (t=0.02s).\n",
      "IoU metric: bbox\n",
      " Average Precision  (AP) @[ IoU=0.50:0.95 | area=   all | maxDets=100 ] = 0.171\n",
      " Average Precision  (AP) @[ IoU=0.50      | area=   all | maxDets=100 ] = 0.415\n",
      " Average Precision  (AP) @[ IoU=0.75      | area=   all | maxDets=100 ] = 0.096\n",
      " Average Precision  (AP) @[ IoU=0.50:0.95 | area= small | maxDets=100 ] = 0.000\n",
      " Average Precision  (AP) @[ IoU=0.50:0.95 | area=medium | maxDets=100 ] = 0.037\n",
      " Average Precision  (AP) @[ IoU=0.50:0.95 | area= large | maxDets=100 ] = 0.262\n",
      " Average Recall     (AR) @[ IoU=0.50:0.95 | area=   all | maxDets=  1 ] = 0.146\n",
      " Average Recall     (AR) @[ IoU=0.50:0.95 | area=   all | maxDets= 10 ] = 0.227\n",
      " Average Recall     (AR) @[ IoU=0.50:0.95 | area=   all | maxDets=100 ] = 0.227\n",
      " Average Recall     (AR) @[ IoU=0.50:0.95 | area= small | maxDets=100 ] = 0.000\n",
      " Average Recall     (AR) @[ IoU=0.50:0.95 | area=medium | maxDets=100 ] = 0.044\n",
      " Average Recall     (AR) @[ IoU=0.50:0.95 | area= large | maxDets=100 ] = 0.350\n"
     ]
    },
    {
     "name": "stderr",
     "output_type": "stream",
     "text": [
      "libpng warning: iCCP: known incorrect sRGB profile\n",
      "libpng warning: iCCP: known incorrect sRGB profile\n",
      "libpng warning: iCCP: known incorrect sRGB profile\n"
     ]
    },
    {
     "name": "stdout",
     "output_type": "stream",
     "text": [
      "Epoch: [8]  [ 0/77]  eta: 0:02:46  lr: 0.000050  loss: 0.1358 (0.1358)  loss_classifier: 0.0565 (0.0565)  loss_box_reg: 0.0756 (0.0756)  loss_objectness: 0.0004 (0.0004)  loss_rpn_box_reg: 0.0033 (0.0033)  time: 2.1635  data: 1.4709  max mem: 4959\n"
     ]
    },
    {
     "name": "stderr",
     "output_type": "stream",
     "text": [
      "libpng warning: iCCP: known incorrect sRGB profile\n",
      "libpng warning: iCCP: known incorrect sRGB profile\n",
      "libpng warning: iCCP: known incorrect sRGB profile\n",
      "libpng warning: iCCP: known incorrect sRGB profile\n",
      "libpng warning: iCCP: known incorrect sRGB profile\n",
      "libpng warning: iCCP: known incorrect sRGB profile\n"
     ]
    },
    {
     "name": "stdout",
     "output_type": "stream",
     "text": [
      "Epoch: [8]  [10/77]  eta: 0:00:52  lr: 0.000050  loss: 0.1162 (0.1300)  loss_classifier: 0.0453 (0.0466)  loss_box_reg: 0.0701 (0.0800)  loss_objectness: 0.0003 (0.0009)  loss_rpn_box_reg: 0.0024 (0.0026)  time: 0.7813  data: 0.1587  max mem: 4959\n"
     ]
    },
    {
     "name": "stderr",
     "output_type": "stream",
     "text": [
      "libpng warning: iCCP: known incorrect sRGB profile\n",
      "libpng warning: iCCP: known incorrect sRGB profile\n",
      "libpng warning: iCCP: known incorrect sRGB profile\n",
      "libpng warning: iCCP: known incorrect sRGB profile\n",
      "libpng warning: iCCP: known incorrect sRGB profile\n",
      "libpng warning: iCCP: known incorrect sRGB profile\n"
     ]
    },
    {
     "name": "stdout",
     "output_type": "stream",
     "text": [
      "Epoch: [8]  [20/77]  eta: 0:00:40  lr: 0.000050  loss: 0.1162 (0.1271)  loss_classifier: 0.0448 (0.0446)  loss_box_reg: 0.0701 (0.0788)  loss_objectness: 0.0005 (0.0010)  loss_rpn_box_reg: 0.0024 (0.0027)  time: 0.6416  data: 0.0281  max mem: 4959\n"
     ]
    },
    {
     "name": "stderr",
     "output_type": "stream",
     "text": [
      "libpng warning: iCCP: known incorrect sRGB profile\n",
      "libpng warning: iCCP: known incorrect sRGB profile\n",
      "libpng warning: iCCP: known incorrect sRGB profile\n",
      "libpng warning: iCCP: known incorrect sRGB profile\n",
      "libpng warning: iCCP: known incorrect sRGB profile\n"
     ]
    },
    {
     "name": "stdout",
     "output_type": "stream",
     "text": [
      "Epoch: [8]  [30/77]  eta: 0:00:32  lr: 0.000050  loss: 0.1318 (0.1259)  loss_classifier: 0.0444 (0.0454)  loss_box_reg: 0.0790 (0.0769)  loss_objectness: 0.0006 (0.0011)  loss_rpn_box_reg: 0.0025 (0.0025)  time: 0.6409  data: 0.0293  max mem: 4959\n"
     ]
    },
    {
     "name": "stderr",
     "output_type": "stream",
     "text": [
      "libpng warning: iCCP: known incorrect sRGB profile\n",
      "libpng warning: iCCP: known incorrect sRGB profile\n",
      "libpng warning: iCCP: known incorrect sRGB profile\n"
     ]
    },
    {
     "name": "stdout",
     "output_type": "stream",
     "text": [
      "Epoch: [8]  [40/77]  eta: 0:00:25  lr: 0.000050  loss: 0.1088 (0.1244)  loss_classifier: 0.0416 (0.0452)  loss_box_reg: 0.0660 (0.0758)  loss_objectness: 0.0004 (0.0011)  loss_rpn_box_reg: 0.0016 (0.0024)  time: 0.6456  data: 0.0310  max mem: 4959\n"
     ]
    },
    {
     "name": "stderr",
     "output_type": "stream",
     "text": [
      "libpng warning: iCCP: known incorrect sRGB profile\n"
     ]
    },
    {
     "name": "stdout",
     "output_type": "stream",
     "text": [
      "Epoch: [8]  [50/77]  eta: 0:00:18  lr: 0.000050  loss: 0.1093 (0.1245)  loss_classifier: 0.0387 (0.0457)  loss_box_reg: 0.0714 (0.0750)  loss_objectness: 0.0008 (0.0013)  loss_rpn_box_reg: 0.0015 (0.0025)  time: 0.6480  data: 0.0325  max mem: 4959\n"
     ]
    },
    {
     "name": "stderr",
     "output_type": "stream",
     "text": [
      "libpng warning: iCCP: known incorrect sRGB profile\n",
      "libpng warning: iCCP: known incorrect sRGB profile\n",
      "libpng warning: iCCP: known incorrect sRGB profile\n",
      "libpng warning: iCCP: known incorrect sRGB profile\n",
      "libpng warning: iCCP: known incorrect sRGB profile\n"
     ]
    },
    {
     "name": "stdout",
     "output_type": "stream",
     "text": [
      "Epoch: [8]  [60/77]  eta: 0:00:11  lr: 0.000050  loss: 0.1100 (0.1235)  loss_classifier: 0.0382 (0.0454)  loss_box_reg: 0.0675 (0.0744)  loss_objectness: 0.0005 (0.0012)  loss_rpn_box_reg: 0.0016 (0.0025)  time: 0.6440  data: 0.0321  max mem: 4959\n",
      "Epoch: [8]  [70/77]  eta: 0:00:04  lr: 0.000050  loss: 0.0999 (0.1198)  loss_classifier: 0.0382 (0.0444)  loss_box_reg: 0.0603 (0.0718)  loss_objectness: 0.0005 (0.0012)  loss_rpn_box_reg: 0.0021 (0.0025)  time: 0.6412  data: 0.0303  max mem: 4959\n",
      "Epoch: [8]  [76/77]  eta: 0:00:00  lr: 0.000050  loss: 0.1085 (0.1213)  loss_classifier: 0.0426 (0.0447)  loss_box_reg: 0.0594 (0.0728)  loss_objectness: 0.0008 (0.0013)  loss_rpn_box_reg: 0.0022 (0.0025)  time: 0.6323  data: 0.0296  max mem: 4959\n",
      "Epoch: [8] Total time: 0:00:50 (0.6611 s / it)\n",
      "creating index...\n",
      "index created!\n",
      "Test:  [ 0/20]  eta: 0:00:21  model_time: 0.3072 (0.3072)  evaluator_time: 0.0045 (0.0045)  time: 1.0591  data: 0.6420  max mem: 4959\n",
      "Test:  [19/20]  eta: 0:00:00  model_time: 0.2549 (0.2578)  evaluator_time: 0.0033 (0.0034)  time: 0.3519  data: 0.0585  max mem: 4959\n",
      "Test: Total time: 0:00:07 (0.3536 s / it)\n",
      "Averaged stats: model_time: 0.2549 (0.2578)  evaluator_time: 0.0033 (0.0034)\n",
      "Accumulating evaluation results...\n",
      "DONE (t=0.02s).\n",
      "IoU metric: bbox\n",
      " Average Precision  (AP) @[ IoU=0.50:0.95 | area=   all | maxDets=100 ] = 0.169\n",
      " Average Precision  (AP) @[ IoU=0.50      | area=   all | maxDets=100 ] = 0.416\n",
      " Average Precision  (AP) @[ IoU=0.75      | area=   all | maxDets=100 ] = 0.089\n",
      " Average Precision  (AP) @[ IoU=0.50:0.95 | area= small | maxDets=100 ] = 0.000\n",
      " Average Precision  (AP) @[ IoU=0.50:0.95 | area=medium | maxDets=100 ] = 0.037\n",
      " Average Precision  (AP) @[ IoU=0.50:0.95 | area= large | maxDets=100 ] = 0.259\n",
      " Average Recall     (AR) @[ IoU=0.50:0.95 | area=   all | maxDets=  1 ] = 0.145\n",
      " Average Recall     (AR) @[ IoU=0.50:0.95 | area=   all | maxDets= 10 ] = 0.225\n",
      " Average Recall     (AR) @[ IoU=0.50:0.95 | area=   all | maxDets=100 ] = 0.225\n",
      " Average Recall     (AR) @[ IoU=0.50:0.95 | area= small | maxDets=100 ] = 0.000\n",
      " Average Recall     (AR) @[ IoU=0.50:0.95 | area=medium | maxDets=100 ] = 0.044\n",
      " Average Recall     (AR) @[ IoU=0.50:0.95 | area= large | maxDets=100 ] = 0.345\n"
     ]
    },
    {
     "name": "stderr",
     "output_type": "stream",
     "text": [
      "libpng warning: iCCP: known incorrect sRGB profile\n",
      "libpng warning: iCCP: known incorrect sRGB profile\n",
      "libpng warning: iCCP: known incorrect sRGB profile\n"
     ]
    },
    {
     "name": "stdout",
     "output_type": "stream",
     "text": [
      "Epoch: [9]  [ 0/77]  eta: 0:02:40  lr: 0.000005  loss: 0.2064 (0.2064)  loss_classifier: 0.1074 (0.1074)  loss_box_reg: 0.0946 (0.0946)  loss_objectness: 0.0014 (0.0014)  loss_rpn_box_reg: 0.0030 (0.0030)  time: 2.0873  data: 1.4059  max mem: 4959\n"
     ]
    },
    {
     "name": "stderr",
     "output_type": "stream",
     "text": [
      "libpng warning: iCCP: known incorrect sRGB profile\n",
      "libpng warning: iCCP: known incorrect sRGB profile\n"
     ]
    },
    {
     "name": "stdout",
     "output_type": "stream",
     "text": [
      "Epoch: [9]  [10/77]  eta: 0:00:52  lr: 0.000005  loss: 0.1073 (0.1113)  loss_classifier: 0.0341 (0.0455)  loss_box_reg: 0.0608 (0.0612)  loss_objectness: 0.0010 (0.0021)  loss_rpn_box_reg: 0.0023 (0.0024)  time: 0.7822  data: 0.1562  max mem: 4959\n"
     ]
    },
    {
     "name": "stderr",
     "output_type": "stream",
     "text": [
      "libpng warning: iCCP: known incorrect sRGB profile\n",
      "libpng warning: iCCP: known incorrect sRGB profile\n",
      "libpng warning: iCCP: known incorrect sRGB profile\n",
      "libpng warning: iCCP: known incorrect sRGB profile\n"
     ]
    },
    {
     "name": "stdout",
     "output_type": "stream",
     "text": [
      "Epoch: [9]  [20/77]  eta: 0:00:40  lr: 0.000005  loss: 0.1020 (0.1099)  loss_classifier: 0.0368 (0.0437)  loss_box_reg: 0.0575 (0.0617)  loss_objectness: 0.0006 (0.0020)  loss_rpn_box_reg: 0.0018 (0.0024)  time: 0.6488  data: 0.0323  max mem: 4959\n"
     ]
    },
    {
     "name": "stderr",
     "output_type": "stream",
     "text": [
      "libpng warning: iCCP: known incorrect sRGB profile\n",
      "libpng warning: iCCP: known incorrect sRGB profile\n"
     ]
    },
    {
     "name": "stdout",
     "output_type": "stream",
     "text": [
      "Epoch: [9]  [30/77]  eta: 0:00:32  lr: 0.000005  loss: 0.1188 (0.1124)  loss_classifier: 0.0444 (0.0435)  loss_box_reg: 0.0607 (0.0644)  loss_objectness: 0.0004 (0.0019)  loss_rpn_box_reg: 0.0026 (0.0027)  time: 0.6504  data: 0.0335  max mem: 4959\n"
     ]
    },
    {
     "name": "stderr",
     "output_type": "stream",
     "text": [
      "libpng warning: iCCP: known incorrect sRGB profile\n",
      "libpng warning: iCCP: known incorrect sRGB profile\n",
      "libpng warning: iCCP: known incorrect sRGB profile\n",
      "libpng warning: iCCP: known incorrect sRGB profile\n",
      "libpng warning: iCCP: known incorrect sRGB profile\n",
      "libpng warning: iCCP: known incorrect sRGB profile\n",
      "libpng warning: iCCP: known incorrect sRGB profile\n",
      "libpng warning: iCCP: known incorrect sRGB profile\n"
     ]
    },
    {
     "name": "stdout",
     "output_type": "stream",
     "text": [
      "Epoch: [9]  [40/77]  eta: 0:00:25  lr: 0.000005  loss: 0.1193 (0.1183)  loss_classifier: 0.0457 (0.0440)  loss_box_reg: 0.0702 (0.0696)  loss_objectness: 0.0014 (0.0019)  loss_rpn_box_reg: 0.0028 (0.0027)  time: 0.6504  data: 0.0326  max mem: 4959\n"
     ]
    },
    {
     "name": "stderr",
     "output_type": "stream",
     "text": [
      "libpng warning: iCCP: known incorrect sRGB profile\n",
      "libpng warning: iCCP: known incorrect sRGB profile\n",
      "libpng warning: iCCP: known incorrect sRGB profile\n",
      "libpng warning: iCCP: known incorrect sRGB profile\n",
      "libpng warning: iCCP: known incorrect sRGB profile\n",
      "libpng warning: iCCP: known incorrect sRGB profile\n",
      "libpng warning: iCCP: known incorrect sRGB profile\n"
     ]
    },
    {
     "name": "stdout",
     "output_type": "stream",
     "text": [
      "Epoch: [9]  [50/77]  eta: 0:00:18  lr: 0.000005  loss: 0.1142 (0.1178)  loss_classifier: 0.0457 (0.0440)  loss_box_reg: 0.0785 (0.0694)  loss_objectness: 0.0010 (0.0017)  loss_rpn_box_reg: 0.0026 (0.0027)  time: 0.6459  data: 0.0319  max mem: 4959\n"
     ]
    },
    {
     "name": "stderr",
     "output_type": "stream",
     "text": [
      "libpng warning: iCCP: known incorrect sRGB profile\n",
      "libpng warning: iCCP: known incorrect sRGB profile\n"
     ]
    },
    {
     "name": "stdout",
     "output_type": "stream",
     "text": [
      "Epoch: [9]  [60/77]  eta: 0:00:11  lr: 0.000005  loss: 0.1013 (0.1168)  loss_classifier: 0.0407 (0.0433)  loss_box_reg: 0.0604 (0.0693)  loss_objectness: 0.0005 (0.0016)  loss_rpn_box_reg: 0.0019 (0.0026)  time: 0.6454  data: 0.0322  max mem: 4959\n"
     ]
    },
    {
     "name": "stderr",
     "output_type": "stream",
     "text": [
      "libpng warning: iCCP: known incorrect sRGB profile\n"
     ]
    },
    {
     "name": "stdout",
     "output_type": "stream",
     "text": [
      "Epoch: [9]  [70/77]  eta: 0:00:04  lr: 0.000005  loss: 0.1132 (0.1177)  loss_classifier: 0.0415 (0.0438)  loss_box_reg: 0.0691 (0.0697)  loss_objectness: 0.0007 (0.0017)  loss_rpn_box_reg: 0.0022 (0.0026)  time: 0.6490  data: 0.0329  max mem: 4959\n",
      "Epoch: [9]  [76/77]  eta: 0:00:00  lr: 0.000005  loss: 0.1202 (0.1194)  loss_classifier: 0.0420 (0.0445)  loss_box_reg: 0.0735 (0.0706)  loss_objectness: 0.0012 (0.0017)  loss_rpn_box_reg: 0.0021 (0.0026)  time: 0.6385  data: 0.0312  max mem: 4959\n",
      "Epoch: [9] Total time: 0:00:51 (0.6653 s / it)\n",
      "creating index...\n",
      "index created!\n",
      "Test:  [ 0/20]  eta: 0:00:20  model_time: 0.2752 (0.2752)  evaluator_time: 0.0031 (0.0031)  time: 1.0162  data: 0.6394  max mem: 4959\n",
      "Test:  [19/20]  eta: 0:00:00  model_time: 0.2568 (0.2580)  evaluator_time: 0.0031 (0.0035)  time: 0.3512  data: 0.0579  max mem: 4959\n",
      "Test: Total time: 0:00:07 (0.3530 s / it)\n",
      "Averaged stats: model_time: 0.2568 (0.2580)  evaluator_time: 0.0031 (0.0035)\n",
      "Accumulating evaluation results...\n",
      "DONE (t=0.02s).\n",
      "IoU metric: bbox\n",
      " Average Precision  (AP) @[ IoU=0.50:0.95 | area=   all | maxDets=100 ] = 0.169\n",
      " Average Precision  (AP) @[ IoU=0.50      | area=   all | maxDets=100 ] = 0.416\n",
      " Average Precision  (AP) @[ IoU=0.75      | area=   all | maxDets=100 ] = 0.089\n",
      " Average Precision  (AP) @[ IoU=0.50:0.95 | area= small | maxDets=100 ] = 0.000\n",
      " Average Precision  (AP) @[ IoU=0.50:0.95 | area=medium | maxDets=100 ] = 0.037\n",
      " Average Precision  (AP) @[ IoU=0.50:0.95 | area= large | maxDets=100 ] = 0.259\n",
      " Average Recall     (AR) @[ IoU=0.50:0.95 | area=   all | maxDets=  1 ] = 0.145\n",
      " Average Recall     (AR) @[ IoU=0.50:0.95 | area=   all | maxDets= 10 ] = 0.225\n",
      " Average Recall     (AR) @[ IoU=0.50:0.95 | area=   all | maxDets=100 ] = 0.225\n",
      " Average Recall     (AR) @[ IoU=0.50:0.95 | area= small | maxDets=100 ] = 0.000\n",
      " Average Recall     (AR) @[ IoU=0.50:0.95 | area=medium | maxDets=100 ] = 0.044\n",
      " Average Recall     (AR) @[ IoU=0.50:0.95 | area= large | maxDets=100 ] = 0.345\n"
     ]
    }
   ],
   "source": [
    "# training for 10 epochs\n",
    "num_epochs = 10\n",
    "for epoch in range(num_epochs):\n",
    "    # training for one epoch\n",
    "    train_one_epoch(model, optimizer, data_loader_train, device, epoch, print_freq=10)\n",
    "    # update the learning rate\n",
    "    lr_scheduler.step()\n",
    "    # evaluate on the test dataset\n",
    "    evaluate(model, data_loader_test, device=device)"
   ]
  },
  {
   "cell_type": "code",
   "execution_count": null,
   "id": "42ab4606",
   "metadata": {
    "papermill": {
     "duration": 0.051067,
     "end_time": "2024-06-17T17:27:30.850130",
     "exception": false,
     "start_time": "2024-06-17T17:27:30.799063",
     "status": "completed"
    },
    "tags": []
   },
   "outputs": [],
   "source": []
  }
 ],
 "metadata": {
  "kaggle": {
   "accelerator": "gpu",
   "dataSources": [
    {
     "datasetId": 5216168,
     "sourceId": 8697598,
     "sourceType": "datasetVersion"
    },
    {
     "datasetId": 304145,
     "sourceId": 620468,
     "sourceType": "datasetVersion"
    }
   ],
   "dockerImageVersionId": 30733,
   "isGpuEnabled": true,
   "isInternetEnabled": true,
   "language": "python",
   "sourceType": "notebook"
  },
  "kernelspec": {
   "display_name": "Python 3",
   "language": "python",
   "name": "python3"
  },
  "language_info": {
   "codemirror_mode": {
    "name": "ipython",
    "version": 3
   },
   "file_extension": ".py",
   "mimetype": "text/x-python",
   "name": "python",
   "nbconvert_exporter": "python",
   "pygments_lexer": "ipython3",
   "version": "3.10.13"
  },
  "papermill": {
   "default_parameters": {},
   "duration": 738.506301,
   "end_time": "2024-06-17T17:27:33.287183",
   "environment_variables": {},
   "exception": null,
   "input_path": "__notebook__.ipynb",
   "output_path": "__notebook__.ipynb",
   "parameters": {},
   "start_time": "2024-06-17T17:15:14.780882",
   "version": "2.5.0"
  }
 },
 "nbformat": 4,
 "nbformat_minor": 5
}
